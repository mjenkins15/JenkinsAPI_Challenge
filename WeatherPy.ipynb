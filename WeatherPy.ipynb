{
 "cells": [
  {
   "cell_type": "markdown",
   "metadata": {},
   "source": [
    "# WeatherPy\n",
    "----\n",
    "\n",
    "#### Note\n",
    "* Instructions have been included for each segment. You do not have to follow them exactly, but they are included to help you think through the steps."
   ]
  },
  {
   "cell_type": "code",
   "execution_count": 1,
   "metadata": {
    "scrolled": true
   },
   "outputs": [],
   "source": [
    "# Dependencies and Setup\n",
    "import matplotlib.pyplot as plt\n",
    "import pandas as pd\n",
    "import numpy as np\n",
    "import requests\n",
    "import time\n",
    "from scipy.stats import linregress\n",
    "from scipy import stats\n",
    "import json\n",
    "from pprint import pprint\n",
    "\n",
    "# Import API key\n",
    "from api_keys import weather_api_key\n",
    "\n",
    "\n",
    "\n",
    "# Incorporated citipy to determine city based on latitude and longitude\n",
    "from citipy import citipy\n",
    "\n",
    "# Output File (CSV)\n",
    "output_data_file = \"output_data/cities.csv\"\n",
    "\n",
    "# Range of latitudes and longitudes\n",
    "lat_range = (-90, 90)\n",
    "lng_range = (-180, 180)"
   ]
  },
  {
   "cell_type": "markdown",
   "metadata": {},
   "source": [
    "## Generate Cities List"
   ]
  },
  {
   "cell_type": "code",
   "execution_count": 2,
   "metadata": {},
   "outputs": [
    {
     "data": {
      "text/plain": [
       "590"
      ]
     },
     "execution_count": 2,
     "metadata": {},
     "output_type": "execute_result"
    }
   ],
   "source": [
    "# List for holding lat_lngs and cities\n",
    "lat_lngs = []\n",
    "cities = []\n",
    "\n",
    "# Create a set of random lat and lng combinations\n",
    "lats = np.random.uniform(low=-90.000, high=90.000, size=1500)\n",
    "lngs = np.random.uniform(low=-180.000, high=180.000, size=1500)\n",
    "lat_lngs = zip(lats, lngs)\n",
    "\n",
    "# Identify nearest city for each lat, lng combination\n",
    "for lat_lng in lat_lngs:\n",
    "    city = citipy.nearest_city(lat_lng[0], lat_lng[1]).city_name\n",
    "    \n",
    "    # If the city is unique, then add it to a our cities list\n",
    "    if city not in cities:\n",
    "        cities.append(city)\n",
    "\n",
    "# Print the city count to confirm sufficient count\n",
    "len(cities)"
   ]
  },
  {
   "cell_type": "markdown",
   "metadata": {},
   "source": [
    "### Perform API Calls\n",
    "* Perform a weather check on each city using a series of successive API calls.\n",
    "* Include a print log of each city as it'sbeing processed (with the city number and city name).\n"
   ]
  },
  {
   "cell_type": "code",
   "execution_count": 3,
   "metadata": {},
   "outputs": [
    {
     "name": "stdout",
     "output_type": "stream",
     "text": [
      "{'base': 'stations',\n",
      " 'clouds': {'all': 100},\n",
      " 'cod': 200,\n",
      " 'coord': {'lat': 35, 'lon': 139},\n",
      " 'dt': 1587432790,\n",
      " 'id': 1851632,\n",
      " 'main': {'feels_like': 292.13,\n",
      "          'humidity': 55,\n",
      "          'pressure': 1007,\n",
      "          'temp': 293.15,\n",
      "          'temp_max': 293.15,\n",
      "          'temp_min': 293.15},\n",
      " 'name': 'Shuzenji',\n",
      " 'sys': {'country': 'JP',\n",
      "         'id': 2003105,\n",
      "         'sunrise': 1587413065,\n",
      "         'sunset': 1587460836,\n",
      "         'type': 3},\n",
      " 'timezone': 32400,\n",
      " 'weather': [{'description': 'overcast clouds',\n",
      "              'icon': '04d',\n",
      "              'id': 804,\n",
      "              'main': 'Clouds'}],\n",
      " 'wind': {'deg': 270, 'gust': 1.79, 'speed': 1.79}}\n"
     ]
    }
   ],
   "source": [
    "#Day 2 APIs, Activity 5 for reference\n",
    "\n",
    "url= f\"http://api.openweathermap.org/data/2.5/weather?lat=35&lon=139&appid={weather_api_key}\"\n",
    "units = \"imperial\"\n",
    "\n",
    "\n",
    "#Build partial query URl\n",
    "query_url = f\"{url}appid={weather_api_key}&units={units}&q=\"\n",
    "response = requests.get(url)\n",
    "weather =response.json()\n",
    "\n",
    "pprint(weather)\n",
    "#response.text\n"
   ]
  },
  {
   "cell_type": "code",
   "execution_count": 4,
   "metadata": {},
   "outputs": [
    {
     "name": "stdout",
     "output_type": "stream",
     "text": [
      "Success hami\n",
      "Success ponta do sol\n",
      "Success albany\n",
      "Success tuktoyaktuk\n",
      "Unknown Data for:tumannyy\n",
      "Success ushuaia\n",
      "Success saint george\n",
      "Success rikitea\n",
      "Unknown Data for:taolanaro\n",
      "Success hobart\n",
      "Unknown Data for:lolua\n",
      "Success son la\n",
      "Success bemidji\n",
      "Success kruisfontein\n",
      "Success marsa matruh\n",
      "Success hithadhoo\n",
      "Success faya\n",
      "Success poronaysk\n",
      "Success collie\n",
      "Success butaritari\n",
      "Success bredasdorp\n",
      "Success rocha\n",
      "Unknown Data for:barentsburg\n",
      "Success dikson\n",
      "Success fillmore\n",
      "Success flinders\n",
      "Success castro\n",
      "Success dayong\n",
      "Success barquisimeto\n",
      "Success santo amaro das brotas\n",
      "Success vanavara\n",
      "Success puerto ayora\n",
      "Success busselton\n",
      "Unknown Data for:mys shmidta\n",
      "Success sitka\n",
      "Success naryan-mar\n",
      "Unknown Data for:zlatoustovsk\n",
      "Success nanortalik\n",
      "Success longyearbyen\n",
      "Success noumea\n",
      "Success port hardy\n",
      "Success airai\n",
      "Success sambava\n",
      "Success port elizabeth\n",
      "Unknown Data for:grand river south east\n",
      "Success smolenka\n",
      "Unknown Data for:zhanatas\n",
      "Success new norfolk\n",
      "Success iqaluit\n",
      "Success sao filipe\n",
      "Success ribeira grande\n",
      "Success tasiilaq\n",
      "Unknown Data for:sataua\n",
      "Success bambous virieux\n",
      "Success bluff\n",
      "Success khandyga\n",
      "Success soyo\n",
      "Success gat\n",
      "Success alyangula\n",
      "Success dolores\n",
      "Success hokitika\n",
      "Success mount isa\n",
      "Success praia\n",
      "Success hasaki\n",
      "Success arraial do cabo\n",
      "Success caravelas\n",
      "Success nikolskoye\n",
      "Success talnakh\n",
      "Success yellowknife\n",
      "Success alofi\n",
      "Success hofn\n",
      "Success geraldton\n",
      "Success esmeraldas\n",
      "Success nishihara\n",
      "Success gravdal\n",
      "Unknown Data for:amderma\n",
      "Success hun\n",
      "Success khatanga\n",
      "Success faanui\n",
      "Success tuatapere\n",
      "Success jamestown\n",
      "Success vaini\n",
      "Success antofagasta\n",
      "Success punta arenas\n",
      "Success luderitz\n",
      "Success fortuna\n",
      "Success jalu\n",
      "Success carnarvon\n",
      "Success port lincoln\n",
      "Success mataura\n",
      "Success pangnirtung\n",
      "Unknown Data for:belushya guba\n",
      "Success ilulissat\n",
      "Success stornoway\n",
      "Success college\n",
      "Success saldanha\n",
      "Success pacific grove\n",
      "Success dunedin\n",
      "Success leh\n",
      "Success batagay\n",
      "Success georgetown\n",
      "Success zhigansk\n",
      "Success sovetskiy\n",
      "Success east london\n",
      "Success moron\n",
      "Success guerrero negro\n",
      "Success san patricio\n",
      "Success mahebourg\n",
      "Success north vanlaiphai\n",
      "Success chokurdakh\n",
      "Success alice springs\n",
      "Success hermanus\n",
      "Success bairiki\n",
      "Success tiksi\n",
      "Success leningradskiy\n",
      "Unknown Data for:haibowan\n",
      "Success namibe\n",
      "Success san cristobal\n",
      "Success atar\n",
      "Success kutum\n",
      "Success saint-philippe\n",
      "Success ancud\n",
      "Success ghanzi\n",
      "Success hilo\n",
      "Success aitape\n",
      "Success cape town\n",
      "Success fairbanks\n",
      "Success quelimane\n",
      "Success port alfred\n",
      "Success fort nelson\n",
      "Success korla\n",
      "Success victoria\n",
      "Success qaanaaq\n",
      "Success atasu\n",
      "Success klaksvik\n",
      "Success saint-francois\n",
      "Success kahului\n",
      "Success kapaa\n",
      "Unknown Data for:bolshegrivskoye\n",
      "Success brekstad\n",
      "Success bereda\n",
      "Unknown Data for:vaitupu\n",
      "Success saskylakh\n",
      "Success yulara\n",
      "Success olafsvik\n",
      "Success san quintin\n",
      "Success mersing\n",
      "Success mekhe\n",
      "Success katsuura\n",
      "Success barrow\n",
      "Success oriximina\n",
      "Unknown Data for:nizhneyansk\n",
      "Success pimentel\n",
      "Success gallup\n",
      "Success pingxiang\n",
      "Success winnemucca\n",
      "Success doha\n",
      "Success vestmannaeyjar\n",
      "Success tabou\n",
      "Success sinnamary\n",
      "Success kodiak\n",
      "Success atuona\n",
      "Success lavrentiya\n",
      "Success cuamba\n",
      "Success greenwood\n",
      "Success pasighat\n",
      "Success ostrovnoy\n",
      "Success sakakah\n",
      "Success becerril\n",
      "Success narsaq\n",
      "Success lata\n",
      "Success bengkulu\n",
      "Success calama\n",
      "Success quatre cocos\n",
      "Success batagay-alyta\n",
      "Success aykino\n",
      "Success garsten\n",
      "Success upernavik\n",
      "Success port blair\n",
      "Unknown Data for:banmo\n",
      "Success elk city\n",
      "Success torbay\n",
      "Success robertsport\n",
      "Success khandbari\n",
      "Success miram shah\n",
      "Unknown Data for:chagda\n",
      "Success haines junction\n",
      "Success kamaishi\n",
      "Success aripuana\n",
      "Success bolobo\n",
      "Success boguchar\n",
      "Success aguimes\n",
      "Success avarua\n",
      "Success eureka\n",
      "Success coquimbo\n",
      "Success sur\n",
      "Success mount gambier\n",
      "Success yamada\n",
      "Unknown Data for:halalo\n",
      "Unknown Data for:attawapiskat\n",
      "Success dali\n",
      "Success sobolevo\n",
      "Success vila velha\n",
      "Success mao\n",
      "Success cherskiy\n",
      "Success makarov\n",
      "Success tarakan\n",
      "Success vostok\n",
      "Success auki\n",
      "Success salalah\n",
      "Success bani\n",
      "Success namatanai\n",
      "Success muros\n",
      "Success richards bay\n",
      "Success asau\n",
      "Success samana\n",
      "Success asyut\n",
      "Success bandarbeyla\n",
      "Success neath\n",
      "Success gorontalo\n",
      "Success severo-kurilsk\n",
      "Success kontagora\n",
      "Success luba\n",
      "Success hamilton\n",
      "Success mar del plata\n",
      "Success tura\n",
      "Success jodhpur\n",
      "Success sistranda\n",
      "Success buraydah\n",
      "Success tommot\n",
      "Success atambua\n",
      "Success aurora\n",
      "Success panzhihua\n",
      "Success lompoc\n",
      "Success mariinsk\n",
      "Success kavieng\n",
      "Success te anau\n",
      "Success vila franca do campo\n",
      "Success beaupre\n",
      "Success singaparna\n",
      "Success cap malheureux\n",
      "Success kloulklubed\n",
      "Success samarai\n",
      "Success husavik\n",
      "Success cabo san lucas\n",
      "Success pisco\n",
      "Success orange\n",
      "Success touros\n",
      "Success naze\n",
      "Success krasnyy kut\n",
      "Success provideniya\n",
      "Success tukrah\n",
      "Success alta floresta\n",
      "Success thompson\n",
      "Success malangali\n",
      "Success inta\n",
      "Success belyy yar\n",
      "Success lebu\n",
      "Success ovsyanka\n",
      "Success esfarayen\n",
      "Success esperance\n",
      "Success pevek\n",
      "Success turayf\n",
      "Success aden\n",
      "Success saint anthony\n",
      "Success kisangani\n",
      "Success cuicatlan\n",
      "Success lahaina\n",
      "Success beringovskiy\n",
      "Unknown Data for:lar gerd\n",
      "Success kaduqli\n",
      "Unknown Data for:galiwinku\n",
      "Success barra do garcas\n",
      "Success acapulco\n",
      "Success isangel\n",
      "Success praia da vitoria\n",
      "Success praya\n",
      "Success port-gentil\n",
      "Success virden\n",
      "Success micheweni\n",
      "Success maceio\n",
      "Success qeshm\n",
      "Success taian\n",
      "Success okha\n",
      "Success shakiso\n",
      "Success tilichiki\n",
      "Success visby\n",
      "Success chalus\n",
      "Success khani\n",
      "Success jinxiang\n",
      "Success galle\n",
      "Unknown Data for:sentyabrskiy\n",
      "Success zhezkazgan\n",
      "Success tadine\n",
      "Success los llanos de aridane\n",
      "Success paita\n",
      "Success kungurtug\n",
      "Unknown Data for:barawe\n",
      "Unknown Data for:aflu\n",
      "Success victorville\n",
      "Success buala\n",
      "Success saint-joseph\n",
      "Unknown Data for:palabuhanratu\n",
      "Success grand gaube\n",
      "Success saint-pierre\n",
      "Success karratha\n",
      "Success bethel\n",
      "Success inhambane\n",
      "Unknown Data for:samusu\n",
      "Unknown Data for:tsihombe\n",
      "Success pala\n",
      "Success alanya\n",
      "Success lagos\n",
      "Success birao\n",
      "Success saurimo\n",
      "Success kavaratti\n",
      "Success sibolga\n",
      "Success vardo\n",
      "Success alpine\n",
      "Success almeirim\n",
      "Success rexburg\n",
      "Success broken hill\n",
      "Success kem\n",
      "Success kuusamo\n",
      "Success poya\n",
      "Success salta\n",
      "Success yavaros\n",
      "Success christchurch\n",
      "Success cockburn town\n",
      "Success deputatskiy\n",
      "Success varbilau\n",
      "Success yining\n",
      "Success sola\n",
      "Success oyama\n",
      "Success ballina\n",
      "Success paragominas\n",
      "Success maniitsoq\n",
      "Success ilo\n",
      "Success san vicente de canete\n",
      "Success colares\n",
      "Success chuy\n",
      "Success juegang\n",
      "Success portland\n",
      "Success miguel calmon\n",
      "Success hauterive\n",
      "Success karpogory\n",
      "Success rantepao\n",
      "Success thinadhoo\n",
      "Success cabo rojo\n",
      "Success severnyy\n",
      "Success rawson\n",
      "Success gao\n",
      "Success komsomolskiy\n",
      "Success ahipara\n",
      "Success mamallapuram\n",
      "Success paoua\n",
      "Success prattville\n",
      "Success codrington\n",
      "Unknown Data for:wolmaranstad\n",
      "Unknown Data for:malwan\n",
      "Unknown Data for:umzimvubu\n",
      "Success tautira\n",
      "Success sabang\n",
      "Success cayenne\n",
      "Success la ronge\n",
      "Success caceres\n",
      "Success awbari\n",
      "Success danielskuil\n",
      "Success carutapera\n",
      "Success imperial beach\n",
      "Success sandi\n",
      "Success raga\n",
      "Success ahwa\n",
      "Unknown Data for:addi ugri\n",
      "Success hohhot\n",
      "Success dudinka\n",
      "Success mazamari\n",
      "Success kainantu\n",
      "Success novyy urengoy\n",
      "Success garissa\n",
      "Success tekeli\n",
      "Success makaha\n",
      "Success gambela\n",
      "Success groningen\n",
      "Success nampula\n",
      "Success yar-sale\n",
      "Success cururupu\n",
      "Success laguna\n",
      "Success northam\n",
      "Unknown Data for:buariki\n",
      "Success margate\n",
      "Success samarkand\n",
      "Unknown Data for:bajo baudo\n",
      "Unknown Data for:illoqqortoormiut\n",
      "Success san alberto\n",
      "Unknown Data for:wahran\n",
      "Success puerto leguizamo\n",
      "Success bull savanna\n",
      "Success port hawkesbury\n",
      "Success sterlibashevo\n",
      "Success gberia fotombu\n",
      "Success bhadra\n",
      "Success russell\n",
      "Success benguela\n",
      "Success sisimiut\n",
      "Success novorudnyy\n",
      "Success atlantic city\n",
      "Success kendari\n",
      "Success otavi\n",
      "Success snyder\n",
      "Success berlevag\n",
      "Unknown Data for:balimo\n",
      "Unknown Data for:borama\n",
      "Success tungor\n",
      "Success tobermory\n",
      "Success agirish\n",
      "Success adre\n",
      "Unknown Data for:ozgon\n",
      "Success sibu\n",
      "Success kaitangata\n",
      "Success aasiaat\n",
      "Success manakara\n",
      "Success nelson bay\n",
      "Success galveston\n",
      "Unknown Data for:gorno-chuyskiy\n",
      "Success eyl\n",
      "Success porto walter\n",
      "Success morro bay\n",
      "Success kazerun\n",
      "Success basco\n",
      "Success constantine\n",
      "Success lyngdal\n",
      "Success kudahuvadhoo\n",
      "Success mareeba\n",
      "Success lisakovsk\n",
      "Success axim\n",
      "Success marawi\n",
      "Success kpandae\n",
      "Success cidreira\n",
      "Success half moon bay\n",
      "Success taoudenni\n",
      "Success katima mulilo\n",
      "Success burns lake\n",
      "Success siguiri\n",
      "Success joigny\n",
      "Success jacqueville\n",
      "Success cartagena\n",
      "Success abu samrah\n",
      "Success ilhabela\n",
      "Success kampot\n",
      "Success yerbogachen\n",
      "Unknown Data for:urdzhar\n",
      "Success misratah\n",
      "Success sao miguel do iguacu\n",
      "Success znamenskoye\n"
     ]
    },
    {
     "name": "stdout",
     "output_type": "stream",
     "text": [
      "Success zelenoborskiy\n",
      "Success taraz\n",
      "Success comodoro rivadavia\n",
      "Success sal rei\n",
      "Success baculin\n",
      "Success ulladulla\n",
      "Success makuyuni\n",
      "Success roma\n",
      "Unknown Data for:sorvag\n",
      "Success pershotravneve\n",
      "Success mutis\n",
      "Success baracoa\n",
      "Success ikom\n",
      "Success mayo\n",
      "Success owando\n",
      "Success vao\n",
      "Success cadereyta\n",
      "Success aksu\n",
      "Success cap-aux-meules\n",
      "Success bubaque\n",
      "Success elizabeth city\n",
      "Success san rafael\n",
      "Unknown Data for:yuzhno-yeniseyskiy\n",
      "Success maragogi\n",
      "Success sale\n",
      "Success filadelfia\n",
      "Unknown Data for:saleaula\n",
      "Unknown Data for:marcona\n",
      "Success tari\n",
      "Success talakan\n",
      "Success lagoa\n",
      "Success teya\n",
      "Success talcher\n",
      "Unknown Data for:wazzan\n",
      "Success natal\n",
      "Success irbil\n",
      "Success churhat\n",
      "Success clyde river\n",
      "Success mikhaylovka\n",
      "Success hede\n",
      "Success gamba\n",
      "Success mount pleasant\n",
      "Success strezhevoy\n",
      "Success meulaboh\n",
      "Unknown Data for:ijaki\n",
      "Success gimbi\n",
      "Success lorengau\n",
      "Success nome\n",
      "Success oulainen\n",
      "Success burdur\n",
      "Success anloga\n",
      "Success taitung\n",
      "Success severnoye\n",
      "Success koslan\n",
      "Success ananas\n",
      "Success coihaique\n",
      "Success sao joao da barra\n",
      "Success saint-augustin\n",
      "Success baranchinskiy\n",
      "Success waipawa\n",
      "Success bama\n",
      "Success little rock\n",
      "Success sovetskaya gavan\n",
      "Success kununurra\n",
      "Success mastic beach\n",
      "Success bara\n",
      "Success hobyo\n",
      "Success ambunti\n",
      "Success constitucion\n",
      "Success rocky mountain house\n",
      "Success petushki\n",
      "Success macamic\n",
      "Success nawabganj\n",
      "Success kirkenaer\n",
      "Success ludwigsfelde\n",
      "Success arlit\n",
      "Unknown Data for:ohaba lunga\n",
      "Success sao felix do xingu\n",
      "Success pangody\n",
      "Success stadtallendorf\n",
      "Success olinda\n",
      "Success hirara\n",
      "Success makakilo city\n",
      "Success mollendo\n",
      "Success pafos\n",
      "Unknown Data for:kavant\n",
      "Success mendi\n",
      "Success rawah\n",
      "Success whitehorse\n",
      "Success oranjestad\n",
      "Success vanimo\n",
      "Success port macquarie\n",
      "Unknown Data for:bargal\n",
      "Unknown Data for:bokspits\n",
      "Success norman wells\n",
      "Success bukama\n",
      "Success malanje\n",
      "Success miraflores\n",
      "Success kokopo\n",
      "Success omboue\n",
      "Success penzance\n",
      "Success baghdad\n",
      "Success santa cruz cabralia\n",
      "Success takoradi\n",
      "Success uige\n",
      "Unknown Data for:afmadu\n",
      "Success klyuchi\n",
      "Success todos santos\n",
      "Success camopi\n",
      "Success rio bravo\n",
      "Success seoul\n",
      "Success minas de barroteran\n",
      "Success ibra\n",
      "Success rapid valley\n",
      "Success najran\n",
      "Success santa helena de goias\n",
      "Success shimoda\n",
      "Success codajas\n",
      "Success shelburne\n",
      "Success hay river\n",
      "Success formosa\n",
      "Unknown Data for:balykshi\n",
      "Success burgeo\n",
      "Success metro\n",
      "Success lusambo\n",
      "Success srednekolymsk\n",
      "Success bintulu\n",
      "Success sao geraldo do araguaia\n",
      "Success greenville\n",
      "Unknown Data for:tlahualilo\n",
      "Success bilma\n",
      "Success qiryat shemona\n",
      "Success dengzhou\n",
      "Success matagami\n",
      "Success verkhoyansk\n",
      "{'coord': {'lon': 133.38, 'lat': 67.54}, 'weather': [{'id': 804, 'main': 'Clouds', 'description': 'overcast clouds', 'icon': '04d'}], 'base': 'stations', 'main': {'temp': 268.19, 'feels_like': 264.39, 'temp_min': 268.19, 'temp_max': 268.19, 'pressure': 1030, 'humidity': 88, 'sea_level': 1030, 'grnd_level': 1013}, 'wind': {'speed': 1.46, 'deg': 179}, 'clouds': {'all': 96}, 'dt': 1587432866, 'sys': {'country': 'RU', 'sunrise': 1587408722, 'sunset': 1587467876}, 'timezone': 36000, 'id': 2013465, 'name': 'Verkhoyansk', 'cod': 200}\n",
      "['Kumul', 'Ponta do Sol', 'Albany', 'Tuktoyaktuk', 'Ushuaia', 'Saint George', 'Rikitea', 'Hobart', 'Son La', 'Bemidji', 'Kruisfontein', 'Marsá Maţrūḩ', 'Hithadhoo', 'Faya', 'Poronaysk', 'Collie', 'Butaritari', 'Bredasdorp', 'Rocha', 'Dikson', 'Fillmore', 'Flinders', 'Castro', 'Dayong', 'Barquisimeto', 'Santo Amaro das Brotas', 'Vanavara', 'Puerto Ayora', 'Busselton', 'Sitka', 'Naryan-Mar', 'Nanortalik', 'Longyearbyen', 'Noumea', 'Port Hardy', 'Airai', 'Sambava', 'Port Elizabeth', 'Smolenka', 'New Norfolk', 'Iqaluit', 'São Filipe', 'Ribeira Grande', 'Tasiilaq', 'Bambous Virieux', 'Bluff', 'Khandyga', 'Soyo', 'Kiryat Gat', 'Alyangula', 'Dolores', 'Hokitika', 'Mount Isa', 'Praia', 'Hasaki', 'Arraial do Cabo', 'Caravelas', 'Nikolskoye', 'Talnakh', 'Yellowknife', 'Alofi', 'Hofn', 'Geraldton', 'Esmeraldas', 'Nishihara', 'Gravdal', 'Hūn', 'Khatanga', 'Faanui', 'Tuatapere', 'Jamestown', 'Vaini', 'Antofagasta', 'Punta Arenas', 'Lüderitz', 'Fortuna', 'Jalu', 'Carnarvon', 'Port Lincoln', 'Mataura', 'Pangnirtung', 'Ilulissat', 'Stornoway', 'College', 'Saldanha', 'Pacific Grove', 'Dunedin', 'Leh', 'Batagay', 'George Town', 'Zhigansk', 'Sovetskiy', 'East London', 'Morón', 'Guerrero Negro', 'San Patricio', 'Mahébourg', 'North Vanlaiphai', 'Chokurdakh', 'Alice Springs', 'Hermanus', 'Bairiki Village', 'Tiksi', 'Leningradskiy', 'Mossamedes', 'San Cristobal', 'Atar', 'Kutum', 'Saint-Philippe', 'Ancud', 'Ghanzi', 'Hilo', 'Aitape', 'Cape Town', 'Fairbanks', 'Quelimane', 'Port Alfred', 'Fort Nelson', 'Korla', 'Hong Kong', 'Qaanaaq', 'Atasū', 'Klaksvík', 'Saint-François', 'Kahului', 'Kapaa', 'Brekstad', 'Bereda', 'Saskylakh', 'Yulara', 'Olafsvik', 'San Quintín', 'Mersing', 'Mékhé', 'Katsuura', 'Barrow', 'Oriximiná', 'Pimentel', 'Gallup', 'Pingxiang', 'Winnemucca', 'Doha', 'Vestmannaeyjar', 'Tabou', 'Sinnamary', 'Saint Paul Harbor', 'Atuona', 'Lavrentiya', 'Cuamba', 'Greenwood', 'Pāsighāt', 'Ostrovnoy', 'Sakakah', 'Becerril', 'Narsaq', 'Lata', 'Bengkulu', 'Calama', 'Quatre Cocos', 'Batagay-Alyta', 'Aykino', 'Garsten', 'Upernavik', 'Port Blair', 'Elk City', 'Torbay', 'Robertsport', 'Khanbari', 'Miran Shah', 'Haines Junction', 'Kamaishi', 'Aripuanã', 'Bolobo', 'Boguchar', 'Agüimes', 'Avarua', 'Eureka', 'Coquimbo', 'Sur', 'Mount Gambier', 'Yamada', 'Dali', 'Sobolevo', 'Vila Velha', 'Mahon', 'Cherskiy', 'Makarov', 'Tarakan', 'Vostok', 'Auki', 'Salalah', 'Baní', 'Namatanai', 'Muros', 'Richards Bay', 'Asău', 'Samaná', 'Assiut', 'Bandarbeyla', 'Neath', 'Gorontalo', \"Severo-Kuril'sk\", 'Kontagora', 'Luba', 'Hamilton', 'Mar del Plata', 'Tura', 'Jodhpur', 'Sistranda', 'Buraidah', 'Tommot', 'Atambua', 'Aurora', 'Panzhihua', 'Lompoc', 'Mariinsk', 'Kavieng', 'Te Anau', 'Vila Franca do Campo', 'Beaupré', 'Singaparna', 'Cap Malheureux', 'Kloulklubed', 'Samarai', 'Husavik', 'Cabo San Lucas', 'Pisco', 'Orange', 'Touros', 'Naze', 'Krasnyy Kut', 'Provideniya', 'Tūkrah', 'Alta Floresta', 'Thompson', 'Malangali', 'Inta', 'Belyy Yar', 'Lebu', 'Ovsyanka', 'Esfarāyen', 'Esperance', 'Pevek', 'Turaif', 'Aden', 'Saint Anthony', 'Kisangani', 'Cuicatlan', 'Lahaina', 'Beringovskiy', 'Kaduqli', 'Barra do Garças', 'Acapulco de Juárez', 'Isangel', 'Praia da Vitória', 'Praia', 'Port-Gentil', 'Virden', 'Micheweni', 'Maceió', 'Qeshm', 'Tai’an', 'Okha', 'Shakiso', 'Tilichiki', 'Visby', 'Chālūs', 'Khani', 'Jinxiang', 'Galle', 'Zhezkazgan', 'Tadine', 'Los Llanos de Aridane', 'Paita', 'Kungurtug', 'Victorville', 'Buala', 'Saint-Joseph', 'Grand Gaube', 'Saint-Pierre', 'Karratha', 'Bethel', 'Inhambane', 'Pala', 'Alanya', 'Lagos', 'Birao', 'Saurimo', 'Kavaratti', 'Sibolga', 'Vardø', 'Alpine', 'Almeirim', 'Rexburg', 'Broken Hill', \"Kem'\", 'Kuusamo', 'Poya', 'Salta', 'Yavaros', 'Christchurch', 'Cockburn Town', 'Deputatsky', 'Vărbilău', 'Yining', 'Sola', 'Oyama', 'Ballina', 'Paragominas', 'Maniitsoq', 'Ilo', 'San Vicente de Cañete', 'Colares', 'Chui', 'Juegang', 'Portland', 'Miguel Calmon', 'Hauterive', 'Karpogory', 'Rantepao', 'Thinadhoo', 'Cabo Rojo', 'Severnyy', 'Rawson', 'Gao', 'Yangi Marg`ilon', 'Ahipara', 'Mahabalipuram', 'Paoua', 'Prattville', 'Codrington', 'Tautira', 'Sabang', 'Cayenne', 'La Ronge', 'Caceres', 'Ubari', 'Danielskuil', 'Carutapera', 'Imperial Beach', 'Sāndi', 'Raja', 'Ahwa', 'Hohhot', 'Dudinka', 'Mazamari', 'Kainantu', 'Novy Urengoy', 'Garissa', 'Tekeli', 'Makaha', 'Gambēla', 'Province of Groningen', 'Nampula', 'Yar-Sale', 'Cururupu', 'Laguna', 'Northam', 'Margate', 'Samarkand', 'San Alberto', 'Caucayá', 'Bull Savanna', 'Port Hawkesbury', 'Sterlibashevo', 'Gberia Fotombu', 'Bhādra', 'Russell', 'Benguela', 'Sisimiut', 'Novorudnyy', 'Atlantic City', 'Kendari', 'Otavi', 'Snyder', 'Berlevåg', 'Tungor', 'Tobermory', 'Agirish', 'Adré', 'Sibu', 'Kaitangata', 'Aasiaat', 'Manakara', 'Nelson Bay', 'Galveston', 'Eyl', 'Porto Walter', 'Morro Bay', 'Kāzerūn', 'Basco', 'Constantine', 'Lyngdal', 'Kudahuvadhoo', 'Mareeba', 'Līsakovsk', 'Esim', 'Marawi', 'Kpandae', 'Cidreira', 'Half Moon Bay', 'Taoudenni', 'Katima Mulilo', 'Burns Lake', 'Siguiri', 'Joigny', 'Jacqueville', 'Cartagena', 'Abu Samrah', 'Ilhabela', 'Kampot', 'Yerbogachën', 'Misratah', 'São Miguel do Iguaçu', 'Znamenskoye', 'Zelenoborskiy', 'Taraz', 'Comodoro Rivadavia', 'Sal Rei', 'Baculin', 'Ulladulla', 'Makuyuni', 'Rome', 'Pershotravneve', 'Bahía Solano', 'Baracoa', 'Ikom', 'Mayo', 'Owando', 'Vao', 'Cadereyta', 'Aksu', 'Cap-aux-Meules', 'Bubaque', 'Elizabeth City', 'San Rafael', 'Maragogi', 'Salé', 'Philadelphia', 'Tari', 'Talakan', 'Lagoa', 'Teya', 'Tālcher', 'Natal', 'Erbil', 'Churhat', 'Clyde River', 'Mikhaylovka', 'Hede', 'Gamba', 'Mt. Pleasant', 'Strezhevoy', 'Meulaboh', 'Gimbi', 'Lorengau', 'Nome', 'Oulainen', 'Burdur', 'Anloga', 'Taitung City', 'Severnoye', 'Koslan', 'Ananas', 'Coyhaique', 'São João da Barra', 'Saint-Augustin', 'Baranchinskiy', 'Waipawa', 'Bama', 'Little Rock', \"Sovetskaya Gavan'\", 'Kununurra', 'Mastic Beach', 'Bara', 'Hobyo', 'Ambunti', 'Constitución', 'Rocky Mountain House', 'Petushki', 'Macamic', 'Nawābganj', 'Kirkenær', 'Ludwigsfelde', 'Arlit', 'São Félix do Xingu', 'Pangody', 'Stadtallendorf', 'Olinda', 'Hirara', 'Makakilo City', 'Mollendo', 'Paphos', 'Mendi', 'Rāwah', 'Whitehorse', 'Oranjestad', 'Vanimo', 'Port Macquarie', 'Norman Wells', 'Bukama', 'Malanje', 'Miraflores', 'Kokopo', 'Omboué', 'Penzance', 'Baghdad', 'Santa Cruz Cabrália', 'Takoradze', 'Uíge', 'Klyuchi', 'Todos Santos', 'Camopi', 'Ciudad Río Bravo', 'Seoul', 'Minas de Barroterán', 'Ibrā’', 'Rapid Valley', 'Najrān', 'Santa Helena de Goiás', 'Shimoda', 'Codajás', 'Shelburne', 'Hay River', 'Formosa', 'Burgeo', 'Metro', 'Lusambo', 'Srednekolymsk', 'Bintulu', 'São Geraldo do Araguaia', 'Greenville', 'Bilma', 'Kiryat Shmona', 'Dengzhou', 'Matagami', 'Verkhoyansk']\n",
      "[19.420000000000016, 14.930000000000007, 4.110000000000014, -12.850000000000023, 6.149999999999977, 22.569999999999993, 25.360000000000014, 14.779999999999973, 33.410000000000025, 1.1999999999999886, 14.949999999999989, 14.149999999999977, 29.519999999999982, 13.649999999999977, 2.269999999999982, 18.870000000000005, 28.24000000000001, 17.149999999999977, 17.44999999999999, -0.06999999999999318, 8.529999999999973, 22.370000000000005, 12.129999999999995, 22.149999999999977, 23.410000000000025, 29.149999999999977, 3.9700000000000273, 27.279999999999973, 18.160000000000025, 7.149999999999977, -1.3600000000000136, -0.060000000000002274, -5.850000000000023, 25.839999999999975, 10.149999999999977, 22.819999999999993, 22.44999999999999, 17.149999999999977, -3.8500000000000227, 14.490000000000009, -17.74000000000001, 22.519999999999982, 15.220000000000027, 3.1499999999999773, 24.360000000000014, 15.70999999999998, -4.810000000000002, 26.399999999999977, 15.670000000000016, 31.149999999999977, 15.980000000000018, 13.279999999999973, 32.14999999999998, 22.149999999999977, 15.589999999999975, 22.970000000000027, 24.25999999999999, 4.949999999999989, 0.14999999999997726, -4.850000000000023, 29.149999999999977, 7.350000000000023, 19.149999999999977, 19.819999999999993, 20.769999999999982, 5.139999999999986, 21.779999999999973, -0.01999999999998181, 28.04000000000002, 15.70999999999998, 4.149999999999977, 29.149999999999977, 17.149999999999977, 6.980000000000018, 16.149999999999977, 12.470000000000027, 23.810000000000002, 23.149999999999977, 21.420000000000016, 15.70999999999998, -7.6200000000000045, -0.8500000000000227, 7.819999999999993, 6.199999999999989, 13.149999999999977, 14.269999999999982, 15.149999999999977, 0.8100000000000023, -4.920000000000016, 27.930000000000007, -2.5299999999999727, 2.990000000000009, 21.019999999999982, 20.99000000000001, 16.420000000000016, 28.149999999999977, 24.149999999999977, 28.819999999999993, -3.8999999999999773, 26.149999999999977, 13.480000000000018, 31.149999999999977, -2.980000000000018, -9.920000000000016, 23.850000000000023, 31.149999999999977, 21.100000000000023, 17.079999999999984, 19.720000000000027, 5.149999999999977, 16.910000000000025, 24.680000000000007, 29.19999999999999, 14.449999999999989, 5.810000000000002, 22.149999999999977, 18.480000000000018, 21.149999999999977, 16.480000000000018, 26.629999999999995, -15.050000000000011, 16.189999999999998, 5.149999999999977, 13.149999999999977, 25.810000000000002, 25.899999999999977, 4.519999999999982, 10.680000000000007, -2.680000000000007, 26.149999999999977, 7.560000000000002, 15.850000000000023, 29.149999999999977, 25.189999999999998, 16.25999999999999, -12.850000000000023, 26.149999999999977, 21.470000000000027, 16.769999999999982, 16.04000000000002, 21.149999999999977, 25.889999999999986, 8.339999999999975, 25.899999999999977, 25.930000000000007, 7.149999999999977, 28.110000000000014, -8.29000000000002, 16.55000000000001, 14.089999999999975, 25.079999999999984, -1.259999999999991, 20.149999999999977, 25.170000000000016, -1.8500000000000227, 9.379999999999995, 31.319999999999993, 15.149999999999977, 24.379999999999995, -2.4399999999999977, 0.660000000000025, 7.689999999999998, -2.740000000000009, 29.389999999999986, 13.759999999999991, 2.430000000000007, 26.920000000000016, 18.730000000000018, 20.20999999999998, 4.149999999999977, 13.149999999999977, 22.189999999999998, 23.279999999999973, 4.009999999999991, 17.069999999999993, 28.149999999999977, 12.560000000000002, 16.149999999999977, 30.970000000000027, 17.149999999999977, 12.199999999999989, 22.30000000000001, -0.25, 23.80000000000001, 15.149999999999977, -7.720000000000027, 0.7300000000000182, 28.95999999999998, 2.8100000000000023, 29.060000000000002, 27.149999999999977, 27.370000000000005, 29.649999999999977, 12.060000000000002, 20.49000000000001, 2.1399999999999864, 24.279999999999973, 17.149999999999977, 27.519999999999982, 9.639999999999986, 32.379999999999995, 1.079999999999984, 27.24000000000001, 26.149999999999977, 14, 16.220000000000027, 26.370000000000005, 30.019999999999982, 5.149999999999977, 17.149999999999977, -2.6999999999999886, 29.20999999999998, 14.970000000000027, 23.480000000000018, 14.699999999999989, 12.800000000000011, 29.680000000000007, 10.740000000000009, 15.149999999999977, 0.6999999999999886, 29.310000000000002, 24.589999999999975, 28.149999999999977, 29.230000000000018, 8.149999999999977, 25.25999999999999, 19.339999999999975, 17.139999999999986, 25.149999999999977, 20.129999999999995, 3.8899999999999864, -3.8500000000000227, 21.720000000000027, 22.269999999999982, -6.850000000000023, 15.889999999999986, 1.8000000000000114, 6.149999999999977, 11.470000000000027, 3.1499999999999773, 11.149999999999977, 18.149999999999977, -10.930000000000007, 16.149999999999977, 28.25999999999999, 7.199999999999989, 20.930000000000007, 26.649999999999977, 26.370000000000005, -8.259999999999991, 22.720000000000027, 21.910000000000025, 26.149999999999977, 27.149999999999977, 16.149999999999977, 22.149999999999977, 25.420000000000016, 15.899999999999977, 27.70999999999998, 25.149999999999977, 25.149999999999977, 15.70999999999998, -0.29000000000002046, 14.810000000000002, -5.889999999999986, 1.1499999999999773, 14.149999999999977, 12.149999999999977, 26.819999999999993, 29.29000000000002, 17.74000000000001, 26.600000000000023, 16.70999999999998, 23.350000000000023, 7.569999999999993, 14.5, 29.319999999999993, 19.75, 24.589999999999975, 20.019999999999982, 32.06, 6.889999999999986, 23.089999999999975, 25.410000000000025, 17.779999999999973, 27.149999999999977, 26.50999999999999, 17.350000000000023, 29.94999999999999, 31.639999999999986, 2.930000000000007, 15.449999999999989, 23.370000000000005, 16.04000000000002, 20.149999999999977, 0.5299999999999727, -0.8500000000000227, 26.19999999999999, 16.149999999999977, 26.819999999999993, 16.50999999999999, 26.680000000000007, -7.230000000000018, -4.2900000000000205, 13.870000000000005, 30.149999999999977, 18.639999999999986, 25.670000000000016, 22.50999999999999, -2.339999999999975, 20.339999999999975, 21.439999999999998, 12.129999999999995, 18.870000000000005, 13.480000000000018, 20.24000000000001, 20.870000000000005, 13.269999999999982, -0.4300000000000068, 28.75999999999999, 29.399999999999977, 25.730000000000018, 2.1499999999999773, 11.990000000000009, 31.100000000000023, 14.149999999999977, 18.649999999999977, 27.839999999999975, 22.930000000000007, 18.269999999999982, 16.99000000000001, 30.149999999999977, 29.94999999999999, 23.149999999999977, -0.8500000000000227, 9.589999999999975, 20.620000000000005, 18.569999999999993, 26.120000000000005, 16.670000000000016, 30.129999999999995, 23.529999999999973, 29.160000000000025, 1.1499999999999773, 0.14999999999997726, 22.170000000000016, 24.95999999999998, 0.5400000000000205, 25.379999999999995, 14.939999999999998, 26.019999999999982, 26.25999999999999, 8.5, 21.149999999999977, 0.9700000000000273, 25.04000000000002, 17.930000000000007, 9.220000000000027, 10.95999999999998, 14.149999999999977, 27.819999999999993, 23.350000000000023, 23.45999999999998, 1.490000000000009, 8.639999999999986, 24, 27.370000000000005, 19.100000000000023, 25.410000000000025, -3.3899999999999864, 7.149999999999977, 7.410000000000025, 32.69, 16.060000000000002, 24.149999999999977, 2.660000000000025, -0.05000000000001137, 4.589999999999975, 3.339999999999975, 21.339999999999975, 28.00999999999999, 14.589999999999975, -4.509999999999991, 20.69999999999999, 21.529999999999973, 22.060000000000002, 28.279999999999973, 21.860000000000014, 14.370000000000005, 19.689999999999998, 26.860000000000014, 13.149999999999977, 7.970000000000027, 29.180000000000007, 30.24000000000001, 8.740000000000009, 27.360000000000014, 30.54000000000002, 26.079999999999984, 19.569999999999993, 14.170000000000016, 25.00999999999999, 12.149999999999977, 9.319999999999993, 29.30000000000001, 9.589999999999975, 27.149999999999977, 26.95999999999998, 16.930000000000007, 21.629999999999995, 29.149999999999977, -0.5699999999999932, 21.160000000000025, 20.149999999999977, 12.670000000000016, -0.11000000000001364, 10.149999999999977, 10.149999999999977, 21.149999999999977, 30.79000000000002, 20.45999999999998, 20.939999999999998, 1.6999999999999886, -0.38999999999998636, 26.610000000000014, 26.79000000000002, 24.25999999999999, 10.75, 22.00999999999999, 24.889999999999986, 32.120000000000005, 15.620000000000005, 0.14999999999997726, 26.00999999999999, 10.220000000000027, 15.20999999999998, 26.00999999999999, 15.95999999999998, 9.660000000000025, 30.139999999999986, 5.170000000000016, 15.660000000000025, 6.600000000000023, 32.60000000000002, 26.180000000000007, 13.149999999999977, 30.860000000000014, -16.850000000000023, 3.480000000000018, 12.759999999999991, 23.939999999999998, 15.350000000000023, 4.149999999999977, 30.160000000000025, 14.75, 30.30000000000001, -0.5699999999999932, 1.259999999999991, 14.149999999999977, 28.149999999999977, 27.149999999999977, 13.879999999999995, 0.08999999999997499, 23.100000000000023, 5.149999999999977, 20.80000000000001, -0.7099999999999795, 3.6100000000000136, 16.189999999999998, 26.480000000000018, 18.79000000000002, 0.37000000000000455, 33.14999999999998, 6.860000000000014, 28.610000000000014, 28.899999999999977, 27.99000000000001, 15.850000000000023, 6.519999999999982, 1.160000000000025, 1.1499999999999773, 27.970000000000027, 4.199999999999989, 6.490000000000009, 28.49000000000001, 22.930000000000007, 0.05000000000001137, 6.610000000000014, 28.149999999999977, 24.970000000000027, 26.060000000000002, 19.80000000000001, 9.889999999999986, 22.339999999999975, 21.660000000000025, 8.569999999999993, 28.149999999999977, 30.20999999999998, 20.70999999999998, 1.1499999999999773, 19.70999999999998, 17.649999999999977, 25.930000000000007, 28.970000000000027, 23.610000000000014, 11.600000000000023, 20.149999999999977, 25.149999999999977, 27.25, 19.620000000000005, 17.930000000000007, 19.04000000000002, 22.379999999999995, 28.589999999999975, 11.149999999999977, 29.350000000000023, 28.30000000000001, 13.220000000000027, 16.149999999999977, 19.980000000000018, 19.660000000000025, 24.5, 4.7099999999999795, 1.1499999999999773, 21.149999999999977, 0.6200000000000045, 30.839999999999975, 20.19999999999999, -4.759999999999991, 26.980000000000018, 22.95999999999998, 10.149999999999977, 28.420000000000016, 18.860000000000014, 7.550000000000011, -0.8500000000000227, -4.810000000000002]\n",
      "[14, 59, 39, 84, 75, 25, 78, 51, 34, 40, 85, 82, 70, 76, 84, 66, 77, 63, 73, 97, 65, 56, 68, 83, 67, 66, 63, 74, 66, 87, 98, 88, 62, 88, 81, 54, 85, 88, 25, 74, 59, 76, 88, 84, 88, 62, 87, 85, 74, 55, 78, 67, 11, 73, 87, 75, 82, 86, 93, 49, 66, 82, 63, 77, 77, 93, 30, 97, 76, 62, 32, 74, 82, 81, 77, 76, 18, 49, 59, 62, 93, 42, 70, 75, 87, 67, 59, 18, 90, 94, 96, 92, 72, 88, 77, 69, 88, 22, 97, 31, 99, 70, 94, 92, 74, 55, 22, 18, 73, 100, 31, 54, 64, 100, 81, 100, 90, 30, 28, 69, 76, 34, 86, 87, 51, 65, 86, 98, 96, 41, 86, 81, 83, 34, 82, 78, 82, 81, 17, 84, 15, 61, 86, 87, 84, 87, 73, 93, 81, 87, 52, 96, 60, 79, 46, 97, 59, 22, 88, 85, 90, 45, 88, 71, 82, 93, 84, 44, 33, 57, 71, 94, 83, 78, 68, 74, 76, 87, 39, 67, 75, 21, 92, 73, 100, 94, 95, 72, 72, 73, 74, 95, 67, 94, 87, 69, 85, 59, 76, 61, 58, 89, 56, 100, 33, 77, 58, 32, 86, 100, 85, 63, 26, 40, 71, 43, 66, 70, 67, 59, 60, 75, 83, 73, 70, 41, 82, 73, 94, 72, 81, 68, 28, 89, 41, 60, 92, 48, 75, 34, 71, 68, 93, 63, 78, 36, 85, 47, 57, 94, 17, 84, 83, 88, 72, 73, 86, 57, 79, 88, 73, 20, 98, 60, 93, 77, 100, 93, 81, 70, 28, 81, 63, 72, 28, 63, 73, 73, 75, 73, 43, 52, 81, 55, 69, 88, 43, 66, 68, 55, 80, 77, 92, 25, 42, 94, 68, 74, 82, 39, 39, 80, 92, 83, 86, 79, 72, 50, 95, 77, 74, 74, 93, 74, 73, 40, 82, 93, 98, 43, 73, 73, 80, 43, 19, 58, 87, 88, 64, 82, 62, 66, 70, 100, 50, 94, 25, 30, 83, 63, 27, 52, 31, 19, 96, 52, 40, 96, 75, 24, 73, 42, 61, 100, 97, 89, 55, 79, 70, 71, 65, 73, 82, 64, 82, 75, 32, 82, 82, 87, 100, 57, 51, 32, 38, 80, 98, 80, 83, 16, 78, 57, 89, 92, 49, 83, 77, 67, 71, 40, 85, 66, 65, 73, 66, 85, 82, 43, 72, 87, 76, 18, 87, 50, 46, 68, 83, 81, 47, 75, 79, 85, 56, 82, 70, 95, 66, 51, 77, 57, 49, 77, 51, 93, 81, 78, 91, 71, 88, 82, 29, 38, 96, 68, 87, 35, 86, 67, 40, 47, 57, 81, 53, 50, 83, 82, 27, 77, 88, 44, 87, 87, 80, 70, 32, 65, 86, 71, 58, 83, 69, 60, 92, 72, 75, 88, 98, 84, 48, 34, 63, 95, 46, 70, 49, 71, 74, 50, 61, 86, 80, 69, 52, 65, 12, 90, 96, 56, 74, 94, 73, 74, 61, 32, 29, 42, 74, 66, 68, 80, 77, 70, 39, 74, 91, 58, 49, 73, 82, 77, 36, 79, 95, 45, 40, 31, 31, 35, 100, 78, 55, 89, 56, 74, 83, 93, 65, 84, 94, 88, 91, 93, 13, 93, 50, 58, 88]\n",
      "[24, 20, 1, 90, 75, 40, 31, 20, 4, 1, 62, 0, 100, 4, 100, 26, 83, 100, 0, 100, 40, 4, 0, 90, 58, 20, 6, 40, 71, 90, 95, 100, 20, 75, 75, 31, 98, 75, 46, 57, 75, 2, 100, 100, 75, 100, 99, 100, 9, 9, 89, 78, 0, 20, 75, 1, 18, 75, 75, 90, 75, 97, 3, 75, 90, 100, 0, 100, 97, 100, 1, 75, 75, 20, 21, 90, 0, 1, 2, 100, 100, 8, 59, 90, 100, 75, 100, 100, 96, 20, 53, 100, 63, 14, 100, 5, 75, 100, 100, 88, 100, 40, 91, 0, 17, 40, 0, 86, 75, 48, 0, 20, 98, 75, 90, 75, 28, 40, 99, 20, 56, 87, 2, 93, 40, 75, 13, 91, 13, 75, 100, 15, 20, 0, 75, 90, 80, 4, 1, 100, 75, 75, 98, 96, 100, 90, 39, 22, 29, 1, 100, 98, 56, 92, 100, 34, 28, 0, 75, 97, 9, 83, 97, 13, 40, 90, 100, 100, 77, 91, 75, 39, 100, 95, 75, 20, 90, 90, 50, 75, 100, 5, 0, 6, 100, 100, 100, 84, 100, 44, 20, 4, 20, 83, 0, 70, 1, 99, 50, 60, 74, 100, 74, 20, 20, 100, 100, 0, 2, 75, 100, 64, 20, 0, 1, 18, 36, 100, 20, 0, 78, 27, 90, 12, 57, 5, 0, 60, 40, 75, 66, 8, 0, 99, 20, 15, 95, 0, 76, 0, 20, 0, 100, 2, 84, 40, 35, 2, 40, 60, 89, 0, 5, 75, 40, 20, 100, 35, 71, 20, 40, 0, 100, 100, 98, 0, 90, 100, 100, 36, 39, 45, 2, 17, 11, 4, 90, 75, 36, 75, 42, 1, 12, 76, 100, 20, 83, 97, 100, 29, 100, 75, 96, 1, 100, 100, 0, 38, 0, 94, 38, 0, 100, 50, 100, 75, 75, 100, 89, 53, 6, 7, 75, 0, 95, 20, 79, 98, 89, 13, 100, 5, 0, 0, 88, 0, 99, 40, 87, 1, 98, 69, 81, 90, 75, 53, 0, 81, 88, 75, 0, 37, 0, 0, 75, 16, 12, 90, 100, 0, 90, 95, 0, 75, 100, 46, 40, 100, 69, 0, 52, 12, 50, 75, 100, 98, 83, 1, 72, 77, 90, 1, 90, 0, 1, 100, 100, 100, 100, 96, 40, 100, 71, 21, 96, 1, 95, 76, 75, 77, 8, 40, 0, 96, 40, 31, 93, 39, 93, 0, 75, 0, 21, 0, 94, 100, 20, 0, 1, 26, 20, 2, 0, 0, 100, 99, 0, 0, 75, 12, 0, 43, 1, 0, 100, 0, 95, 1, 74, 9, 40, 32, 20, 10, 1, 18, 0, 75, 20, 41, 100, 100, 82, 11, 75, 44, 73, 90, 100, 48, 100, 20, 90, 100, 87, 4, 90, 0, 100, 20, 75, 100, 98, 29, 40, 0, 83, 100, 17, 65, 40, 100, 39, 1, 99, 100, 93, 91, 4, 0, 90, 100, 9, 0, 2, 100, 74, 0, 40, 75, 90, 10, 100, 3, 0, 75, 40, 91, 69, 90, 38, 87, 90, 50, 100, 100, 44, 75, 87, 100, 76, 16, 100, 1, 20, 55, 99, 40, 90, 4, 75, 65, 1, 90, 0, 88, 37, 96, 88, 75, 100, 1, 0, 8, 4, 90, 96]\n",
      "[2.45, 2.1, 1.5, 5.7, 19, 6.2, 3.98, 5.7, 1.17, 7.2, 3.57, 2.6, 3.2, 1.5, 9.4, 5.14, 5.8, 2.6, 2.15, 10.8, 5.7, 2.24, 1.2, 1, 2.53, 4.1, 2.32, 5.1, 6.91, 6.2, 6.85, 1.71, 11.3, 3.6, 4.6, 1.63, 3.38, 4.6, 8, 1.79, 6.7, 5.51, 9.69, 11.3, 8.2, 2.24, 1.23, 4.39, 0.98, 1.5, 5.63, 2.16, 4.6, 6.7, 1.5, 1.91, 5.11, 3, 10, 5.7, 5.1, 0.9, 3.6, 3.6, 4.1, 5.56, 3.71, 2.76, 7.67, 2.24, 2.6, 5.1, 3.6, 7.7, 1, 3.6, 6.35, 6.7, 11.56, 2.24, 0.36, 6.7, 1, 0.46, 1, 5.1, 5.36, 0.33, 0.94, 2.1, 3.92, 1.83, 5.14, 1.5, 9.23, 7.7, 8.2, 0.5, 2.47, 6.2, 1.75, 6.2, 1.49, 4.67, 3.44, 1, 3.59, 1.08, 3.1, 1.5, 2.52, 7.7, 1.62, 1, 1.5, 1.5, 2.24, 1.5, 2.05, 4.1, 2.54, 4.48, 2.6, 1, 3.6, 5.7, 3.6, 2.68, 4.38, 7.7, 8.22, 8.93, 0.5, 1, 1.5, 5.7, 0.9, 4.96, 7.2, 0.86, 4.1, 0.5, 11.81, 2.23, 3.13, 4.6, 5.67, 3.19, 1.79, 2.6, 0.58, 7.94, 2.1, 0.52, 1.5, 1.58, 0.49, 2.1, 8.2, 1.51, 1.24, 7.7, 3.03, 2.3, 6.2, 6.7, 1.98, 0.99, 1.12, 3.87, 3.6, 0.49, 0.76, 8.02, 9.3, 7.7, 3.6, 1.5, 2.26, 7.2, 5.76, 3.71, 3.37, 3.1, 4.6, 3.51, 11.1, 1.04, 1.26, 1.84, 2.1, 2.52, 1.88, 0.89, 3.02, 2.1, 3.58, 3.6, 3.88, 4.6, 1.06, 1.21, 2.42, 1, 3.6, 4.1, 2.02, 2.81, 3.6, 6.2, 2.43, 1.23, 2.6, 1.09, 6.7, 2.22, 1.15, 2.18, 3.6, 0.81, 1.53, 4.47, 4.6, 5.29, 6.2, 4.6, 5.7, 2.24, 1.5, 4.6, 5.73, 2, 4.81, 0.74, 3.6, 2.73, 6.82, 1, 5.27, 2, 1, 4.6, 3.37, 2.1, 6.19, 8.2, 0.26, 1.41, 4.1, 5.82, 1.49, 0.53, 3.1, 3.1, 10.2, 6.7, 5.68, 2.24, 7.68, 2.1, 2.1, 0.45, 9.28, 0.49, 4.84, 1.43, 2.1, 2.6, 2.93, 2.38, 4.19, 7.96, 9.8, 5.59, 1.35, 5.36, 3.07, 3.1, 4.47, 3.1, 1.49, 1.5, 1.9, 1.84, 0.35, 4.09, 2.77, 1.86, 2.4, 0.66, 10.54, 3.1, 0.5, 3.6, 3.6, 3.78, 2.1, 5.4, 1, 1.79, 3.1, 6.54, 1.94, 3.58, 1.71, 2.77, 3.1, 2.1, 1.03, 1.93, 0.69, 2.83, 1.5, 2.04, 0.89, 4.1, 2.19, 1.5, 2.91, 1.71, 3.78, 5.27, 6, 1.85, 6.03, 3.1, 3.15, 1.5, 1.22, 1.5, 7.34, 6.2, 4.16, 0.67, 3.1, 2.45, 3.86, 1.38, 1.86, 4.1, 3.04, 2.44, 1.83, 4, 10, 0.64, 1.36, 3.47, 4.12, 1.16, 4.1, 1.39, 6.2, 4.1, 4.42, 1.19, 4.1, 4.02, 3.13, 3.1, 0.92, 0.61, 3.44, 2.1, 6.3, 1.65, 2.06, 2.6, 0.92, 2.88, 5, 2.1, 1.47, 3.36, 3.1, 12.04, 8.98, 0.89, 0.51, 3.1, 2.6, 1.79, 4.91, 1.97, 4.6, 5.1, 4.41, 0.49, 7.2, 1.22, 5.07, 8.2, 0.89, 1.86, 5.1, 4.5, 3.12, 1, 1.64, 4.89, 5.7, 3.02, 0.5, 3.35, 2.6, 4.25, 4.1, 5.76, 0.72, 2, 0.5, 2.38, 5.05, 2.6, 3.8, 3.39, 2, 5.1, 5.1, 2.72, 2.1, 1.26, 2.6, 2.26, 2.03, 3.44, 0.63, 2.1, 1.05, 8.24, 7.7, 1.5, 5.1, 6.94, 2.06, 2.62, 3.58, 6.7, 3.1, 5.72, 5.64, 12.38, 2.24, 2.31, 2.6, 1.5, 6.28, 4.6, 7.15, 5.78, 2.24, 3.01, 4, 0.8, 0.9, 1.76, 1.5, 4.02, 2.1, 4.6, 1, 5.44, 2.29, 0.25, 1.5, 4.22, 4.66, 0.99, 5.1, 3.5, 4.1, 12.79, 2.6, 2.1, 2.76, 2.89, 0.83, 3.09, 3.2, 4.56, 5.1, 1.93, 1.5, 4.6, 2.86, 0.49, 3.93, 0.45, 3.1, 3.1, 4.1, 2.22, 3.1, 2.51, 2.2, 6.2, 9.3, 1.18, 2.85, 3.1, 0.84, 0.66, 3.6, 1.87, 3.77, 6.7, 1, 3.1, 3.31, 1.22, 2.97, 1.34, 0.66, 6.2, 2.1, 5.08, 0.96, 5.7, 3.1, 0.6, 3.6, 0.75, 6.2, 4.6, 2.1, 9.67, 1.14, 0.17, 3.91, 2.1, 0.64, 2.16, 2.88, 1.5, 12.25, 6.7, 1.46]\n",
      "[42.8, 32.67, 42.6, 69.45, -54.8, 37.1, -23.12, -42.88, 21.32, 47.47, -34, 31.35, -0.6, 18.39, 49.22, -33.37, 3.07, -34.53, -34.48, 73.51, 43.67, -34.58, -24.79, 25.02, 10.07, -10.79, 60.34, -0.74, -33.65, 57.05, 67.67, 60.14, 78.22, -22.28, 50.7, -8.93, -14.27, -33.92, 52.14, -42.78, 63.75, 14.9, 38.52, 65.61, -20.34, -46.6, 62.67, -6.13, 31.61, -13.85, -36.31, -42.72, -20.73, 14.92, 35.73, -22.97, -17.71, 59.7, 69.49, 62.46, -19.06, 64.25, -28.77, -19.76, 26.18, 68.12, 29.13, 71.97, -16.48, -46.13, 42.1, -21.2, -23.65, -53.15, -26.65, 40.6, 29.03, -24.87, -34.73, -46.19, 66.15, 69.22, 58.21, 64.86, -33.01, 36.62, -45.87, 34.17, 67.63, 5.41, 66.77, 61.36, -33.02, -34.65, 27.98, 19.22, -20.41, 23.13, 70.63, -23.7, -34.42, 1.33, 71.69, 69.38, -15.2, 7.77, 20.52, 14.2, -21.36, -41.87, -21.57, 19.73, -3.14, -33.93, 64.84, -17.88, -33.59, 58.81, 41.76, 22.29, 77.48, 48.68, 62.23, 46.42, 20.89, 22.08, 63.69, 43.27, 71.92, -25.24, 64.89, 30.48, 2.43, 15.11, 35.13, 71.29, -1.77, -6.84, 35.53, 27.62, 40.97, 25.29, 63.44, 4.42, 5.38, 57.79, -9.8, 65.58, -14.8, 34.17, 28.07, 68.05, 29.97, 9.7, 60.92, 40.16, -3.8, -22.47, -20.21, 67.8, 62.22, 48, 72.79, 11.67, 35.41, 47.67, 6.75, 27.37, 33.01, 60.75, 39.27, -9.17, -2.17, 49.94, 27.91, -21.21, 40.8, -29.95, 22.57, -37.83, 39.47, 25.7, 54.43, -20.33, 39.89, 68.75, 48.63, 3.3, 46.49, -8.77, 17.02, 18.28, -3.67, 42.78, -28.78, 46.43, 19.21, 27.18, 9.49, 51.66, 0.54, 50.68, 10.4, 3.46, 39.18, -38, 25.52, 26.29, 63.73, 26.33, 58.96, -9.11, 39.73, 26.59, 34.64, 56.21, -2.57, -45.42, 37.72, 47.04, -7.35, -19.98, 7.04, -10.62, 66.04, 22.89, -13.7, 33.7, -5.2, 28.37, 50.95, 64.38, 32.53, -9.88, 55.74, -8.57, 66.03, 53.6, -37.62, 55.96, 37.08, -33.87, 69.7, 31.67, 12.78, 45.02, 0.52, 17.8, 20.88, 63.05, 11.02, -15.89, 16.86, -19.55, 38.73, 14.92, -0.72, 39.5, -4.97, -9.67, 26.96, 36.19, 53.57, 5.75, 60.47, 57.64, 36.66, 41.96, 22.86, 6.04, 47.8, -21.55, 28.66, -5.09, 50.6, 34.54, -8.14, -21.37, -20.01, -21.34, -20.74, 41.37, -23.86, 9.36, 36.54, 6.58, 10.28, -9.66, 10.57, 1.74, 70.37, 32.84, -1.52, 43.83, -31.95, 64.96, 65.97, -21.35, -24.79, 26.7, -43.53, 21.46, 69.3, 45.18, 29.04, -13.88, 36.3, -28.87, -2.97, 65.42, -17.64, -13.08, 38.8, -33.7, 32.32, 45.52, -11.43, 46.09, 64, -2.97, 0.53, 18.09, 50.68, -43.3, 16.64, 40.43, -35.17, 12.63, 7.24, 32.46, -38.27, -17.73, 5.89, 4.93, 55.1, 39.52, 26.59, -28.19, -1.2, 32.58, 27.3, 8.46, 20.75, 40.81, 69.41, -11.33, -6.29, 66.08, -0.45, 44.83, 21.47, 8.25, 53.25, -15.12, 66.83, -1.83, 38.42, 51.03, 51.38, 39.65, 7.76, -0.19, 17.89, 45.62, 53.44, 9.88, 29.12, 32.35, -12.58, 66.94, 51.5, 39.36, -3.94, -19.65, 32.72, 70.86, 53.38, 45.25, 61.92, 13.47, 2.3, -46.28, 68.71, -22.13, -32.72, 29.37, 7.98, -8.27, 35.37, 29.62, 20.45, 36.37, 58.14, 2.67, -17, 52.54, 4.87, 8, 8.47, -30.18, 37.46, 22.68, -17.5, 54.23, 11.67, 47.98, 5.21, 10.4, 35.3, -23.78, 10.62, 61.28, 32.38, -25.35, 57.13, 66.84, 42.9, -45.87, 16.18, 7.45, -35.35, -4.73, 43.21, 51.39, 6.23, 20.35, 5.97, 38.89, -0.48, -22.67, 25.58, 41.12, 47.38, 11.28, 36.29, -34.62, -9.01, 34.04, 39.95, 12.41, 50.32, 39.05, 60.38, 20.95, -5.79, 36.19, 24.43, 70.47, 50.06, 33.77, -2.65, 32.79, 60.73, 4.14, 9.17, -2.02, 64.5, 64.27, 37.72, 5.79, 22.76, 56.35, 63.46, 19.25, -45.58, -21.64, 51.23, 58.16, -41.41, 11.52, 34.75, 48.97, -15.77, 40.77, 10.37, 5.35, -4.24, -35.33, 52.37, 55.93, 48.75, 24.59, 60.46, 52.3, 18.74, -6.64, 65.85, 50.83, -8.01, 24.8, 21.35, -17.02, 34.77, -6.18, 34.48, 60.72, 12.52, -2.67, -31.43, 65.28, -9.2, -9.54, 19.22, -4.35, -1.57, 50.12, 33.34, -16.28, 4.88, -7.61, 52.27, 23.45, 3.17, 25.98, 37.57, 27.63, 22.69, 44.06, 17.49, -17.81, 34.67, -3.84, 44.08, 60.82, -26.18, 47.62, -5.11, -4.97, 67.45, 3.17, -6.4, 35.61, 18.69, 33.21, 37.81, 49.75, 67.54]\n",
      "[93.45, -17.1, -73.97, -133.04, -68.3, -113.58, -134.97, 147.33, 103.9, -94.88, 24.73, 27.25, 73.08, 42.45, 143.12, 116.15, 172.79, 20.04, -54.33, 80.55, -92.1, 150.86, -50.01, 118.29, -69.32, -37.05, 102.28, -90.35, 115.33, -135.33, 53.09, -45.24, 15.64, 166.46, -127.42, 125.41, 50.17, 25.57, 113.5, 147.06, -68.51, -24.5, -28.7, -37.64, 57.76, 168.33, 135.6, 12.37, 34.76, 136.42, -57.68, 170.97, 139.5, -23.51, 140.83, -42.03, -39.25, 30.79, 88.4, -114.35, -169.92, -15.21, 114.6, -44.31, 127.76, 13.5, 15.95, 102.5, -151.75, 167.68, -79.24, -175.2, -70.4, -70.92, 15.16, -124.16, 21.55, 113.63, 135.87, 168.86, -65.71, -51.1, -6.39, -147.8, 17.94, -121.92, 170.5, 77.58, 134.63, 100.34, 123.37, 63.58, 27.91, -58.62, -114.06, -104.7, 57.7, 93.07, 147.92, 133.88, 19.23, 172.98, 128.87, 178.42, 12.15, -72.22, -13.05, 24.67, 55.77, -73.82, 21.78, -155.09, 142.35, 18.42, -147.72, 36.89, 26.89, -122.7, 86.15, 114.16, -69.36, 71.64, -6.59, 3.91, -156.47, -159.32, 9.67, -7.54, 114.08, 130.99, -23.71, -115.95, 103.84, -16.62, 140.3, -156.79, -55.87, -79.93, -108.74, 113.85, -117.74, 51.53, -20.27, -7.35, -52.95, -152.41, -139.03, -171, 36.54, -82.12, 95.33, 39.51, 40.21, -73.28, -46.05, -8.33, 102.27, -68.93, 57.76, 130.41, 49.99, 14.4, -56.15, 92.75, -99.4, -52.73, -11.37, 87.2, 70.07, -137.51, 141.88, -60.63, 16.23, 40.55, -15.45, -159.78, -124.16, -71.34, 59.53, 140.77, 141.95, 100.18, 31.9, -40.29, 4.27, 161.3, 142.8, 117.63, 135.88, 160.7, 54.09, -70.33, 152.43, -9.06, 32.04, 26.4, -69.34, 31.18, 50.81, -3.8, 123.06, 156.12, 5.47, 8.55, -84.53, -57.56, 90.22, 73.03, 8.83, 43.98, 126.29, 124.89, -104.83, 101.71, -120.46, 87.75, 150.8, 167.72, -25.43, -70.9, 108.11, 57.61, 134.26, 150.67, -17.34, -109.91, -76.22, -117.77, -35.46, 129.48, 46.97, -173.3, 20.58, -56.09, -97.86, 34.85, 60.17, 91.39, -73.65, 92.55, 57.51, 121.9, 170.31, 38.66, 45.04, -93.22, 25.2, -96.97, -156.68, 179.32, 29.72, -52.26, -99.89, 169.27, -27.07, -23.51, 8.78, -89.77, 39.83, -35.74, 56.27, 117.12, 142.95, 38.92, 166.1, 18.3, 51.42, 42.96, 115.7, 80.22, 67.71, 167.88, -17.92, -81.11, 97.52, -117.29, 159.59, 55.62, 57.66, 55.48, 116.85, -73.41, 35.38, 14.9, 32, 3.75, 22.79, 20.39, 72.64, 98.78, 31.11, -116.77, -52.58, -111.79, 141.43, 34.58, 29.18, 165.15, -65.41, -109.52, 172.63, -71.14, 139.9, 25.95, 114.56, 167.55, 139.8, 153.57, -47.48, -52.9, -71.34, -76.38, -9.45, -53.46, 121.19, -122.68, -40.59, 3.45, 44.45, 119.9, 72.93, -67.15, 36.55, -65.1, 1.64, 71.72, 173.17, 80.17, 16.44, -86.46, 141.97, -149.15, 95.32, -52.33, -105.28, -6.37, 12.78, 23.54, -46.02, -117.11, 79.95, 25.68, 73.68, 111.65, 86.18, -74.53, 145.87, 76.63, 39.64, 78.82, -158.22, 34.58, 6.75, 39.27, 70.83, -44.87, -121.42, -4.22, 1.39, 66.96, -73.39, -74.78, -77.59, -61.35, 55.26, -11.17, 75.17, -85.2, 13.41, -53.67, 58.19, -74.42, 122.5, 17.33, -100.92, 29.09, 142.96, -81.67, 63.02, 22.2, 111.82, 169.85, -52.87, 48.02, 152.15, -94.97, 49.82, -72.74, -120.85, 51.65, 121.97, 6.61, 7.07, 72.89, 145.43, 62.49, -2.24, 124.29, -0.01, -50.21, -122.43, -3.98, 24.27, -125.75, -9.5, 3.4, -4.41, -75.51, 37.18, -45.36, 104.18, 108.01, 15.09, -54.24, 73.83, 32.36, 71.37, -67.5, -22.92, 126.58, 150.47, 38.1, -75.46, 28.87, -77.4, -74.5, 8.71, -76.51, 15.9, 167.48, -99.98, 80.26, -61.86, -15.83, -76.25, -68.33, -35.22, -6.82, -75.16, 4.49, 130.37, -27.98, 92.63, 85.22, -35.21, 44.01, 81.67, -68.59, 43.24, 120.25, 10, -79.86, 77.59, 96.13, 35.83, 147.27, -165.41, 24.8, 30.29, 0.9, 121.14, 78.36, 48.9, -71.96, -72.07, -41.05, -58.65, 59.7, 175.52, 13.69, -92.29, 140.29, 128.73, -72.85, 10.73, 48.53, 142.84, -72.42, -114.92, 39.46, -79, 88.27, 12.06, 13.27, 7.39, -51.99, 74.49, 9.02, -34.86, 125.28, -158.09, -72.01, 32.42, 143.65, 41.91, -135.05, -70.03, 141.3, 152.92, -126.83, 25.85, 16.34, -98.81, 152.26, 9.26, -5.54, 44.4, -39.02, -1.76, 15.06, 79.17, -110.22, -52.32, -98.1, 126.98, -101.28, 58.53, -103.15, 44.13, -50.6, 138.95, -62.06, -80.2, -115.8, -58.18, -57.62, 105.31, 23.45, 153.68, 113.03, -48.55, -77.37, 12.92, 35.57, 120.75, -77.63, 133.38]\n"
     ]
    },
    {
     "name": "stdout",
     "output_type": "stream",
     "text": [
      "537\n",
      "590\n"
     ]
    }
   ],
   "source": [
    "#Day 2 APIs, Activity 5  and Activity 8 for reference\n",
    "\n",
    "number = 0 \n",
    "\n",
    "#Set up lists to hold response info\n",
    "city_name = []\n",
    "temp = []\n",
    "humidity = []\n",
    "cloudiness = []\n",
    "wind_speed = []\n",
    "lat = []\n",
    "lng = []\n",
    "\n",
    "for city in cities: \n",
    "    try:\n",
    "        response = requests.get(url + '&q=' + city).json()\n",
    "        city_name.append(response['name'])\n",
    "        temp.append(response['main']['temp']-273)\n",
    "        humidity.append(response['main']['humidity'])\n",
    "        cloudiness.append(response['clouds']['all'])\n",
    "        wind_speed.append(response['wind']['speed'])\n",
    "        lat.append(response['coord']['lat'])\n",
    "        lng.append(response['coord']['lon'])\n",
    "        print(f\"Success {city}\")\n",
    "    except:\n",
    "        print(f\"Unknown Data for:{city}\")\n",
    "        number = number + 1\n",
    "        \n",
    "        \n",
    "print(response)\n",
    "print(city_name)\n",
    "print(temp)\n",
    "print(humidity)\n",
    "print(cloudiness)\n",
    "print(wind_speed)\n",
    "print(lat)\n",
    "print(lng)\n",
    "print(len(city_name))\n",
    "print(len(cities))\n",
    "\n"
   ]
  },
  {
   "cell_type": "markdown",
   "metadata": {},
   "source": [
    "### Convert Raw Data to DataFrame\n",
    "* Export the city data into a .csv.\n",
    "* Display the DataFrame"
   ]
  },
  {
   "cell_type": "code",
   "execution_count": 5,
   "metadata": {},
   "outputs": [
    {
     "data": {
      "text/html": [
       "<div>\n",
       "<style scoped>\n",
       "    .dataframe tbody tr th:only-of-type {\n",
       "        vertical-align: middle;\n",
       "    }\n",
       "\n",
       "    .dataframe tbody tr th {\n",
       "        vertical-align: top;\n",
       "    }\n",
       "\n",
       "    .dataframe thead th {\n",
       "        text-align: right;\n",
       "    }\n",
       "</style>\n",
       "<table border=\"1\" class=\"dataframe\">\n",
       "  <thead>\n",
       "    <tr style=\"text-align: right;\">\n",
       "      <th></th>\n",
       "      <th>City</th>\n",
       "      <th>Temperature</th>\n",
       "      <th>Humidity</th>\n",
       "      <th>Cloudiness</th>\n",
       "      <th>Wind Speed</th>\n",
       "      <th>Latitude</th>\n",
       "      <th>Longitude</th>\n",
       "    </tr>\n",
       "  </thead>\n",
       "  <tbody>\n",
       "    <tr>\n",
       "      <td>0</td>\n",
       "      <td>Kumul</td>\n",
       "      <td>19.42</td>\n",
       "      <td>14</td>\n",
       "      <td>24</td>\n",
       "      <td>2.45</td>\n",
       "      <td>42.80</td>\n",
       "      <td>93.45</td>\n",
       "    </tr>\n",
       "    <tr>\n",
       "      <td>1</td>\n",
       "      <td>Ponta do Sol</td>\n",
       "      <td>14.93</td>\n",
       "      <td>59</td>\n",
       "      <td>20</td>\n",
       "      <td>2.10</td>\n",
       "      <td>32.67</td>\n",
       "      <td>-17.10</td>\n",
       "    </tr>\n",
       "    <tr>\n",
       "      <td>2</td>\n",
       "      <td>Albany</td>\n",
       "      <td>4.11</td>\n",
       "      <td>39</td>\n",
       "      <td>1</td>\n",
       "      <td>1.50</td>\n",
       "      <td>42.60</td>\n",
       "      <td>-73.97</td>\n",
       "    </tr>\n",
       "    <tr>\n",
       "      <td>3</td>\n",
       "      <td>Tuktoyaktuk</td>\n",
       "      <td>-12.85</td>\n",
       "      <td>84</td>\n",
       "      <td>90</td>\n",
       "      <td>5.70</td>\n",
       "      <td>69.45</td>\n",
       "      <td>-133.04</td>\n",
       "    </tr>\n",
       "    <tr>\n",
       "      <td>4</td>\n",
       "      <td>Ushuaia</td>\n",
       "      <td>6.15</td>\n",
       "      <td>75</td>\n",
       "      <td>75</td>\n",
       "      <td>19.00</td>\n",
       "      <td>-54.80</td>\n",
       "      <td>-68.30</td>\n",
       "    </tr>\n",
       "  </tbody>\n",
       "</table>\n",
       "</div>"
      ],
      "text/plain": [
       "           City  Temperature  Humidity  Cloudiness  Wind Speed  Latitude  \\\n",
       "0         Kumul        19.42        14          24        2.45     42.80   \n",
       "1  Ponta do Sol        14.93        59          20        2.10     32.67   \n",
       "2        Albany         4.11        39           1        1.50     42.60   \n",
       "3   Tuktoyaktuk       -12.85        84          90        5.70     69.45   \n",
       "4       Ushuaia         6.15        75          75       19.00    -54.80   \n",
       "\n",
       "   Longitude  \n",
       "0      93.45  \n",
       "1     -17.10  \n",
       "2     -73.97  \n",
       "3    -133.04  \n",
       "4     -68.30  "
      ]
     },
     "execution_count": 5,
     "metadata": {},
     "output_type": "execute_result"
    }
   ],
   "source": [
    "#Day 2 APIs, Activity 5 for reference\n",
    "\n",
    "#Create Data Frame\n",
    "response_df= pd. DataFrame({\n",
    "        'City':city_name,\n",
    "        'Temperature': temp,\n",
    "        'Humidity': humidity,\n",
    "        'Cloudiness': cloudiness,\n",
    "        'Wind Speed': wind_speed,\n",
    "        'Latitude': lat,\n",
    "        'Longitude': lng})\n",
    "\n",
    "response_df.head()"
   ]
  },
  {
   "cell_type": "code",
   "execution_count": 6,
   "metadata": {},
   "outputs": [],
   "source": [
    "#Export the city data into a .csv. \n",
    "pd.DataFrame.to_csv(response_df, 'response.csv')\n"
   ]
  },
  {
   "cell_type": "markdown",
   "metadata": {},
   "source": [
    "### Plotting the Data\n",
    "* Use proper labeling of the plots using plot titles (including date of analysis) and axes labels.\n",
    "* Save the plotted figures as .pngs."
   ]
  },
  {
   "cell_type": "markdown",
   "metadata": {},
   "source": [
    "#### Latitude vs. Temperature Plot"
   ]
  },
  {
   "cell_type": "code",
   "execution_count": 7,
   "metadata": {},
   "outputs": [
    {
     "data": {
      "text/html": [
       "<div>\n",
       "<style scoped>\n",
       "    .dataframe tbody tr th:only-of-type {\n",
       "        vertical-align: middle;\n",
       "    }\n",
       "\n",
       "    .dataframe tbody tr th {\n",
       "        vertical-align: top;\n",
       "    }\n",
       "\n",
       "    .dataframe thead th {\n",
       "        text-align: right;\n",
       "    }\n",
       "</style>\n",
       "<table border=\"1\" class=\"dataframe\">\n",
       "  <thead>\n",
       "    <tr style=\"text-align: right;\">\n",
       "      <th></th>\n",
       "      <th>City</th>\n",
       "      <th>Temperature</th>\n",
       "      <th>Humidity</th>\n",
       "      <th>Cloudiness</th>\n",
       "      <th>Wind Speed</th>\n",
       "      <th>Latitude</th>\n",
       "      <th>Longitude</th>\n",
       "    </tr>\n",
       "  </thead>\n",
       "  <tbody>\n",
       "    <tr>\n",
       "      <td>0</td>\n",
       "      <td>Kumul</td>\n",
       "      <td>19.42</td>\n",
       "      <td>14</td>\n",
       "      <td>24</td>\n",
       "      <td>2.45</td>\n",
       "      <td>42.80</td>\n",
       "      <td>93.45</td>\n",
       "    </tr>\n",
       "    <tr>\n",
       "      <td>1</td>\n",
       "      <td>Ponta do Sol</td>\n",
       "      <td>14.93</td>\n",
       "      <td>59</td>\n",
       "      <td>20</td>\n",
       "      <td>2.10</td>\n",
       "      <td>32.67</td>\n",
       "      <td>-17.10</td>\n",
       "    </tr>\n",
       "    <tr>\n",
       "      <td>2</td>\n",
       "      <td>Albany</td>\n",
       "      <td>4.11</td>\n",
       "      <td>39</td>\n",
       "      <td>1</td>\n",
       "      <td>1.50</td>\n",
       "      <td>42.60</td>\n",
       "      <td>-73.97</td>\n",
       "    </tr>\n",
       "    <tr>\n",
       "      <td>3</td>\n",
       "      <td>Tuktoyaktuk</td>\n",
       "      <td>-12.85</td>\n",
       "      <td>84</td>\n",
       "      <td>90</td>\n",
       "      <td>5.70</td>\n",
       "      <td>69.45</td>\n",
       "      <td>-133.04</td>\n",
       "    </tr>\n",
       "    <tr>\n",
       "      <td>4</td>\n",
       "      <td>Ushuaia</td>\n",
       "      <td>6.15</td>\n",
       "      <td>75</td>\n",
       "      <td>75</td>\n",
       "      <td>19.00</td>\n",
       "      <td>-54.80</td>\n",
       "      <td>-68.30</td>\n",
       "    </tr>\n",
       "  </tbody>\n",
       "</table>\n",
       "</div>"
      ],
      "text/plain": [
       "           City  Temperature  Humidity  Cloudiness  Wind Speed  Latitude  \\\n",
       "0         Kumul        19.42        14          24        2.45     42.80   \n",
       "1  Ponta do Sol        14.93        59          20        2.10     32.67   \n",
       "2        Albany         4.11        39           1        1.50     42.60   \n",
       "3   Tuktoyaktuk       -12.85        84          90        5.70     69.45   \n",
       "4       Ushuaia         6.15        75          75       19.00    -54.80   \n",
       "\n",
       "   Longitude  \n",
       "0      93.45  \n",
       "1     -17.10  \n",
       "2     -73.97  \n",
       "3    -133.04  \n",
       "4     -68.30  "
      ]
     },
     "execution_count": 7,
     "metadata": {},
     "output_type": "execute_result"
    }
   ],
   "source": [
    "response_df.head()"
   ]
  },
  {
   "cell_type": "code",
   "execution_count": 8,
   "metadata": {
    "scrolled": true
   },
   "outputs": [
    {
     "data": {
      "image/png": "[encoded data removed]",
      "text/plain": [
       "<Figure size 432x288 with 1 Axes>"
      ]
     },
     "metadata": {
      "needs_background": "light"
     },
     "output_type": "display_data"
    },
    {
     "data": {
      "text/plain": [
       "<Figure size 432x288 with 0 Axes>"
      ]
     },
     "metadata": {},
     "output_type": "display_data"
    }
   ],
   "source": [
    "#plt.scatter(response_df[\"Latitude\"], response_df['Temperature'],marker='o')\n",
    "#plt.show()\n",
    "\n",
    "response_df.plot(kind = \"scatter\", x=\"Latitude\", y=\"Temperature\", title=\"Latitude vs.Temperature\")\n",
    "plt.show()\n",
    "\n",
    "plt.savefig(\"lat_temp_plot.png\", bbox_inches='tight', dpi=600)"
   ]
  },
  {
   "cell_type": "code",
   "execution_count": null,
   "metadata": {},
   "outputs": [],
   "source": [
    "#As distance from the equator increases (either north or south), tempteratures decrease as well.\n",
    "#This graph shows that temperatures peak at the equator."
   ]
  },
  {
   "cell_type": "markdown",
   "metadata": {},
   "source": [
    "#### Latitude vs. Humidity Plot"
   ]
  },
  {
   "cell_type": "code",
   "execution_count": 9,
   "metadata": {},
   "outputs": [
    {
     "data": {
      "image/png": "[encoded data removed]",
      "text/plain": [
       "<Figure size 432x288 with 1 Axes>"
      ]
     },
     "metadata": {
      "needs_background": "light"
     },
     "output_type": "display_data"
    },
    {
     "data": {
      "text/plain": [
       "<Figure size 432x288 with 0 Axes>"
      ]
     },
     "metadata": {},
     "output_type": "display_data"
    }
   ],
   "source": [
    "#plt.scatter(response_df[\"Latitude\"], response_df['Humidity'],marker='o')\n",
    "#plt.show()\n",
    "\n",
    "response_df.plot(kind = \"scatter\", x=\"Latitude\", y=\"Humidity\", title=\"Latitude vs.Humidity\")\n",
    "plt.show()\n",
    "\n",
    "plt.savefig(\"lat_temp_plot.png\", bbox_inches='tight', dpi=600)"
   ]
  },
  {
   "cell_type": "code",
   "execution_count": 10,
   "metadata": {},
   "outputs": [],
   "source": [
    "#Humidity looks consistent regardless of the point of latitude.  "
   ]
  },
  {
   "cell_type": "code",
   "execution_count": null,
   "metadata": {},
   "outputs": [],
   "source": []
  },
  {
   "cell_type": "markdown",
   "metadata": {},
   "source": [
    "#### Latitude vs. Cloudiness Plot"
   ]
  },
  {
   "cell_type": "code",
   "execution_count": 11,
   "metadata": {},
   "outputs": [
    {
     "data": {
      "image/png": "[encoded data removed]",
      "text/plain": [
       "<Figure size 432x288 with 1 Axes>"
      ]
     },
     "metadata": {
      "needs_background": "light"
     },
     "output_type": "display_data"
    },
    {
     "data": {
      "text/plain": [
       "<Figure size 432x288 with 0 Axes>"
      ]
     },
     "metadata": {},
     "output_type": "display_data"
    }
   ],
   "source": [
    "response_df.plot(kind = \"scatter\", x=\"Latitude\", y=\"Cloudiness\", title=\"Latitude vs.Cloudiness\")\n",
    "plt.show()\n",
    "\n",
    "plt.savefig(\"lat_temp_plot.png\", bbox_inches='tight', dpi=600)"
   ]
  },
  {
   "cell_type": "code",
   "execution_count": 12,
   "metadata": {},
   "outputs": [],
   "source": [
    "#There doesn't seem to be a correlation between latitude and cloudiness. "
   ]
  },
  {
   "cell_type": "code",
   "execution_count": null,
   "metadata": {},
   "outputs": [],
   "source": []
  },
  {
   "cell_type": "markdown",
   "metadata": {},
   "source": [
    "#### Latitude vs. Wind Speed Plot"
   ]
  },
  {
   "cell_type": "code",
   "execution_count": 13,
   "metadata": {},
   "outputs": [
    {
     "data": {
      "image/png": "[encoded data removed]",
      "text/plain": [
       "<Figure size 432x288 with 1 Axes>"
      ]
     },
     "metadata": {
      "needs_background": "light"
     },
     "output_type": "display_data"
    },
    {
     "data": {
      "text/plain": [
       "<Figure size 432x288 with 0 Axes>"
      ]
     },
     "metadata": {},
     "output_type": "display_data"
    }
   ],
   "source": [
    "response_df.plot(kind = \"scatter\", x=\"Latitude\", y=\"Wind Speed\", title=\"Latitude vs. Wind Speed \")\n",
    "plt.show()\n",
    "\n",
    "plt.savefig(\"lat_temp_plot.png\", bbox_inches='tight', dpi=600)"
   ]
  },
  {
   "cell_type": "code",
   "execution_count": 14,
   "metadata": {},
   "outputs": [],
   "source": [
    "#Wind speed is consistent regardless of latitude."
   ]
  },
  {
   "cell_type": "markdown",
   "metadata": {},
   "source": [
    "## Linear Regression"
   ]
  },
  {
   "cell_type": "code",
   "execution_count": 15,
   "metadata": {},
   "outputs": [],
   "source": [
    "# Create Northern and Southern Hemisphere DataFrames\n",
    "north_hem=response_df[response_df[\"Latitude\"]>=0]\n",
    "south_hem=response_df[response_df[\"Latitude\"]<=0]\n",
    "                "
   ]
  },
  {
   "cell_type": "markdown",
   "metadata": {},
   "source": [
    "####  Northern Hemisphere - Max Temp vs. Latitude Linear Regression"
   ]
  },
  {
   "cell_type": "code",
   "execution_count": 16,
   "metadata": {
    "scrolled": true
   },
   "outputs": [
    {
     "name": "stdout",
     "output_type": "stream",
     "text": [
      "0      11.098887\n",
      "1      16.256851\n",
      "2      11.200722\n",
      "3      -2.470685\n",
      "5      14.001197\n",
      "         ...    \n",
      "532    23.375148\n",
      "533    15.981896\n",
      "534    13.639681\n",
      "535     7.560105\n",
      "536    -1.498156\n",
      "Name: Latitude, Length: 368, dtype: float64\n",
      "The r-squared is: 0.800936923585906\n"
     ]
    },
    {
     "data": {
      "image/png": "[encoded data removed]",
      "text/plain": [
       "<Figure size 432x288 with 1 Axes>"
      ]
     },
     "metadata": {
      "needs_background": "light"
     },
     "output_type": "display_data"
    }
   ],
   "source": [
    "#Day 2 API's Activity 7 Stu_Weather_plots for reference\n",
    "\n",
    "x_values = north_hem[\"Latitude\"]\n",
    "y_values = north_hem[\"Temperature\"]\n",
    "\n",
    "#Perform a linear regression on Temp Vs Latitude\n",
    "(slope, intercept, rvalue, pvalue, stderr) = linregress(x_values, y_values)\n",
    "\n",
    "#Get regression values\n",
    "regress_values = x_values * slope + intercept\n",
    "print(regress_values) \n",
    "\n",
    "#Create line equation string\n",
    "line_eq = f\"y ={round(slope,2)}x +  {round(intercept,2)}\"\n",
    "line_eq\n",
    "\n",
    "#Create plot\n",
    "plt.scatter(x_values,y_values)\n",
    "plt.plot(x_values,regress_values,\"r-\")\n",
    "         \n",
    "#Label plot and annotacte the line equation\n",
    "plt.xlabel('Latitude')\n",
    "plt.ylabel('Temperature')\n",
    "plt.title(\"Northern Hemisphere - Latitude vs. Temperature \")\n",
    "plt.annotate(line_eq,(15,260),fontsize=15,color=\"red\")\n",
    "         \n",
    "#Print r square value\n",
    "print(f\"The r-squared is: {rvalue**2}\")\n",
    "         \n",
    "# Show plot\n",
    "plt.show()\n"
   ]
  },
  {
   "cell_type": "markdown",
   "metadata": {},
   "source": [
    "####  Southern Hemisphere - Max Temp vs. Latitude Linear Regression"
   ]
  },
  {
   "cell_type": "code",
   "execution_count": 17,
   "metadata": {},
   "outputs": [
    {
     "name": "stdout",
     "output_type": "stream",
     "text": [
      "4      11.429035\n",
      "6      20.913526\n",
      "7      14.997694\n",
      "10     17.656226\n",
      "12     27.655658\n",
      "         ...    \n",
      "521    26.685653\n",
      "524    19.997410\n",
      "526    26.305435\n",
      "527    26.347349\n",
      "530    25.919229\n",
      "Name: Latitude, Length: 169, dtype: float64\n",
      "The r-squared is: 0.5045515019096322\n"
     ]
    },
    {
     "data": {
      "image/png": "[encoded data removed]",
      "text/plain": [
       "<Figure size 432x288 with 1 Axes>"
      ]
     },
     "metadata": {
      "needs_background": "light"
     },
     "output_type": "display_data"
    }
   ],
   "source": [
    "#Day 2 API's Activity 7 Stu_Weather_plots for reference\n",
    "\n",
    "x_values = south_hem[\"Latitude\"]\n",
    "y_values = south_hem[\"Temperature\"]\n",
    "\n",
    "#Perform a linear regression on Temp Vs Latitude\n",
    "(slope, intercept, rvalue, pvalue, stderr) = linregress(x_values, y_values)\n",
    "\n",
    "#Get regression values\n",
    "regress_values = x_values * slope + intercept\n",
    "print(regress_values) \n",
    "\n",
    "#Create line equation string\n",
    "line_eq = f\"y ={round(slope,2)}x +  {round(intercept,2)}\"\n",
    "line_eq\n",
    "\n",
    "#Create plot\n",
    "plt.scatter(x_values,y_values)\n",
    "plt.plot(x_values,regress_values,\"r-\")\n",
    "         \n",
    "#Label plot and annotacte the line equation\n",
    "plt.xlabel('Latitude')\n",
    "plt.ylabel('Temperature')\n",
    "plt.title(\"Southern Hemisphere - Latitude vs. Temperature \")\n",
    "plt.annotate(line_eq,(-10,280),fontsize=15,color=\"red\")\n",
    "         \n",
    "#Print r square value\n",
    "print(f\"The r-squared is: {rvalue**2}\")\n",
    "         \n",
    "# Show plot\n",
    "plt.show()\n"
   ]
  },
  {
   "cell_type": "code",
   "execution_count": null,
   "metadata": {},
   "outputs": [],
   "source": [
    "#Northern hemisphere graph shows that the temperature is hottest at the equator(point 0 latitude) and decreases as you move\n",
    "#farther away. The southern hemisphere graph shows the opposit correlation with temperatures starting cold and increasing as \n",
    "#you move closer to the equator."
   ]
  },
  {
   "cell_type": "code",
   "execution_count": null,
   "metadata": {},
   "outputs": [],
   "source": []
  },
  {
   "cell_type": "markdown",
   "metadata": {},
   "source": [
    "####  Northern Hemisphere - Humidity (%) vs. Latitude Linear Regression"
   ]
  },
  {
   "cell_type": "code",
   "execution_count": 24,
   "metadata": {},
   "outputs": [
    {
     "name": "stdout",
     "output_type": "stream",
     "text": [
      "0      68.872312\n",
      "1      66.202311\n",
      "2      68.819597\n",
      "3      75.896551\n",
      "5      67.369942\n",
      "         ...    \n",
      "532    62.517550\n",
      "533    66.344640\n",
      "534    67.557079\n",
      "535    70.704149\n",
      "536    75.393125\n",
      "Name: Latitude, Length: 368, dtype: float64\n",
      "The r-squared is: 0.056400310762133525\n"
     ]
    },
    {
     "data": {
      "image/png": "[encoded data removed]",
      "text/plain": [
       "<Figure size 432x288 with 1 Axes>"
      ]
     },
     "metadata": {
      "needs_background": "light"
     },
     "output_type": "display_data"
    }
   ],
   "source": [
    "#Day 2 API's Activity 7 Stu_Weather_plots for reference\n",
    "\n",
    "x_values = north_hem[\"Latitude\"]\n",
    "y_values = north_hem[\"Humidity\"]\n",
    "\n",
    "#Perform a linear regression on Temp Vs Latitude\n",
    "(slope, intercept, rvalue, pvalue, stderr) = linregress(x_values, y_values)\n",
    "\n",
    "#Get regression values\n",
    "regress_values = x_values * slope + intercept\n",
    "print(regress_values) \n",
    "\n",
    "#Create line equation string\n",
    "line_eq = f\"y ={round(slope,2)}x +  {round(intercept,2)}\"\n",
    "line_eq\n",
    "\n",
    "#Create plot\n",
    "plt.scatter(x_values,y_values)\n",
    "plt.plot(x_values,regress_values,\"r-\")\n",
    "         \n",
    "#Label plot and annotacte the line equation\n",
    "plt.xlabel('Latitude')\n",
    "plt.ylabel('Humidity')\n",
    "plt.title(\"Northern Hemisphere - Latitude vs. Humidity\")\n",
    "plt.annotate(line_eq,(80,60),fontsize=20,color=\"red\")\n",
    "         \n",
    "#Print r square value\n",
    "print(f\"The r-squared is: {rvalue**2}\")\n",
    "         \n",
    "# Show plot\n",
    "plt.show()\n",
    "\n"
   ]
  },
  {
   "cell_type": "code",
   "execution_count": null,
   "metadata": {},
   "outputs": [],
   "source": [
    "#"
   ]
  },
  {
   "cell_type": "markdown",
   "metadata": {},
   "source": [
    "####  Southern Hemisphere - Humidity (%) vs. Latitude Linear Regression"
   ]
  },
  {
   "cell_type": "code",
   "execution_count": 19,
   "metadata": {},
   "outputs": [
    {
     "name": "stdout",
     "output_type": "stream",
     "text": [
      "4      63.608824\n",
      "6      70.817161\n",
      "7      66.321052\n",
      "10     68.341570\n",
      "12     75.941268\n",
      "         ...    \n",
      "521    75.204052\n",
      "524    70.120901\n",
      "526    74.915082\n",
      "527    74.946937\n",
      "530    74.621560\n",
      "Name: Latitude, Length: 169, dtype: float64\n",
      "The r-squared is: 0.034754171345212616\n"
     ]
    },
    {
     "data": {
      "image/png": "[encoded data removed]",
      "text/plain": [
       "<Figure size 432x288 with 1 Axes>"
      ]
     },
     "metadata": {
      "needs_background": "light"
     },
     "output_type": "display_data"
    }
   ],
   "source": [
    "x_values = south_hem[\"Latitude\"]\n",
    "y_values = south_hem[\"Humidity\"]\n",
    "\n",
    "#Perform a linear regression on Temp Vs Latitude\n",
    "(slope, intercept, rvalue, pvalue, stderr) = linregress(x_values, y_values)\n",
    "\n",
    "#Get regression values\n",
    "regress_values = x_values * slope + intercept\n",
    "print(regress_values) \n",
    "\n",
    "#Create line equation string\n",
    "line_eq = f\"y ={round(slope,2)}x +  {round(intercept,2)}\"\n",
    "line_eq\n",
    "\n",
    "#Create plot\n",
    "plt.scatter(x_values,y_values)\n",
    "plt.plot(x_values,regress_values,\"r-\")\n",
    "         \n",
    "#Label plot and annotacte the line equation\n",
    "plt.xlabel('Latitude')\n",
    "plt.ylabel('Humidity')\n",
    "plt.title(\"Northern Hemisphere - Latitude vs. Humidity\")\n",
    "plt.annotate(line_eq,(0,45),fontsize=15,color=\"red\")\n",
    "         \n",
    "#Print r square value\n",
    "print(f\"The r-squared is: {rvalue**2}\")\n",
    "         \n",
    "# Show plot\n",
    "plt.show()"
   ]
  },
  {
   "cell_type": "code",
   "execution_count": 25,
   "metadata": {},
   "outputs": [],
   "source": [
    "#There is no correlation between latitude and humidy in the norther hemisphere. \n",
    "#There may be a slight correlation between humidity and latitude in the southern hemisphere, getting more humid as you\n",
    "#get closer to the equator. If there is a slight correlation, I don't think it would be statistically significant. "
   ]
  },
  {
   "cell_type": "markdown",
   "metadata": {},
   "source": [
    "####  Northern Hemisphere - Cloudiness (%) vs. Latitude Linear Regression"
   ]
  },
  {
   "cell_type": "code",
   "execution_count": 26,
   "metadata": {},
   "outputs": [
    {
     "name": "stdout",
     "output_type": "stream",
     "text": [
      "0      56.548637\n",
      "1      54.061157\n",
      "2      56.499526\n",
      "3      63.092700\n",
      "5      55.148969\n",
      "         ...    \n",
      "532    50.628287\n",
      "533    54.193757\n",
      "534    55.323314\n",
      "535    58.255250\n",
      "536    62.623688\n",
      "Name: Latitude, Length: 368, dtype: float64\n",
      "The r-squared is: 0.016227300634100064\n"
     ]
    },
    {
     "data": {
      "image/png": "[encoded data removed]",
      "text/plain": [
       "<Figure size 432x288 with 1 Axes>"
      ]
     },
     "metadata": {
      "needs_background": "light"
     },
     "output_type": "display_data"
    }
   ],
   "source": [
    "x_values = north_hem[\"Latitude\"]\n",
    "y_values = north_hem[\"Cloudiness\"]\n",
    "\n",
    "#Perform a linear regression on Temp Vs Latitude\n",
    "(slope, intercept, rvalue, pvalue, stderr) = linregress(x_values, y_values)\n",
    "\n",
    "#Get regression values\n",
    "regress_values = x_values * slope + intercept\n",
    "print(regress_values) \n",
    "\n",
    "#Create line equation string\n",
    "line_eq = f\"y ={round(slope,2)}x +  {round(intercept,2)}\"\n",
    "line_eq\n",
    "\n",
    "#Create plot\n",
    "plt.scatter(x_values,y_values)\n",
    "plt.plot(x_values,regress_values,\"r-\")\n",
    "         \n",
    "#Label plot and annotacte the line equation\n",
    "plt.xlabel('Latitude')\n",
    "plt.ylabel('Cloudiness')\n",
    "plt.title(\"Northern Hemisphere - Latitude vs. Cloudiness\")\n",
    "plt.annotate(line_eq,(80,80),fontsize=15,color=\"red\")\n",
    "         \n",
    "#Print r square value\n",
    "print(f\"The r-squared is: {rvalue**2}\")\n",
    "         \n",
    "# Show plot\n",
    "plt.show()\n"
   ]
  },
  {
   "cell_type": "markdown",
   "metadata": {},
   "source": [
    "####  Southern Hemisphere - Cloudiness (%) vs. Latitude Linear Regression"
   ]
  },
  {
   "cell_type": "code",
   "execution_count": 21,
   "metadata": {},
   "outputs": [
    {
     "name": "stdout",
     "output_type": "stream",
     "text": [
      "4      47.391576\n",
      "6      50.745203\n",
      "7      48.653420\n",
      "10     49.593452\n",
      "12     53.129158\n",
      "         ...    \n",
      "521    52.786174\n",
      "524    50.421273\n",
      "526    52.651732\n",
      "527    52.666553\n",
      "530    52.515174\n",
      "Name: Latitude, Length: 169, dtype: float64\n",
      "The r-squared is: 0.0015536486572534777\n"
     ]
    },
    {
     "data": {
      "image/png": "[encoded data removed]",
      "text/plain": [
       "<Figure size 432x288 with 1 Axes>"
      ]
     },
     "metadata": {
      "needs_background": "light"
     },
     "output_type": "display_data"
    }
   ],
   "source": [
    "x_values = south_hem[\"Latitude\"]\n",
    "y_values = south_hem[\"Cloudiness\"]\n",
    "\n",
    "#Perform a linear regression on Temp Vs Latitude\n",
    "(slope, intercept, rvalue, pvalue, stderr) = linregress(x_values, y_values)\n",
    "\n",
    "#Get regression values\n",
    "regress_values = x_values * slope + intercept\n",
    "print(regress_values) \n",
    "\n",
    "#Create line equation string\n",
    "line_eq = f\"y ={round(slope,2)}x +  {round(intercept,2)}\"\n",
    "line_eq\n",
    "\n",
    "#Create plot\n",
    "plt.scatter(x_values,y_values)\n",
    "plt.plot(x_values,regress_values,\"r-\")\n",
    "         \n",
    "#Label plot and annotacte the line equation\n",
    "plt.xlabel('Latitude')\n",
    "plt.ylabel('Cloudiness')\n",
    "plt.title(\"Southern Hemisphere - Latitude vs. Cloudiness\")\n",
    "plt.annotate(line_eq,(-10,45),fontsize=15,color=\"red\")\n",
    "         \n",
    "#Print r square value\n",
    "print(f\"The r-squared is: {rvalue**2}\")\n",
    "         \n",
    "# Show plot\n",
    "plt.show()"
   ]
  },
  {
   "cell_type": "code",
   "execution_count": null,
   "metadata": {},
   "outputs": [],
   "source": [
    "#The graphs don't show any correlation between cloudiness and latitude."
   ]
  },
  {
   "cell_type": "markdown",
   "metadata": {},
   "source": [
    "####  Northern Hemisphere - Wind Speed (mph) vs. Latitude Linear Regression"
   ]
  },
  {
   "cell_type": "code",
   "execution_count": 22,
   "metadata": {},
   "outputs": [
    {
     "name": "stdout",
     "output_type": "stream",
     "text": [
      "0      3.847664\n",
      "1      3.562422\n",
      "2      3.842032\n",
      "3      4.598078\n",
      "5      3.687163\n",
      "         ...   \n",
      "532    3.168772\n",
      "533    3.577628\n",
      "534    3.707155\n",
      "535    4.043363\n",
      "536    4.544296\n",
      "Name: Latitude, Length: 368, dtype: float64\n",
      "The r-squared is: 0.04944737633483736\n"
     ]
    },
    {
     "data": {
      "image/png": "[encoded data removed]",
      "text/plain": [
       "<Figure size 432x288 with 1 Axes>"
      ]
     },
     "metadata": {
      "needs_background": "light"
     },
     "output_type": "display_data"
    }
   ],
   "source": [
    "x_values = north_hem[\"Latitude\"]\n",
    "y_values = north_hem[\"Wind Speed\"]\n",
    "\n",
    "#Perform a linear regression on Temp Vs Latitude\n",
    "(slope, intercept, rvalue, pvalue, stderr) = linregress(x_values, y_values)\n",
    "\n",
    "#Get regression values\n",
    "regress_values = x_values * slope + intercept\n",
    "print(regress_values) \n",
    "\n",
    "#Create line equation string\n",
    "line_eq = f\"y ={round(slope,2)}x +  {round(intercept,2)}\"\n",
    "line_eq\n",
    "\n",
    "#Create plot\n",
    "plt.scatter(x_values,y_values)\n",
    "plt.plot(x_values,regress_values,\"r-\")\n",
    "         \n",
    "#Label plot and annotacte the line equation\n",
    "plt.xlabel('Latitude')\n",
    "plt.ylabel('Wind Speed')\n",
    "plt.title(\"Southern Hemisphere - Latitude vs. Wind Speed\")\n",
    "plt.annotate(line_eq,(15,10),fontsize=15,color=\"red\")\n",
    "         \n",
    "#Print r square value\n",
    "print(f\"The r-squared is: {rvalue**2}\")\n",
    "         \n",
    "# Show plot\n",
    "plt.show()"
   ]
  },
  {
   "cell_type": "markdown",
   "metadata": {},
   "source": [
    "####  Southern Hemisphere - Wind Speed (mph) vs. Latitude Linear Regression"
   ]
  },
  {
   "cell_type": "code",
   "execution_count": 23,
   "metadata": {},
   "outputs": [
    {
     "name": "stdout",
     "output_type": "stream",
     "text": [
      "4      5.254042\n",
      "6      3.383534\n",
      "7      4.550239\n",
      "10     4.025930\n",
      "12     2.053867\n",
      "         ...   \n",
      "521    2.245169\n",
      "524    3.564208\n",
      "526    2.320154\n",
      "527    2.311888\n",
      "530    2.396321\n",
      "Name: Latitude, Length: 169, dtype: float64\n",
      "The r-squared is: 0.1075646045654432\n"
     ]
    },
    {
     "data": {
      "image/png": "[encoded data removed]",
      "text/plain": [
       "<Figure size 432x288 with 1 Axes>"
      ]
     },
     "metadata": {
      "needs_background": "light"
     },
     "output_type": "display_data"
    }
   ],
   "source": [
    "x_values = south_hem[\"Latitude\"]\n",
    "y_values = south_hem[\"Wind Speed\"]\n",
    "\n",
    "#Perform a linear regression on Temp Vs Latitude\n",
    "(slope, intercept, rvalue, pvalue, stderr) = linregress(x_values, y_values)\n",
    "\n",
    "#Get regression values\n",
    "regress_values = x_values * slope + intercept\n",
    "print(regress_values) \n",
    "\n",
    "#Create line equation string\n",
    "line_eq = f\"y ={round(slope,2)}x +  {round(intercept,2)}\"\n",
    "line_eq\n",
    "\n",
    "#Create plot\n",
    "plt.scatter(x_values,y_values)\n",
    "plt.plot(x_values,regress_values,\"r-\")\n",
    "         \n",
    "#Label plot and annotacte the line equation\n",
    "plt.xlabel('Latitude')\n",
    "plt.ylabel('Wind Speed')\n",
    "plt.title(\"Southern Hemisphere -Latitude vs. Wind Speed\")\n",
    "plt.annotate(line_eq,(-10,10),fontsize=15,color=\"red\")\n",
    "         \n",
    "#Print r square value\n",
    "print(f\"The r-squared is: {rvalue**2}\")\n",
    "         \n",
    "# Show plot\n",
    "plt.show()"
   ]
  },
  {
   "cell_type": "code",
   "execution_count": null,
   "metadata": {},
   "outputs": [],
   "source": [
    "#Windspeed looks to be relatively consistent regardless of latitude in both of these graphs."
   ]
  },
  {
   "cell_type": "code",
   "execution_count": null,
   "metadata": {},
   "outputs": [],
   "source": []
  },
  {
   "cell_type": "code",
   "execution_count": null,
   "metadata": {},
   "outputs": [],
   "source": [
    "#Observable trends:\n",
    "#1) We can statistically show that temperatures are hotter as you near the equator.\n",
    "#2)There's not a good way to predict cloudiness as our graphs shoed no correlation. \n",
    "#3) There is also no correlation between wind a latitude. "
   ]
  },
  {
   "cell_type": "code",
   "execution_count": null,
   "metadata": {},
   "outputs": [],
   "source": []
  }
 ],
 "metadata": {
  "anaconda-cloud": {},
  "kernel_info": {
   "name": "python3"
  },
  "kernelspec": {
   "display_name": "Python 3",
   "language": "python",
   "name": "python3"
  },
  "language_info": {
   "codemirror_mode": {
    "name": "ipython",
    "version": 3
   },
   "file_extension": ".py",
   "mimetype": "text/x-python",
   "name": "python",
   "nbconvert_exporter": "python",
   "pygments_lexer": "ipython3",
   "version": "3.7.4"
  },
  "latex_envs": {
   "LaTeX_envs_menu_present": true,
   "autoclose": false,
   "autocomplete": true,
   "bibliofile": "biblio.bib",
   "cite_by": "apalike",
   "current_citInitial": 1,
   "eqLabelWithNumbers": true,
   "eqNumInitial": 1,
   "hotkeys": {
    "equation": "Ctrl-E",
    "itemize": "Ctrl-I"
   },
   "labels_anchors": false,
   "latex_user_defs": false,
   "report_style_numbering": false,
   "user_envs_cfg": false
  },
  "nteract": {
   "version": "0.12.3"
  }
 },
 "nbformat": 4,
 "nbformat_minor": 2
}
