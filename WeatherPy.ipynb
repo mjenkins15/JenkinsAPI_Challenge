{
 "cells": [
  {
   "cell_type": "markdown",
   "metadata": {},
   "source": [
    "# WeatherPy\n",
    "----\n",
    "\n",
    "#### Note\n",
    "* Instructions have been included for each segment. You do not have to follow them exactly, but they are included to help you think through the steps."
   ]
  },
  {
   "cell_type": "code",
   "execution_count": 1,
   "metadata": {
    "scrolled": true
   },
   "outputs": [],
   "source": [
    "# Dependencies and Setup\n",
    "import matplotlib.pyplot as plt\n",
    "import pandas as pd\n",
    "import numpy as np\n",
    "import requests\n",
    "import time\n",
    "from scipy.stats import linregress\n",
    "from scipy import stats\n",
    "import json\n",
    "from pprint import pprint\n",
    "\n",
    "# Import API key\n",
    "from api_keys import weather_api_key\n",
    "\n",
    "\n",
    "\n",
    "# Incorporated citipy to determine city based on latitude and longitude\n",
    "from citipy import citipy\n",
    "\n",
    "# Output File (CSV)\n",
    "output_data_file = \"output_data/cities.csv\"\n",
    "\n",
    "# Range of latitudes and longitudes\n",
    "lat_range = (-90, 90)\n",
    "lng_range = (-180, 180)"
   ]
  },
  {
   "cell_type": "markdown",
   "metadata": {},
   "source": [
    "## Generate Cities List"
   ]
  },
  {
   "cell_type": "code",
   "execution_count": 2,
   "metadata": {},
   "outputs": [
    {
     "data": {
      "text/plain": [
       "602"
      ]
     },
     "execution_count": 2,
     "metadata": {},
     "output_type": "execute_result"
    }
   ],
   "source": [
    "# List for holding lat_lngs and cities\n",
    "lat_lngs = []\n",
    "cities = []\n",
    "\n",
    "# Create a set of random lat and lng combinations\n",
    "lats = np.random.uniform(low=-90.000, high=90.000, size=1500)\n",
    "lngs = np.random.uniform(low=-180.000, high=180.000, size=1500)\n",
    "lat_lngs = zip(lats, lngs)\n",
    "\n",
    "# Identify nearest city for each lat, lng combination\n",
    "for lat_lng in lat_lngs:\n",
    "    city = citipy.nearest_city(lat_lng[0], lat_lng[1]).city_name\n",
    "    \n",
    "    # If the city is unique, then add it to a our cities list\n",
    "    if city not in cities:\n",
    "        cities.append(city)\n",
    "\n",
    "# Print the city count to confirm sufficient count\n",
    "len(cities)"
   ]
  },
  {
   "cell_type": "markdown",
   "metadata": {},
   "source": [
    "### Perform API Calls\n",
    "* Perform a weather check on each city using a series of successive API calls.\n",
    "* Include a print log of each city as it'sbeing processed (with the city number and city name).\n"
   ]
  },
  {
   "cell_type": "code",
   "execution_count": 3,
   "metadata": {},
   "outputs": [
    {
     "name": "stdout",
     "output_type": "stream",
     "text": [
      "{'base': 'stations',\n",
      " 'clouds': {'all': 58},\n",
      " 'cod': 200,\n",
      " 'coord': {'lat': 35, 'lon': 139},\n",
      " 'dt': 1588034432,\n",
      " 'id': 1851632,\n",
      " 'main': {'feels_like': 285.33,\n",
      "          'humidity': 69,\n",
      "          'pressure': 1017,\n",
      "          'temp': 286.48,\n",
      "          'temp_max': 286.48,\n",
      "          'temp_min': 286.48},\n",
      " 'name': 'Shuzenji',\n",
      " 'sys': {'country': 'JP',\n",
      "         'id': 2019346,\n",
      "         'sunrise': 1588017382,\n",
      "         'sunset': 1588065982,\n",
      "         'type': 3},\n",
      " 'timezone': 32400,\n",
      " 'weather': [{'description': 'broken clouds',\n",
      "              'icon': '04d',\n",
      "              'id': 803,\n",
      "              'main': 'Clouds'}],\n",
      " 'wind': {'deg': 209, 'gust': 2.24, 'speed': 0.89}}\n"
     ]
    }
   ],
   "source": [
    "#Day 2 APIs, Activity 5 for reference\n",
    "\n",
    "url= f\"http://api.openweathermap.org/data/2.5/weather?lat=35&lon=139&appid={weather_api_key}\"\n",
    "units = \"imperial\"\n",
    "\n",
    "\n",
    "#Build partial query URl\n",
    "query_url = f\"{url}appid={weather_api_key}&units={units}&q=\"\n",
    "response = requests.get(url)\n",
    "weather =response.json()\n",
    "\n",
    "pprint(weather)\n",
    "#response.text\n"
   ]
  },
  {
   "cell_type": "code",
   "execution_count": 4,
   "metadata": {},
   "outputs": [
    {
     "name": "stdout",
     "output_type": "stream",
     "text": [
      "Success huari\n",
      "Success punta arenas\n",
      "Success hilo\n",
      "Success muskegon\n",
      "Success alofi\n",
      "Unknown Data for:mys shmidta\n",
      "Success puerto ayora\n",
      "Success praia da vitoria\n",
      "Success bredasdorp\n",
      "Success hofn\n",
      "Success busselton\n",
      "Success leshukonskoye\n",
      "Unknown Data for:belushya guba\n",
      "Success kieta\n",
      "Success guerrero negro\n",
      "Success castro\n",
      "Success atuona\n",
      "Success kapaa\n",
      "Success khatanga\n",
      "Unknown Data for:utiroa\n",
      "Unknown Data for:kamenskoye\n",
      "Success lodwar\n",
      "Success dikson\n",
      "Success new norfolk\n",
      "Success batagay-alyta\n",
      "Unknown Data for:amderma\n",
      "Success mwinilunga\n",
      "Success mar del plata\n",
      "Success saint anthony\n",
      "Success zubtsov\n",
      "Success mataura\n",
      "Success cape town\n",
      "Success salalah\n",
      "Success xining\n",
      "Success mabaruma\n",
      "Success trincomalee\n",
      "Success albany\n",
      "Success vaini\n",
      "Success herat\n",
      "Success dibulla\n",
      "Success can tho\n",
      "Success lompoc\n",
      "Success petropavlovsk-kamchatskiy\n",
      "Success mehamn\n",
      "Success rikitea\n",
      "Success port elizabeth\n",
      "Success fredericksburg\n",
      "Success bluff\n",
      "Success chokurdakh\n",
      "Success mnogovershinnyy\n",
      "Success sabang\n",
      "Success torbay\n",
      "Success nelson bay\n",
      "Success jamestown\n",
      "Success sambava\n",
      "Success caravelas\n",
      "Success pangnirtung\n",
      "Success chandler\n",
      "Unknown Data for:thespiai\n",
      "Success barrow\n",
      "Success ushuaia\n",
      "Success port lincoln\n",
      "Success esperance\n",
      "Success manohar thana\n",
      "Success east london\n",
      "Success merrill\n",
      "Success ushtobe\n",
      "Success risor\n",
      "Success port alfred\n",
      "Success fort nelson\n",
      "Success vanderhoof\n",
      "Success nemuro\n",
      "Unknown Data for:tarudant\n",
      "Success saint george\n",
      "Success tautira\n",
      "Success montepuez\n",
      "Success palmas bellas\n",
      "Success hasaki\n",
      "Success victoria\n",
      "Success kiama\n",
      "Success adre\n",
      "Success hobart\n",
      "Success vila velha\n",
      "Success avarua\n",
      "Success namibe\n",
      "Success chapais\n",
      "Success kamaishi\n",
      "Success leningradskiy\n",
      "Success lebu\n",
      "Success olinda\n",
      "Success upernavik\n",
      "Unknown Data for:rungata\n",
      "Success kysyl-syr\n",
      "Success papetoai\n",
      "Success yong peng\n",
      "Success murray bridge\n",
      "Success qaanaaq\n",
      "Success ilulissat\n",
      "Success tilichiki\n",
      "Success les cayes\n",
      "Success evensk\n",
      "Success carnarvon\n",
      "Unknown Data for:illoqqortoormiut\n",
      "Unknown Data for:kuche\n",
      "Success khovu-aksy\n",
      "Success san patricio\n",
      "Success luoyang\n",
      "Unknown Data for:grand river south east\n",
      "Success tiksi\n",
      "Success luanda\n",
      "Success hay river\n",
      "Success ulladulla\n",
      "Success ostrovnoy\n",
      "Success georgetown\n",
      "Success mumford\n",
      "Success los llanos de aridane\n",
      "Success flinders\n",
      "Success aldan\n",
      "Success aripuana\n",
      "Success yaounde\n",
      "Success kyra\n",
      "Success westport\n",
      "Success falun\n",
      "Success yulara\n",
      "Success dingle\n",
      "Success meulaboh\n",
      "Success kruisfontein\n",
      "Unknown Data for:taolanaro\n",
      "Success iqaluit\n",
      "Success jumla\n",
      "Success saldanha\n",
      "Success bathsheba\n",
      "Success san ignacio\n",
      "Success roald\n",
      "Success leua\n",
      "Success naantali\n",
      "Success kondinskoye\n",
      "Success maneadero\n",
      "Success synya\n",
      "Success cherskiy\n",
      "Success palmer\n",
      "Success san felipe\n",
      "Success labytnangi\n",
      "Success aksarka\n",
      "Success yellowknife\n",
      "Success tocopilla\n",
      "Success dunedin\n",
      "Success abu samrah\n",
      "Success njombe\n",
      "Success ponta do sol\n",
      "Success salinopolis\n",
      "Success yeysk\n",
      "Success zhangjiakou\n",
      "Success xichang\n",
      "Success kiunga\n",
      "Success nikolskoye\n",
      "Success devils lake\n",
      "Success port macquarie\n",
      "Success laguna\n",
      "Success abu zabad\n",
      "Success gedo\n",
      "Success parksville\n",
      "Success rorvik\n",
      "Success butaritari\n",
      "Success san bernardino\n",
      "Success san jeronimo\n",
      "Success buala\n",
      "Success jinchang\n",
      "Success kavaratti\n",
      "Success grindavik\n",
      "Success phuntsholing\n",
      "Success prince albert\n",
      "Success geraldton\n",
      "Success voh\n",
      "Success chuy\n",
      "Success turochak\n",
      "Success darhan\n",
      "Unknown Data for:nizhneyansk\n",
      "Success razole\n",
      "Success kodiak\n",
      "Success aswan\n",
      "Success bure\n",
      "Success wuwei\n",
      "Success maunabo\n",
      "Success vao\n",
      "Unknown Data for:marcona\n",
      "Success tsuruga\n",
      "Success hithadhoo\n",
      "Success antalaha\n",
      "Success naze\n",
      "Success lagoa\n",
      "Success buta\n",
      "Success kuryk\n",
      "Success marsa matruh\n",
      "Success college\n",
      "Unknown Data for:barentsburg\n",
      "Success san fernando\n",
      "Success rocha\n",
      "Success ati\n",
      "Success deshnok\n",
      "Success marsh harbour\n",
      "Success saint-pierre\n",
      "Success tuktoyaktuk\n",
      "Success nome\n",
      "Success nexo\n",
      "Success olafsvik\n",
      "Success saskylakh\n",
      "Success wuchang\n",
      "Success maroantsetra\n",
      "Success fairbanks\n",
      "Success thompson\n",
      "Success bethel\n",
      "Success longyearbyen\n",
      "Success sao sebastiao\n",
      "Success dauriya\n",
      "Success cabo san lucas\n",
      "Success ngunguru\n",
      "Success rawson\n",
      "Success malegaon\n",
      "Success vardo\n",
      "Success mataram\n",
      "Success mahebourg\n",
      "Success marieville\n",
      "Success moville\n",
      "Success atar\n",
      "Unknown Data for:nao-me-toque\n",
      "Success severo-kurilsk\n",
      "Success port blair\n",
      "Success alexandria\n",
      "Success bud\n",
      "Success sola\n",
      "Success almaznyy\n",
      "Unknown Data for:tunxi\n",
      "Success neryungri\n",
      "Success labuhan\n",
      "Success lavumisa\n",
      "Success tasiilaq\n",
      "Success clyde river\n",
      "Success ndele\n",
      "Success saint-francois\n",
      "Success olavarria\n",
      "Unknown Data for:dolbeau\n",
      "Success mariel\n",
      "Success kropotkin\n",
      "Success eten\n",
      "Success balaka\n",
      "Success kirkkonummi\n",
      "Success talnakh\n",
      "Success saint-philippe\n",
      "Success chiang rai\n",
      "Success najran\n",
      "Success natagaima\n",
      "Success sembe\n",
      "Success provideniya\n",
      "Success moquegua\n",
      "Unknown Data for:sapao\n",
      "Success ostersund\n",
      "Success kaitangata\n",
      "Unknown Data for:addi ugri\n",
      "Success ballina\n",
      "Success slave lake\n",
      "Success ancud\n",
      "Success zunheboto\n",
      "Success udachnyy\n",
      "Success turan\n",
      "Success hermanus\n",
      "Success elko\n",
      "Success vestmanna\n",
      "Success inuvik\n",
      "Success sobolevo\n",
      "Success tobermory\n",
      "Success sucua\n",
      "Success santa rita\n",
      "Success balabac\n",
      "Success hamilton\n",
      "Success boddam\n",
      "Success zhigansk\n",
      "Success howick\n",
      "Success samarai\n",
      "Success nanortalik\n",
      "Success lebedyan\n",
      "Success dharchula\n",
      "Success clearwater\n",
      "Success yichang\n",
      "Success raudeberg\n",
      "Success mula\n",
      "Success mbigou\n",
      "Success faanui\n",
      "Success bilma\n",
      "Success mlowo\n",
      "Success sao joao da barra\n",
      "Success miranda\n",
      "Success butajira\n",
      "Unknown Data for:vaitupu\n",
      "Success srednekolymsk\n",
      "Success umm lajj\n",
      "Success kahului\n",
      "Success sulmona\n",
      "Success rio grande\n",
      "Success tual\n",
      "Success klaksvik\n",
      "Success araci\n",
      "Success oga\n",
      "Success wundanyi\n",
      "Success vostok\n",
      "Success burlington\n",
      "Success neuquen\n",
      "Success sampit\n",
      "Success bonavista\n",
      "Success te anau\n",
      "Success lavrentiya\n",
      "Success broken hill\n",
      "Success ise\n",
      "Success wenling\n",
      "Success acarau\n",
      "Success kindu\n",
      "Success buraydah\n",
      "Success fukuma\n",
      "Success kindia\n",
      "Success tuatapere\n",
      "Success sioux lookout\n",
      "Success carlsbad\n",
      "Unknown Data for:xiongshi\n",
      "Success san policarpo\n",
      "Success farafangana\n",
      "Success lundazi\n",
      "Success prince rupert\n",
      "Success labrea\n",
      "Success maumere\n",
      "Success tecpan\n",
      "Success bardiyah\n",
      "Success bernex\n",
      "Success vulcan\n",
      "Success gondanglegi\n",
      "Success progreso\n",
      "Success abalak\n",
      "Unknown Data for:sentyabrskiy\n",
      "Success chatellerault\n",
      "Success pueblo\n",
      "Success asfi\n",
      "Success shingu\n",
      "Unknown Data for:wahran\n",
      "Success nantucket\n",
      "Success matadi\n",
      "Success north bend\n",
      "Success honningsvag\n",
      "Success coquimbo\n",
      "Success mananara\n",
      "Success katobu\n",
      "Success altay\n",
      "Success bambous virieux\n",
      "Success abnub\n",
      "Success boralday\n",
      "Unknown Data for:louisbourg\n",
      "Success vestmannaeyjar\n",
      "Success avera\n",
      "Success constitucion\n",
      "Success noumea\n",
      "Success kamenka\n",
      "Success nong bua\n",
      "Success touros\n",
      "Success qianan\n",
      "Success soyo\n",
      "Success ribeira grande\n",
      "Success lhokseumawe\n",
      "Success kaoma\n",
      "Success port arthur\n",
      "Success shahr-e babak\n",
      "Success kavieng\n",
      "Success fare\n",
      "Success conceicao do araguaia\n",
      "Success taseyevo\n",
      "Success ashcroft\n",
      "Success annau\n",
      "Success dukat\n",
      "Success pevek\n",
      "Success norman wells\n",
      "Success faya\n",
      "Unknown Data for:strasshof\n",
      "Unknown Data for:tsihombe\n",
      "Success plettenberg bay\n",
      "Success copiapo\n",
      "Success tuy hoa\n",
      "Success hualmay\n",
      "Success tomatlan\n",
      "Unknown Data for:ituni\n",
      "Success rottingdean\n",
      "Success bafilo\n",
      "Success serenje\n",
      "Success gorontalo\n",
      "Success amaga\n",
      "Success ejido\n",
      "Success phulji\n",
      "Success camacha\n",
      "Success nyurba\n",
      "Success ambulu\n",
      "Success golden gate\n",
      "Success iracoubo\n",
      "Success swan hill\n",
      "Success portland\n",
      "Success la macarena\n",
      "Unknown Data for:tabiauea\n",
      "Success taihe\n",
      "Unknown Data for:samusu\n",
      "Success novoagansk\n",
      "Success padang\n",
      "Success petrozavodsk\n",
      "Success henties bay\n",
      "Success vila franca do campo\n",
      "Success envira\n",
      "Success coolum beach\n",
      "Success nizhniy odes\n",
      "Success anuradhapura\n",
      "Success jepara\n",
      "Unknown Data for:longlac\n",
      "Success paamiut\n",
      "Success taitung\n",
      "Success belaya gora\n",
      "Success sangar\n",
      "Success ucluelet\n",
      "Success charlottesville\n",
      "Success cidreira\n",
      "Success manuk mangkaw\n",
      "Success honiara\n",
      "Success port hedland\n",
      "Success hami\n",
      "Success dubbo\n",
      "Success koutiala\n",
      "Success luderitz\n",
      "Success shenzhen\n",
      "Success kidal\n",
      "Success yatou\n",
      "Success bonthe\n",
      "Unknown Data for:warqla\n",
      "Success airai\n",
      "Unknown Data for:babanusah\n",
      "Unknown Data for:umzimvubu\n",
      "Success karratha\n",
      "Success acapulco\n",
      "Success mandalgovi\n",
      "Success kaeo\n",
      "Success kontagora\n",
      "Success swan river\n",
      "Success mayumba\n",
      "Success saint-leu\n",
      "Success quang ngai\n",
      "Success canavieiras\n",
      "Success phan thiet\n",
      "Success barendrecht\n",
      "Success tabas\n",
      "Success hobyo\n",
      "Success neftcala\n",
      "Unknown Data for:viligili\n",
      "Success khuzhir\n",
      "Success spirit river\n",
      "Success flin flon\n",
      "Success freeport\n"
     ]
    },
    {
     "name": "stdout",
     "output_type": "stream",
     "text": [
      "Success arraial do cabo\n",
      "Success yaransk\n",
      "Success maniitsoq\n",
      "Success richards bay\n",
      "Success eyl\n",
      "Success fukue\n",
      "Success grand gaube\n",
      "Success bangaon\n",
      "Success rach gia\n",
      "Success matara\n",
      "Success kharp\n",
      "Success manicore\n",
      "Success moussoro\n",
      "Unknown Data for:nguiu\n",
      "Success kendari\n",
      "Success garissa\n",
      "Success isangel\n",
      "Success snasa\n",
      "Success sept-iles\n",
      "Success ejea de los caballeros\n",
      "Success lasa\n",
      "Success codrington\n",
      "Success ahipara\n",
      "Success brae\n",
      "Success lazaro cardenas\n",
      "Success waipawa\n",
      "Unknown Data for:falealupo\n",
      "Success lieksa\n",
      "Success cooma\n",
      "Success gallup\n",
      "Success mana\n",
      "Success corrales\n",
      "Success zalantun\n",
      "Success bourg-en-bresse\n",
      "Success kandi\n",
      "Unknown Data for:attawapiskat\n",
      "Success boa vista\n",
      "Success wanlaweyn\n",
      "Success baljevac\n",
      "Success souillac\n",
      "Success tobol\n",
      "Success bogense\n",
      "Success wenzhou\n",
      "Success campbellsville\n",
      "Success jardim\n",
      "Success ust-ilimsk\n",
      "Success columbus\n",
      "Success vanimo\n",
      "Success road town\n",
      "Success williamsport\n",
      "Success egvekinot\n",
      "Success verkhoyansk\n",
      "Success kenora\n",
      "Success baykit\n",
      "Success pombia\n",
      "Success smidovich\n",
      "Success gazimurskiy zavod\n",
      "Success ambon\n",
      "Success paita\n",
      "Unknown Data for:nabul\n",
      "Success bihoro\n",
      "Unknown Data for:azimur\n",
      "Success berezna\n",
      "Success comodoro rivadavia\n",
      "Success san isidro\n",
      "Success cap malheureux\n",
      "Success prado\n",
      "Success calvia\n",
      "Success panan\n",
      "Success kulhudhuffushi\n",
      "Success sitka\n",
      "Success varkkallai\n",
      "Success wahiawa\n",
      "Success along\n",
      "Success oktyabrskoye\n",
      "Success rio gallegos\n",
      "Success muros\n",
      "Success sur\n",
      "Success victor harbor\n",
      "Unknown Data for:ye\n",
      "Success mbanza-ngungu\n",
      "Success asau\n",
      "Success yumen\n",
      "Success lata\n",
      "Success narsaq\n",
      "Success onega\n",
      "Unknown Data for:bolungarvik\n",
      "Success beyneu\n",
      "Success kumluca\n",
      "Success xambioa\n",
      "Success bubaque\n",
      "Success manzhouli\n",
      "Success diapaga\n",
      "Success aksehir\n",
      "Success lewistown\n",
      "Success vagur\n",
      "Success dong hoi\n",
      "Success nueva guinea\n",
      "Success nouadhibou\n",
      "Success sistranda\n",
      "Success shinpokh\n",
      "Success jalu\n",
      "Success taoudenni\n",
      "Success moree\n",
      "Success coihaique\n",
      "Success whitehorse\n",
      "Success bilibino\n",
      "Success bend\n",
      "Success santa helena de goias\n",
      "Success nantong\n",
      "Success zarubino\n",
      "Unknown Data for:temaraia\n",
      "Success warmbad\n",
      "Success ponta delgada\n",
      "Success manggar\n",
      "Success bandarbeyla\n",
      "Success coahuayana\n",
      "Success kyabram\n",
      "Success upata\n",
      "Success beloha\n",
      "Success ocos\n",
      "Success banda aceh\n",
      "Success taunggyi\n",
      "Unknown Data for:halalo\n",
      "Success sumbe\n",
      "Success mogadishu\n",
      "Success estepona\n",
      "Success porto novo\n",
      "Success ansbach\n",
      "Success praia\n",
      "Success san juan\n",
      "Success blagoyevo\n",
      "Success barbacoas\n",
      "Success berlevag\n",
      "Success kamennogorsk\n",
      "Success sovetskiy\n",
      "Success batemans bay\n",
      "Success san quintin\n",
      "Success lujan\n",
      "Success bereda\n",
      "Success dorado\n",
      "Success forrest city\n",
      "Success bima\n",
      "Success sao filipe\n",
      "Success dunda\n",
      "{'coord': {'lon': 34.25, 'lat': -8.12}, 'weather': [{'id': 802, 'main': 'Clouds', 'description': 'scattered clouds', 'icon': '03n'}], 'base': 'stations', 'main': {'temp': 289.99, 'feels_like': 289.63, 'temp_min': 289.99, 'temp_max': 289.99, 'pressure': 1016, 'humidity': 66, 'sea_level': 1016, 'grnd_level': 892}, 'wind': {'speed': 0.76, 'deg': 178}, 'clouds': {'all': 30}, 'dt': 1588034842, 'sys': {'country': 'TZ', 'sunrise': 1588045511, 'sunset': 1588088128}, 'timezone': 10800, 'id': 160141, 'name': 'Dunda', 'cod': 200}\n",
      "['Huari', 'Punta Arenas', 'Hilo', 'Muskegon', 'Alofi', 'Puerto Ayora', 'Praia da Vitória', 'Bredasdorp', 'Hofn', 'Busselton', 'Leshukonskoye', 'Kieta', 'Guerrero Negro', 'Castro', 'Atuona', 'Kapaa', 'Khatanga', 'Lodwar', 'Dikson', 'New Norfolk', 'Batagay-Alyta', 'Mwinilunga', 'Mar del Plata', 'Saint Anthony', 'Zubtsov', 'Mataura', 'Cape Town', 'Salalah', 'Xining', 'Mabaruma', 'Trincomalee', 'Albany', 'Vaini', 'Herat Province', 'Dibulla', 'Can Tho', 'Lompoc', 'Petropavlovsk-Kamchatskiy', 'Mehamn', 'Rikitea', 'Port Elizabeth', 'Fredericksburg', 'Bluff', 'Chokurdakh', 'Mnogovershinnyy', 'Sabang', 'Torbay', 'Nelson Bay', 'Jamestown', 'Sambava', 'Caravelas', 'Pangnirtung', 'Chandler', 'Barrow', 'Ushuaia', 'Port Lincoln', 'Esperance', 'Manohar Thāna', 'East London', 'Merrill', 'Ushtobe', 'Risør', 'Port Alfred', 'Fort Nelson', 'Vanderhoof', 'Nemuro', 'Saint George', 'Tautira', 'Montepuez', 'Palmas Bellas', 'Hasaki', 'Hong Kong', 'Kiama', 'Adré', 'Hobart', 'Vila Velha', 'Avarua', 'Mossamedes', 'Chapais', 'Kamaishi', 'Leningradskiy', 'Lebu', 'Olinda', 'Upernavik', 'Kysyl-Syr', 'Papetoai', 'Yong Peng', 'Murray Bridge', 'Qaanaaq', 'Ilulissat', 'Tilichiki', 'Les Cayes', 'Evensk', 'Carnarvon', 'Khovu-Aksy', 'San Patricio', 'Luoyang', 'Tiksi', 'Luanda', 'Hay River', 'Ulladulla', 'Ostrovnoy', 'George Town', 'Mumford', 'Los Llanos de Aridane', 'Flinders', 'Aldan', 'Aripuanã', 'Yaoundé', 'Kyra', 'Westport', 'Falun', 'Yulara', 'Dingle', 'Meulaboh', 'Kruisfontein', 'Iqaluit', 'Jumla', 'Saldanha', 'Bathsheba', 'San Ignacio', 'Roald', 'Levice', 'Naantali', 'Kondinskoye', 'Rodolfo Sánchez Taboada', 'Synya', 'Cherskiy', 'Palmer', 'San Felipe', 'Labytnangi', 'Aksarka', 'Yellowknife', 'Tocopilla', 'Dunedin', 'Abu Samrah', 'Njombe', 'Ponta do Sol', 'Salinópolis', 'Yeysk', 'Zhangjiakou', 'Xichang', 'Kiunga', 'Nikolskoye', 'Devils Lake', 'Port Macquarie', 'Laguna', 'Abū Zabad', 'Gēdo', 'Parksville', 'Rørvik', 'Butaritari', 'San Bernardino', 'San Jerónimo', 'Buala', 'Jinchang', 'Kavaratti', 'Grindavik', 'Phuntsholing', 'Prince Albert', 'Geraldton', 'Voh', 'Chui', 'Turochak', 'Darhan', 'Rāzole', 'Saint Paul Harbor', 'Aswān', 'Burē', 'Wuwei', 'Maunabo', 'Vao', 'Tsuruga', 'Hithadhoo', 'Antalaha', 'Naze', 'Lagoa', 'Buta', 'Quryq', 'Marsá Maţrūḩ', 'College', 'San Fernando', 'Rocha', 'Ati', 'Deshnok', 'Marsh Harbour', 'Saint-Pierre', 'Tuktoyaktuk', 'Nome', 'Nexø', 'Olafsvik', 'Saskylakh', 'Wuchang', 'Maroantsetra', 'Fairbanks', 'Thompson', 'Bethel', 'Longyearbyen', 'São Sebastião', 'Dauriya', 'Cabo San Lucas', 'Ngunguru', 'Rawson', 'Malegaon', 'Vardø', 'Mataram', 'Mahébourg', 'Marieville', 'Moville', 'Atar', \"Severo-Kuril'sk\", 'Port Blair', 'Alexandria', 'Bud', 'Sola', 'Almaznyy', 'Neryungri', 'Labuhan', 'Lavumisa', 'Tasiilaq', 'Clyde River', 'Ndélé', 'Saint-François', 'Olavarría', 'Mariel', 'Kropotkin', 'Eten', 'Balaka', 'Kirkkonummi', 'Talnakh', 'Saint-Philippe', 'Chiang Rai', 'Najrān', 'Natagaima', 'Sémbé', 'Provideniya', 'Moquegua', 'Östersund', 'Kaitangata', 'Ballina', 'Slave Lake', 'Ancud', 'Zunheboto', 'Udachny', 'Turan', 'Hermanus', 'Elko', 'Vestmanna', 'Inuvik', 'Sobolevo', 'Tobermory', 'Sucúa', 'Santa Rita', 'Balabac', 'Hamilton', 'Boddam', 'Zhigansk', 'Howick', 'Samarai', 'Nanortalik', \"Lebedyan'\", 'Dhārchula', 'Clearwater', 'Yichang', 'Raudeberg', 'Mula', 'Mbigou', 'Faanui', 'Bilma', 'Mlowo', 'São João da Barra', 'Miranda', 'Butajīra', 'Srednekolymsk', 'Umluj', 'Kahului', 'Sulmona', 'Rio Grande', 'Tual', 'Klaksvík', 'Araci', 'Oga', 'Wundanyi', 'Vostok', 'Burlington', 'Neuquén', 'Sampit', 'Bonavista', 'Te Anau', 'Lavrentiya', 'Broken Hill', 'Ise', 'Wenling', 'Acaraú', 'Kindu', 'Buraidah', 'Nishifukuma', 'Kindia', 'Tuatapere', 'Sioux Lookout', 'Carlsbad', 'San Policarpo', 'Farafangana', 'Lundazi', 'Prince Rupert', 'Lábrea', 'Maumere', 'Tecpan', 'Al Bardīyah', 'Bernex', 'Vulcan', 'Gondanglegi', 'Progreso', 'Abalak', 'Châtellerault', 'Pueblo', 'Safi', 'Shingū', 'Nantucket', 'Matadi', 'North Bend', 'Honningsvåg', 'Coquimbo', 'Mananara', 'Katobu', 'Altay', 'Bambous Virieux', 'Abnūb', 'Boralday', 'Vestmannaeyjar', 'Avera', 'Constitución', 'Noumea', 'Kamenka', 'Nong Bua', 'Touros', 'Qian’an', 'Soyo', 'Ribeira Grande', 'Lhokseumawe', 'Kaoma', 'Lüshunkou', 'Shahr-e Bābak', 'Kavieng', 'Fare', 'Conceição do Araguaia', 'Taseyevo', 'Ashcroft', 'Annau', 'Dukat', 'Pevek', 'Norman Wells', 'Faya', 'Plettenberg Bay', 'Copiapó', 'Tuy Hoa', 'Hualmay', 'Tomatlán', 'Rottingdean', 'Bafilo', 'Serenje', 'Gorontalo', 'Amagá', 'Ejido', 'Goth Phulji', 'Camacha', 'Nyurba', 'Ambulu', 'Golden Gate', 'Iracoubo', 'Swan Hill', 'Portland', 'La Macarena', 'Taihe', 'Novoagansk', 'Padang', 'Petrozavodsk', 'Henties Bay', 'Vila Franca do Campo', 'Envira', 'Coolum Beach', 'Nizhniy Odes', 'Anuradhapura', 'Jepara', 'Paamiut', 'Taitung City', 'Belaya Gora', 'Sangar', 'Ucluelet', 'Charlottesville', 'Cidreira', 'Manuk Mangkaw', 'Honiara', 'Port Hedland', 'Kumul', 'Dubbo', 'Koutiala', 'Lüderitz', 'Shenzhen', 'Kidal', 'Yatou', 'Bonthe', 'Airai', 'Karratha', 'Acapulco de Juárez', 'Mandalgovi', 'Kaeo', 'Kontagora', 'Swan River', 'Mayumba', 'Saint-Leu', 'Quang Ngai', 'Canavieiras', 'Phan Thiet', 'Gemeente Barendrecht', 'Tabas', 'Hobyo', 'Neftçala', 'Khuzhir', 'Spirit River', 'Flin Flon', 'Freeport', 'Arraial do Cabo', 'Yaransk', 'Maniitsoq', 'Richards Bay', 'Eyl', 'Fukuechō', 'Grand Gaube', 'Bangaon', 'Rach Gia', 'Matara', 'Kharp', 'Manicoré', 'Moussoro', 'Kendari', 'Garissa', 'Isangel', 'Snåase', 'Sept-Îles', 'Ejea de los Caballeros', 'Laas', 'Codrington', 'Ahipara', 'Brae', 'Lázaro Cárdenas', 'Waipawa', 'Lieksa', 'Cooma', 'Gallup', 'Mana', 'Corrales', 'Zhalantun', 'Arrondissement de Bourg-en-Bresse', 'Kandi', 'Boa Vista', 'Wanlaweyn', 'Baljevac', 'Souillac', 'Tobol', 'Bogense', 'Wenzhou', 'Campbellsville', 'Jardim', \"Ust'-Ilimsk\", 'Columbus', 'Vanimo', 'Road Town', 'Williamsport', 'Egvekinot', 'Verkhoyansk', 'Kenora', 'Baykit', 'Pombia', 'Smidovich', 'Gazimurskiy Zavod', 'Ambon City', 'Paita', 'Motomachi', 'Berezna', 'Comodoro Rivadavia', 'San Isidro', 'Cap Malheureux', 'Prado', 'Calvià', 'Panan', 'Kulhudhuffushi', 'Sitka', 'Varkala', 'Wahiawā', 'Along', \"Oktyabr'skoye\", 'Río Gallegos', 'Muros', 'Sur', 'Victor Harbor', 'Mbanza-Ngungu', 'Asău', 'Yumen', 'Lata', 'Narsaq', 'Onega', 'Beyneu', 'Kumluca', 'Xambioá', 'Bubaque', 'Manzhouli', 'Diapaga', 'Akşehir', 'Lewistown', 'Vágur', 'Kwang Binh', 'Nueva Guinea', 'Nouadhibou', 'Sistranda', 'Shinpokh', 'Jalu', 'Taoudenni', 'Moree', 'Coyhaique', 'Whitehorse', 'Bilibino', 'Bend', 'Santa Helena de Goiás', 'Nantong', 'Zarubino', 'Warmbad', 'Ponta Delgada', 'Manggar', 'Bandarbeyla', 'Coahuayana Viejo', 'Kyabram', 'Upata', 'Beloha', 'Ocós', 'Banda Aceh', 'Taunggyi', 'Sumbe', 'Mogadishu', 'Estepona', 'Porto-Novo', 'Ansbach', 'Praia', 'San Juan', 'Blagoyevo', 'Barbacoas', 'Berlevåg', 'Kamennogorsk', 'Sovetskiy', 'Batemans Bay', 'San Quintín', 'Luján', 'Bereda', 'Dorado', 'Forrest City', 'Bima', 'São Filipe', 'Dunda']\n",
      "[4.600000000000023, -0.8500000000000227, 25.060000000000002, 9.610000000000014, 27.149999999999977, 26.970000000000027, 15.149999999999977, 15.149999999999977, 2.6899999999999977, 11.819999999999993, -3.329999999999984, 31.029999999999973, 21.029999999999973, 14.29000000000002, 28.44999999999999, 26, -7.800000000000011, 28.029999999999973, -6.529999999999973, 15.069999999999993, -6.160000000000025, 14.680000000000007, 16.029999999999973, 21.74000000000001, -0.6200000000000045, 15.149999999999977, 15.310000000000002, 29.149999999999977, 12.410000000000025, 23.670000000000016, 28.439999999999998, 4.720000000000027, 26.149999999999977, 16.110000000000014, 26.79000000000002, 28.149999999999977, 17.44999999999999, 6.149999999999977, -3.8999999999999773, 25.139999999999986, 15.149999999999977, 9.839999999999975, 15.149999999999977, -6.689999999999998, 1.3100000000000023, 27.529999999999973, 0.8199999999999932, 23.970000000000027, 8.149999999999977, 24.649999999999977, 23.529999999999973, -15.920000000000016, 37.20999999999998, -9.850000000000023, 7.149999999999977, 20.04000000000002, 13.149999999999977, 26.44999999999999, 18.220000000000027, 13.95999999999998, 21.620000000000005, 4.589999999999975, 17.930000000000007, 13.149999999999977, 11.860000000000014, 9.149999999999977, 31.20999999999998, 31.149999999999977, 17.99000000000001, 26.94999999999999, 14.670000000000016, 24.170000000000016, 22.470000000000027, 25.279999999999973, 16.129999999999995, 22.560000000000002, 28.149999999999977, 23.350000000000023, 5.149999999999977, 10.149999999999977, -1.259999999999991, 12.480000000000018, 28.149999999999977, -1.670000000000016, 1.829999999999984, 31.149999999999977, 25.860000000000014, 16.819999999999993, -5.0400000000000205, -0.8500000000000227, -3.1000000000000227, 25.629999999999995, -1.0199999999999818, 20.149999999999977, 12.95999999999998, 25.149999999999977, 19.870000000000005, -5.920000000000016, 25.149999999999977, 8.149999999999977, 20.29000000000002, -2.079999999999984, 25.730000000000018, 27.100000000000023, 16.74000000000001, 22.930000000000007, 1.25, 23.79000000000002, 23.149999999999977, 8.319999999999993, 5.560000000000002, 0.839999999999975, 26.149999999999977, 30.850000000000023, 26.370000000000005, 13.25, -8.019999999999982, 8.420000000000016, 16.149999999999977, 27.149999999999977, 31.769999999999982, 5.930000000000007, 7.149999999999977, -0.8999999999999773, 9.20999999999998, 20.70999999999998, -1.3100000000000023, 0.36000000000001364, 3.8999999999999773, 21.980000000000018, -5.0400000000000205, -2.2200000000000273, 2.480000000000018, 19.629999999999995, 14.350000000000023, 13.269999999999982, 14.139999999999986, 14.490000000000009, 26.470000000000027, 9.800000000000011, 17.220000000000027, 16.30000000000001, 32.160000000000025, -1.1899999999999977, 18.149999999999977, 20.149999999999977, 30.310000000000002, 25.24000000000001, 13.149999999999977, 14.370000000000005, 4.779999999999973, 27, 28.850000000000023, 9.860000000000014, 31.00999999999999, 19.649999999999977, 29.970000000000027, 5.149999999999977, 22.639999999999986, 11.149999999999977, 19.149999999999977, 28.00999999999999, 17.879999999999995, 13.800000000000011, 14.269999999999982, 27.689999999999998, 11.149999999999977, 27.920000000000016, 18.910000000000025, 16.819999999999993, 25.910000000000025, 24.360000000000014, 16.25999999999999, 29.060000000000002, 24.069999999999993, 21.149999999999977, 14.199999999999989, 21.350000000000023, 11.990000000000009, 17.55000000000001, 7.0400000000000205, 30.149999999999977, 16.75999999999999, 30.069999999999993, 29.610000000000014, 22.95999999999998, 20.399999999999977, -8.850000000000023, -3.6200000000000045, 7.149999999999977, 6.0400000000000205, -6.5, 7.019999999999982, 24.55000000000001, 7.189999999999998, 0.14999999999997726, 4.600000000000023, -3.8500000000000227, 20.810000000000002, 11.220000000000027, 30.060000000000002, 20.839999999999975, 14.439999999999998, 25.269999999999982, -1.329999999999984, 27.149999999999977, 24.149999999999977, 8.350000000000023, 25.269999999999982, 26.20999999999998, 0.7699999999999818, 29.910000000000025, 18.149999999999977, 17.310000000000002, 27.560000000000002, 6.149999999999977, 2.670000000000016, 27.629999999999995, 19.180000000000007, 1.7699999999999818, -11.850000000000023, 24.329999999999984, 13.149999999999977, 15.70999999999998, 26.149999999999977, 5.829999999999984, 20.529999999999973, 16.279999999999973, 1.8199999999999932, -6.850000000000023, 21.139999999999986, 21.149999999999977, 25.149999999999977, 26.939999999999998, 20.79000000000002, -1.8500000000000227, 19.660000000000025, 0.14999999999997726, 13.970000000000027, 20.680000000000007, 8.149999999999977, 12.740000000000009, 15.360000000000014, -0.8500000000000227, 24.149999999999977, 15.25, 19.439999999999998, 3.1499999999999773, -5.850000000000023, 1.3000000000000114, 7.3700000000000045, 21.80000000000001, 25.149999999999977, 29.600000000000023, 15.699999999999989, 3, -3.0400000000000205, 17.860000000000014, 28.689999999999998, 0.3100000000000023, 4.149999999999977, 15.120000000000005, 21.079999999999984, 22.75, 4.589999999999975, 15.889999999999986, 20.75999999999999, 28.670000000000016, 29.80000000000001, 14.060000000000002, 21.899999999999977, 26.149999999999977, 15.420000000000016, 0.5400000000000205, 23.189999999999998, 25.730000000000018, 11.060000000000002, 20.70999999999998, 28.920000000000016, 3.1499999999999773, 23.180000000000007, 4.740000000000009, 15.800000000000011, 7.089999999999975, 9.009999999999991, 13.149999999999977, 24.5, 0.7099999999999795, 12.680000000000007, -4.990000000000009, 18.149999999999977, 14.589999999999975, 15.70999999999998, 25.170000000000016, 21.680000000000007, 21.149999999999977, 16.79000000000002, 23.80000000000001, 15.149999999999977, 14.149999999999977, 21.360000000000014, 27.980000000000018, 21.079999999999984, 16.980000000000018, 10.149999999999977, 24.529999999999973, 28.939999999999998, 19.319999999999993, 16.54000000000002, 13.730000000000018, 5.2099999999999795, 26.99000000000001, 28.069999999999993, 9.810000000000002, 12.009999999999991, 27.970000000000027, 17.230000000000018, 15.149999999999977, 5.5, 24.69999999999999, 15.339999999999975, -1.509999999999991, 16.149999999999977, 23.69999999999999, 29.220000000000027, 18.660000000000025, 23.310000000000002, 24.149999999999977, 14.149999999999977, 4.980000000000018, 16.339999999999975, 14.019999999999982, 28.029999999999973, 5.7099999999999795, 29.04000000000002, 25.149999999999977, 12.910000000000025, 26.410000000000025, 14.649999999999977, 25.720000000000027, 15.199999999999989, 20.149999999999977, 13.629999999999995, 29.939999999999998, 28.910000000000025, 27.149999999999977, 12.759999999999991, 11.410000000000025, 15.149999999999977, -2.3500000000000227, -4.170000000000016, -0.8500000000000227, 18.649999999999977, 13.95999999999998, 16.149999999999977, 26.370000000000005, 20.370000000000005, 27.54000000000002, 10.129999999999995, 28.149999999999977, 13.769999999999982, 28.860000000000014, 15.870000000000005, 20.569999999999993, 29.569999999999993, 16.149999999999977, 0.9700000000000273, 27.19999999999999, 22.920000000000016, 25.44999999999999, 17.689999999999998, 18.420000000000016, 24.689999999999998, 23.220000000000027, 5.509999999999991, 27.519999999999982, -2.8500000000000227, 16.610000000000014, 17.149999999999977, 23.139999999999986, 22.569999999999993, -0.4399999999999977, 25.55000000000001, 26.649999999999977, -0.6800000000000068, 24.149999999999977, -3.2900000000000205, -0.2300000000000182, 12.149999999999977, 11.470000000000027, 21.180000000000007, 28.110000000000014, 31.149999999999977, 31.149999999999977, 22.879999999999995, 21.149999999999977, 32.19999999999999, 16.149999999999977, 24.44999999999999, 29.980000000000018, 18.029999999999973, 27.019999999999982, 20.980000000000018, 31.44999999999999, 28.149999999999977, 18.769999999999982, 20.99000000000001, 28.980000000000018, 10.399999999999977, 26.089999999999975, 20.899999999999977, 25.110000000000014, 22.99000000000001, 29.49000000000001, 10.029999999999973, 20.089999999999975, 29.029999999999973, 13.980000000000018, 4.509999999999991, 12.740000000000009, 3.319999999999993, 6.910000000000025, 23.879999999999995, 3.420000000000016, -0.8000000000000114, 20.019999999999982, 28.75, 15.149999999999977, 22.370000000000005, 24.149999999999977, 28.149999999999977, 26.680000000000007, -5.9599999999999795, 26.149999999999977, 29.189999999999998, 28.720000000000027, 26.029999999999973, 26.439999999999998, 0.2400000000000091, 0.9499999999999886, 10.149999999999977, 8.149999999999977, 16.939999999999998, 19.220000000000027, 5.149999999999977, 27.24000000000001, 18.149999999999977, -1.2799999999999727, 15.149999999999977, 23.870000000000005, 25.129999999999995, 27.730000000000018, 6.819999999999993, 14.04000000000002, 29.100000000000023, 31.149999999999977, 26.69999999999999, 10.470000000000027, 24.149999999999977, 10.870000000000005, 5.850000000000023, 19.220000000000027, 15.759999999999991, 24.170000000000016, 12.230000000000018, 14.480000000000018, 31.5, 26.44999999999999, 7.050000000000011, -8.139999999999986, -2.480000000000018, 15.149999999999977, 7.819999999999993, 14.100000000000023, 10.850000000000023, 11.850000000000023, 28.149999999999977, 22.439999999999998, 7.149999999999977, 2.9599999999999795, 14.149999999999977, 20.149999999999977, 22.370000000000005, 23.04000000000002, 15.870000000000005, 29.620000000000005, 29.899999999999977, 7.149999999999977, 29.149999999999977, 27.810000000000002, 19.560000000000002, 7.470000000000027, 4.149999999999977, 11.819999999999993, 31.470000000000027, 15.149999999999977, 20.939999999999998, 4.0400000000000205, 19.920000000000016, 10.980000000000018, 1.1499999999999773, -2.1200000000000045, 11.439999999999998, 15.800000000000011, 23.370000000000005, 25.49000000000001, 11.100000000000023, 32.19, 9.240000000000009, 8.29000000000002, 5.839999999999975, 23.620000000000005, 24.50999999999999, 19.149999999999977, 6.149999999999977, 21.149999999999977, 21.99000000000001, 29.180000000000007, 25.149999999999977, 9.149999999999977, 10.149999999999977, -0.7699999999999818, 15.160000000000025, 20.189999999999998, 15.910000000000025, 9.050000000000011, 16.75, 17.149999999999977, 27.850000000000023, 28.480000000000018, 29.149999999999977, 15.980000000000018, 24.589999999999975, 16.75999999999999, 31.149999999999977, 26.970000000000027, 16.80000000000001, 25.110000000000014, 28.560000000000002, 15.149999999999977, 28.149999999999977, 8.519999999999982, 23.149999999999977, 20.779999999999973, -1.5299999999999727, 25.079999999999984, -2.7200000000000273, -0.45999999999997954, 2.8999999999999773, 19.019999999999982, 20.329999999999984, 18.639999999999986, 9.410000000000025, 26.20999999999998, 20.420000000000016, 28.470000000000027, 23.44999999999999, 16.99000000000001]\n",
      "[29, 100, 58, 93, 88, 74, 82, 72, 80, 96, 97, 60, 71, 71, 75, 69, 96, 53, 96, 54, 88, 61, 100, 21, 93, 60, 82, 79, 15, 90, 78, 76, 78, 55, 80, 83, 68, 77, 94, 82, 93, 76, 60, 97, 82, 83, 59, 60, 39, 87, 82, 89, 6, 78, 75, 55, 82, 34, 72, 71, 30, 92, 83, 32, 32, 74, 6, 66, 85, 72, 76, 47, 63, 14, 55, 78, 78, 63, 38, 61, 89, 89, 74, 98, 81, 66, 91, 75, 94, 92, 96, 80, 89, 68, 36, 73, 37, 92, 83, 49, 64, 95, 100, 85, 72, 67, 71, 92, 100, 60, 92, 88, 36, 59, 84, 80, 78, 28, 63, 69, 36, 81, 75, 80, 69, 80, 95, 98, 86, 82, 95, 98, 55, 59, 50, 66, 55, 59, 82, 67, 18, 37, 63, 86, 23, 99, 20, 14, 49, 47, 68, 86, 27, 29, 68, 11, 66, 75, 53, 50, 63, 56, 88, 75, 47, 81, 50, 17, 34, 22, 78, 75, 57, 75, 86, 60, 72, 87, 65, 81, 24, 62, 91, 12, 25, 74, 78, 78, 85, 93, 77, 94, 74, 85, 28, 90, 80, 68, 84, 31, 19, 76, 87, 33, 93, 83, 73, 38, 24, 17, 93, 74, 77, 42, 78, 60, 63, 78, 86, 92, 85, 68, 87, 99, 65, 82, 82, 78, 79, 79, 78, 100, 36, 53, 84, 68, 40, 93, 54, 94, 65, 100, 55, 86, 78, 80, 26, 86, 48, 83, 47, 64, 94, 74, 38, 86, 93, 89, 75, 95, 100, 37, 60, 38, 87, 68, 81, 76, 11, 61, 70, 65, 46, 98, 52, 61, 93, 84, 77, 86, 71, 100, 71, 46, 81, 71, 96, 87, 57, 92, 52, 54, 82, 85, 86, 37, 59, 47, 60, 54, 77, 83, 83, 64, 72, 93, 66, 47, 85, 93, 60, 80, 58, 84, 100, 11, 84, 44, 35, 90, 100, 90, 87, 90, 66, 24, 73, 36, 71, 70, 59, 88, 51, 88, 69, 94, 47, 87, 72, 87, 57, 34, 18, 70, 77, 83, 45, 50, 87, 73, 97, 50, 55, 78, 72, 81, 80, 35, 82, 69, 60, 78, 72, 47, 32, 82, 93, 78, 57, 82, 48, 42, 68, 34, 89, 68, 92, 84, 88, 93, 86, 94, 88, 84, 97, 60, 96, 92, 62, 47, 82, 75, 70, 35, 9, 73, 18, 77, 48, 12, 37, 84, 38, 38, 74, 13, 80, 47, 55, 88, 78, 80, 90, 55, 93, 22, 79, 78, 72, 34, 70, 70, 68, 92, 96, 85, 77, 67, 81, 94, 83, 84, 92, 94, 13, 70, 73, 68, 91, 83, 93, 100, 52, 76, 80, 61, 45, 95, 58, 11, 82, 10, 70, 81, 52, 52, 84, 68, 73, 91, 93, 44, 48, 53, 37, 41, 60, 75, 75, 92, 88, 41, 73, 82, 51, 32, 83, 74, 65, 77, 82, 77, 81, 84, 87, 66, 71, 81, 70, 65, 74, 100, 51, 85, 44, 88, 80, 70, 9, 95, 69, 97, 76, 67, 89, 70, 32, 36, 53, 57, 69, 68, 80, 72, 60, 68, 47, 15, 50, 100, 29, 89, 36, 72, 44, 56, 40, 88, 79, 77, 37, 68, 84, 78, 70, 77, 63, 84, 78, 87, 83, 81, 73, 48, 97, 90, 92, 88, 93, 80, 69, 96, 1, 65, 46, 74, 76, 66]\n",
      "[100, 20, 1, 90, 75, 40, 75, 2, 0, 99, 0, 0, 4, 2, 2, 40, 100, 80, 100, 83, 100, 100, 90, 1, 0, 12, 0, 20, 0, 48, 100, 100, 75, 100, 92, 75, 1, 40, 99, 45, 75, 1, 56, 100, 9, 100, 90, 75, 1, 38, 0, 89, 1, 90, 93, 82, 75, 0, 100, 75, 4, 61, 100, 75, 31, 40, 1, 4, 13, 59, 75, 1, 48, 100, 75, 0, 100, 97, 1, 40, 0, 7, 40, 100, 99, 0, 100, 100, 100, 100, 99, 30, 99, 51, 98, 5, 0, 100, 40, 75, 75, 100, 20, 60, 40, 58, 100, 100, 40, 100, 100, 100, 24, 68, 87, 100, 75, 37, 0, 40, 14, 0, 45, 100, 100, 0, 99, 100, 90, 99, 59, 100, 75, 3, 1, 0, 100, 20, 100, 70, 0, 55, 43, 93, 40, 31, 1, 0, 100, 11, 42, 100, 5, 100, 28, 0, 94, 75, 1, 75, 75, 14, 100, 100, 100, 20, 20, 7, 100, 0, 7, 15, 0, 100, 24, 40, 97, 100, 0, 0, 40, 75, 100, 100, 0, 99, 90, 40, 90, 19, 27, 47, 100, 36, 1, 75, 90, 75, 0, 64, 40, 100, 31, 0, 95, 20, 75, 100, 1, 4, 99, 70, 0, 90, 84, 53, 100, 100, 100, 100, 90, 100, 100, 100, 40, 0, 100, 0, 100, 23, 90, 40, 40, 87, 89, 8, 0, 99, 1, 40, 75, 40, 100, 90, 75, 34, 40, 92, 40, 0, 100, 100, 98, 9, 1, 20, 68, 100, 74, 0, 0, 69, 1, 28, 0, 0, 100, 3, 17, 0, 0, 75, 50, 100, 0, 40, 92, 100, 100, 99, 96, 75, 93, 42, 75, 0, 100, 0, 95, 0, 40, 26, 0, 100, 100, 0, 20, 67, 89, 75, 1, 100, 100, 4, 75, 79, 0, 75, 0, 75, 0, 100, 75, 100, 75, 1, 4, 75, 90, 92, 90, 100, 40, 46, 55, 0, 75, 0, 40, 96, 1, 100, 40, 95, 85, 40, 100, 93, 6, 100, 0, 84, 0, 28, 4, 0, 0, 40, 90, 73, 100, 75, 40, 1, 0, 52, 99, 61, 100, 18, 0, 94, 75, 36, 0, 20, 100, 100, 1, 45, 100, 1, 100, 32, 100, 100, 12, 0, 75, 90, 25, 98, 68, 72, 73, 75, 100, 74, 75, 1, 99, 2, 20, 62, 0, 0, 54, 0, 10, 2, 0, 99, 42, 0, 5, 92, 100, 88, 100, 86, 90, 94, 16, 81, 100, 0, 81, 100, 0, 40, 47, 90, 0, 100, 100, 100, 17, 75, 0, 75, 75, 100, 44, 100, 76, 100, 34, 42, 46, 20, 0, 75, 100, 100, 97, 0, 0, 100, 0, 1, 74, 1, 0, 100, 2, 12, 96, 0, 75, 100, 90, 71, 1, 0, 0, 75, 62, 8, 20, 99, 0, 75, 100, 75, 100, 0, 40, 90, 75, 0, 0, 100, 24, 0, 61, 75, 48, 90, 20, 75, 100, 100, 0, 77, 0, 100, 60, 0, 1, 7, 8, 100, 0, 0, 4, 62, 56, 39, 61, 1, 85, 20, 100, 0, 0, 75, 0, 23, 5, 90, 75, 100, 1, 0, 0, 100, 0, 75, 100, 76, 40, 100, 93, 0, 40, 88, 100, 52, 94, 78, 40, 75, 20, 0, 100, 100, 100, 100, 96, 3, 0, 100, 94, 40, 75, 13, 100, 30]\n",
      "[2.18, 1.5, 4.1, 2.1, 3.6, 6.2, 7.89, 3.1, 0.77, 5.74, 1.48, 2.21, 7.53, 3.19, 7.81, 7.7, 4.88, 5.29, 4.85, 3.13, 1.58, 1.46, 10.3, 4.1, 2.75, 3.58, 1.5, 2.6, 0.65, 1.73, 2.85, 0.45, 6.2, 4.25, 1.69, 2.1, 7.7, 2, 2.95, 6.15, 3.6, 1.17, 3.58, 3.14, 1.68, 6.68, 2.6, 5.1, 2.1, 5.01, 4.22, 1.05, 5.1, 3.1, 8.2, 8.38, 6.2, 3.43, 6.36, 2.6, 2.61, 0.89, 1.79, 1, 6.81, 7.2, 6.7, 6.7, 1.99, 0.45, 2.1, 4.47, 5.36, 4.15, 3.1, 2.6, 2.1, 3.6, 2.6, 3.1, 1.21, 3.68, 4.1, 4.71, 1.01, 6.7, 0.94, 1.34, 3.54, 3.1, 1.02, 2.06, 1.06, 9.3, 0.15, 5.1, 2.18, 0.19, 4.1, 7.2, 6.7, 2.23, 1, 3.43, 2.1, 4.02, 4.63, 0.93, 0.5, 2.48, 4.99, 4.1, 6.7, 5.31, 0.6, 1.75, 1, 1.57, 1.5, 7.7, 5.1, 7.7, 0.5, 0.5, 2.17, 1.79, 1.25, 1.15, 5.7, 1.8, 0.25, 1.41, 9.3, 5.78, 2.12, 0.84, 3.12, 3.1, 2.19, 6.16, 0.91, 0.75, 0.57, 2, 1.5, 2.26, 3.6, 3.58, 2.27, 1.34, 4.78, 7.06, 4.6, 1.68, 2.5, 3.68, 4.47, 2.78, 1.81, 5.7, 3.1, 3.31, 6.01, 0.96, 5.8, 1.25, 3.6, 4.32, 1.48, 0.75, 4.38, 10.85, 0.89, 6.25, 3.3, 6.2, 8.05, 0.83, 4.05, 3.59, 2.6, 1, 5.59, 2.46, 3.4, 7.76, 4.1, 8.2, 3.6, 2.6, 0.45, 1.05, 3.9, 0.88, 2.1, 5.1, 4.6, 4.1, 0.72, 4.3, 3.6, 4.47, 4.14, 2.59, 5.61, 3, 5.1, 1.34, 2.64, 1.94, 6.95, 3.59, 2.1, 3.1, 4.6, 4, 5.08, 2.21, 0.76, 7.07, 3.6, 4.2, 1.5, 1.79, 6.2, 4.83, 6.79, 1.51, 1.52, 3, 4.1, 1.5, 1.39, 1.96, 0.58, 2, 0.42, 2.1, 3.86, 2.6, 3.1, 4.6, 1.27, 1, 0.5, 7.62, 5.1, 3.1, 2.1, 2.08, 4.33, 0.21, 1, 4.18, 4.6, 3.6, 1.87, 0.82, 3.08, 1.46, 4, 1.69, 2.6, 0.47, 4.57, 0.45, 0.94, 6.71, 1.71, 0.94, 2.7, 6.2, 0.47, 1.5, 0.74, 11.3, 3.1, 2.68, 6.76, 3.1, 5.01, 1, 1.86, 2.75, 3.6, 1.72, 1.55, 0.89, 3.08, 3.57, 7.7, 0.89, 0.89, 3.55, 0.8, 3.1, 1, 1.08, 3.58, 2.1, 2.6, 4.96, 1.41, 2.65, 5.1, 0.71, 1.97, 5.1, 3.68, 3.1, 1.11, 3.84, 10.3, 2.79, 4.6, 8.2, 2.75, 2.1, 11.3, 0.43, 5.7, 3.82, 0.5, 1.76, 1.11, 2.08, 5.1, 2.6, 1, 2.21, 0.93, 0.94, 2.1, 5.36, 0.84, 1.5, 6.3, 3.51, 7.64, 1.53, 2.16, 11, 2.47, 2.7, 6.68, 1, 1.45, 2.1, 3.1, 0.89, 4.59, 4.6, 2.1, 2.35, 3.1, 5.88, 3.88, 1.8, 0.89, 3.1, 2.8, 0.94, 1.5, 1.64, 3.82, 3.6, 2.47, 1.32, 4.1, 4.35, 4.56, 5.1, 0.76, 2.18, 3.48, 1.51, 2, 1.69, 6.2, 0.8, 3.82, 1.77, 1.52, 2.62, 3.63, 4.6, 4.51, 5.14, 3.1, 0.4, 10.46, 1.85, 2.1, 6.7, 3.04, 5.7, 2.02, 1.5, 0.45, 7.38, 4.83, 2.25, 1.89, 5.7, 3.1, 6.95, 2.68, 2.35, 3.97, 2.94, 4.1, 2.94, 3.98, 4.54, 2.1, 1.38, 6.3, 3.59, 0.49, 12.3, 2.67, 6.2, 2.46, 4.33, 4.45, 5.35, 3.55, 6.7, 2.24, 1.5, 2.1, 1.42, 0.52, 0.5, 2.79, 1.72, 5.06, 7.04, 2.81, 1.5, 2.1, 2.1, 8.28, 5.32, 7.7, 2.52, 3.6, 1.21, 6.7, 8.2, 3.93, 6.7, 1.34, 1.79, 1.79, 2.6, 2.01, 2.65, 5.1, 3.7, 2.1, 1.71, 2.1, 3.71, 1.98, 4.1, 1.35, 6.26, 2.1, 1.96, 3.37, 3.1, 1.67, 1, 4.64, 0.93, 2.1, 8.08, 3.1, 1.66, 1.5, 6.2, 2.24, 4.04, 1.5, 3.1, 2.47, 5.7, 2.6, 4.6, 0.93, 4, 1.5, 1.79, 4.21, 5.51, 0.41, 1.47, 8.29, 1.34, 1, 1.52, 3.21, 1.04, 0.37, 5.11, 4.86, 2.54, 1.38, 1.5, 9.83, 2.63, 4.17, 7.7, 4.6, 3.1, 5.19, 2.12, 4.4, 1.5, 7.2, 1.35, 8.2, 1.88, 2.34, 2.64, 6.49, 6.2, 1.57, 5.75, 5.1, 1.34, 3.58, 3.91, 3.6, 3.13, 1.07, 2.5, 3.18, 4.6, 2.1, 1.16, 7.7, 6.17, 1.66, 1.24, 3.88, 0.5, 2.18, 1.34, 4.9, 0.89, 2.24, 2.6, 3.6, 2.06, 2.36, 0.76]\n",
      "[-9.33, -53.15, 19.73, 43.3, -19.06, -0.74, 38.73, -34.53, 64.25, -33.65, 64.9, -6.22, 27.98, -24.79, -9.8, 22.08, 71.97, 3.12, 73.51, -42.78, 67.8, -11.74, -38, 45.02, 56.18, -46.19, -33.93, 17.02, 36.62, 8.2, 8.57, 42.6, -21.2, 34.5, 11.27, 10.03, 34.64, 53.05, 71.04, -23.12, -33.92, 38.3, -46.6, 70.63, 53.94, 5.89, 47.67, -32.72, 42.1, -14.27, -17.71, 66.15, 33.31, 71.29, -54.8, -34.73, -33.87, 24.24, -33.02, 45.18, 45.25, 58.72, -33.59, 58.81, 54.02, 43.32, 37.1, -17.73, -13.13, 9.23, 35.73, 22.29, -34.68, 13.47, -42.88, -20.33, -21.21, -15.2, 49.78, 39.27, 69.38, -37.62, -8.01, 72.79, 63.9, -17.5, 2.01, -35.12, 77.48, 69.22, 60.47, 18.2, 61.95, -24.87, 51.13, 19.22, 34.68, 71.69, -8.84, 60.82, -35.35, 68.05, 5.41, 5.26, 28.66, -34.58, 58.6, -9.17, 3.87, 49.58, 41.14, 60.6, -25.24, 11, 4.14, -34, 63.75, 29.27, -33.01, 13.22, 17.16, 62.58, 48.22, 60.47, 59.65, 31.72, 65.37, 68.75, 42.16, 10.34, 66.66, 66.56, 62.46, -22.09, -45.87, 35.3, -9.33, 32.67, -0.61, 46.7, 40.81, 27.9, -6.12, 59.7, 48.11, -31.43, 38.42, 12.35, 9.02, 49.32, 64.86, 3.07, 34.11, -11.95, -8.14, 38.5, 10.57, 63.84, 26.85, 53.2, -28.77, -20.97, -33.7, 52.26, 49.49, 16.48, 57.79, 24.09, 10.7, 37.93, 18.01, -22.67, 35.65, -0.6, -14.9, 28.37, 39.05, 2.79, 43.2, 31.35, 64.86, 15.03, -34.48, 13.22, 27.8, 26.54, -21.34, 69.45, 64.5, 55.06, 64.89, 71.92, 44.91, -15.43, 64.84, 55.74, 41.37, 78.22, -23.76, 49.93, 22.89, -35.62, -43.3, 20.55, 70.37, -8.58, -20.41, 45.43, 42.49, 20.52, 50.68, 11.67, 31.22, 39.45, -13.88, 48.04, 56.67, -6.88, -27.31, 65.61, 70.47, 8.41, 46.42, -36.89, 22.99, 45.44, -6.91, -14.98, 60.12, 69.49, -21.36, 19.91, 17.49, 3.62, 1.65, 64.38, -17.2, 63.18, -46.28, -28.87, 55.28, -41.87, 25.97, 66.42, 16.07, -34.42, 41, 62.16, 68.35, 54.43, 45.25, -2.47, -7.11, 7.99, 39.18, 57.47, 66.77, -29.48, -10.62, 60.14, 53.02, 29.85, 27.97, 30.71, 61.99, 38.04, -1.9, -16.48, 18.69, -9, -21.64, 3.25, 8.12, 67.45, 25.02, 20.89, 42.05, -32.03, -5.67, 62.23, -11.33, 46.46, -3.4, 46.49, 39.88, -38.95, -2.53, 48.65, -45.42, 65.58, -31.95, 34.48, 28.37, -2.89, -2.95, 26.33, 33.77, 10.06, -46.13, 50.1, 33.16, 12.18, -22.82, -12.29, 54.32, -7.26, -8.62, 14.76, 31.76, 46.18, 45.38, -7.75, 21.28, 58.13, 46.8, 38.25, 32.3, 33.73, 41.28, -5.82, 43.41, 70.98, -29.95, -16.17, -4.94, 47.87, -20.34, 27.27, 43.36, 63.44, 33.19, -35.33, -22.28, 51.32, 15.86, -5.2, 44.99, -6.13, 38.52, 5.18, -14.78, 38.8, 30.12, -2.57, -16.7, -8.26, 57.22, 50.72, 37.89, 62.55, 69.7, 65.28, 18.39, -34.05, -27.37, 13.08, -11.1, 19.93, 50.81, 9.35, -13.23, 0.54, 6.04, 8.55, 26.88, 33.08, 63.28, -8.35, 26.19, 5.48, -35.34, 45.52, 2.18, 30.87, 61.94, -0.95, 61.78, -22.12, 37.72, -7.3, -26.53, 63.64, 8.36, -5.17, 61.99, 22.76, 68.53, 63.92, 48.93, 38.03, -30.18, 4.8, -9.43, -20.32, 42.8, -32.25, 12.39, -26.65, 22.55, 18.44, 37.15, 7.53, -8.93, -20.74, 16.86, 45.76, -35.1, 10.4, 52.11, -3.43, -21.15, 15.12, -15.68, 10.93, 51.85, 33.6, 5.35, 39.37, 53.19, 55.78, 54.77, 40.66, -22.97, 57.3, 65.42, -28.78, 7.98, 32.69, -20.01, 23.07, 10.02, 5.95, 66.8, -5.81, 13.64, -3.94, -0.45, -19.55, 64.25, 50.2, 42.13, 46.62, -38.27, -35.17, 60.4, 17.96, -41.41, 63.32, -36.23, 35.53, 5.66, 35.24, 48, 46.17, 11.13, 2.82, 2.62, 44.82, -20.52, 52.68, 55.57, 28, 37.34, -21.48, 58, 39.96, -2.67, 18.42, 41.24, 66.32, 67.54, 49.82, 61.67, 45.65, 48.6, 51.55, -3.7, -5.09, 43.82, 51.57, -45.87, -12.12, -19.98, -17.34, 39.57, 15.21, 6.62, 57.05, 8.73, 21.5, 28.17, 43.06, -51.62, 42.78, 22.57, -35.57, -5.25, 46.43, 40.28, 40.16, 60.92, 63.91, 45.32, 36.37, -6.41, 11.28, 49.6, 12.07, 38.36, 40.6, 61.47, 17.48, 11.69, 20.93, 63.73, 34.33, 29.03, 22.68, -29.47, -45.58, 60.72, 68.05, 44.06, -17.81, 32.03, 42.63, -28.45, 37.73, -2.88, 9.49, 18.73, -36.32, 8.01, -25.17, 14.51, 5.56, 20.78, -11.21, 2.04, 36.43, 6.5, 49.3, 14.92, -31.54, 63.37, 1.67, 70.86, 60.95, 61.36, -35.72, 30.48, -34.57, 43.27, 18.46, 35.01, -8.47, 14.9, -8.12]\n",
      "[-77.23, -70.92, -155.09, -86.13, -169.92, -90.35, -27.07, 20.04, -15.21, 115.33, 45.76, 155.63, -114.06, -50.01, -139.03, -159.32, 102.5, 35.6, 80.55, 147.06, 130.41, 24.43, -57.56, -93.22, 34.59, 168.86, 18.42, 54.09, 101.77, -59.78, 81.23, -73.97, -175.2, 62, -73.31, 105.78, -120.46, 158.65, 27.85, -134.97, 25.57, -77.46, 168.33, 147.92, 139.92, 95.32, -52.73, 152.15, -79.24, 50.17, -39.25, -65.71, -111.84, -156.79, -68.3, 135.87, 121.9, 76.8, 27.91, -89.68, 77.98, 9.23, 26.89, -122.7, -124.02, 145.57, -113.58, -149.15, 39, -80.09, 140.83, 114.16, 150.87, 22.2, 147.33, -40.29, -159.78, 12.15, -74.85, 141.88, 178.42, -73.65, -34.86, -56.15, 122.76, -149.87, 103.07, 139.27, -69.36, -51.1, 166.1, -73.75, 159.23, 113.63, 93.6, -104.7, 112.45, 128.87, 13.23, -115.8, 150.47, 39.51, 100.34, -0.76, -17.92, 150.86, 125.39, -60.63, 11.52, 111.98, -73.36, 15.63, 130.99, 122.67, 96.13, 24.73, -68.51, 82.18, 17.94, -59.52, -89.07, 6.13, 18.61, 22.02, 67.41, -116.57, 58.04, 161.3, -72.33, -68.74, 66.42, 67.8, -114.35, -70.2, 170.5, 37.18, 34.77, -17.1, -47.36, 38.28, 114.88, 102.26, 141.29, 30.79, -98.87, 152.92, -121.42, 29.25, 37.45, -124.32, 11.24, 172.79, -117.29, -75.28, 159.59, 102.17, 72.64, -22.43, 89.39, -105.77, 114.6, 164.7, -53.46, 87.12, 105.92, 81.83, -152.41, 32.91, 37.07, 102.64, -65.9, 167.48, 136.06, 73.08, 50.28, 129.48, -27.98, 24.73, 51.65, 27.25, -147.8, 120.69, -54.33, 18.34, 73.34, -77.06, 55.48, -133.04, -165.41, 15.13, -23.71, 114.08, 127.15, 49.73, -147.72, -97.86, -73.41, 15.64, -45.41, 116.87, -109.91, 174.5, -65.1, 74.53, 31.11, 116.12, 57.7, -73.17, -96.07, -13.05, 156.12, 92.75, 29.96, -86.18, 167.55, 40.05, 124.65, 112.21, 31.89, -37.64, -68.59, 20.65, 3.91, -60.32, -82.75, 40.58, -79.86, 34.96, 24.44, 88.4, 55.77, 99.83, 44.13, -75.09, 14.58, -173.3, -70.94, 14.64, 169.85, 153.57, -114.77, -73.82, 94.52, 112.4, 108.22, 19.23, -115.5, -7.17, -133.72, 31.9, -81.67, -78.17, -34.98, 117.06, -84.53, -1.78, 123.37, 30.23, 150.67, -45.24, 39.17, 80.53, -82.8, 111.28, 5.14, -1.49, 11.91, -151.75, 12.92, 32.98, -41.05, -76.23, 38.37, 153.68, 37.27, -156.47, 13.93, -52.1, 132.75, -6.59, -38.97, 10.35, 38.36, 135.88, -74.64, -68.06, 112.95, -53.11, 167.72, -171, 141.43, 136.7, 121.36, -40.12, 25.95, 43.98, 130.47, -12.87, 167.68, -91.92, -117.35, 125.51, 47.83, 33.18, -130.32, -64.8, 122.21, -90.99, 25.09, 6.08, 23.27, 112.01, -89.67, 68.59, 0.53, -104.61, -9.24, 135.98, -70.1, 13.45, -124.22, 25.97, -71.34, 49.77, 122.53, 88.12, 57.76, 31.15, 76.86, -20.27, -82.53, -72.42, 166.46, 42.77, 100.59, -35.46, 124.06, 12.37, -28.7, 97.15, 24.8, 121.27, 55.12, 150.8, -151.02, -49.26, 94.9, -121.29, 58.52, 155.55, 170.31, -126.83, 42.45, 23.37, -70.33, 109.3, -77.61, -105.25, -0.06, 1.27, 30.24, 123.06, -75.7, -71.24, 67.68, -16.33, 118.33, 113.61, -81.7, -53.2, 143.55, -122.68, -73.78, 105.38, 76.66, 100.35, 34.35, 14.28, -25.43, -70.22, 153.1, 54.86, 80.42, 105.7, -49.67, 121.14, 146.42, 127.47, -125.55, -78.48, -50.21, 119.85, 159.95, 118.57, 93.45, 148.62, -5.46, 15.16, 114.07, 1.41, 122.38, -12.51, 125.41, 116.85, -99.89, 106.27, 173.78, 5.47, -101.27, 10.66, 55.28, 108.8, -38.95, 108.1, 4.53, 56.92, 48.53, 49.25, 107.34, -118.84, -101.86, -73.58, -42.03, 47.89, -52.9, 32.04, 49.82, 128.84, 57.66, 88.82, 105.08, 80.54, 65.81, -61.3, 16.49, 122.5, 39.64, 169.27, 12.38, -66.38, -1.14, 10.7, 141.97, 173.17, -1.35, -102.2, 175.52, 30.02, 149.13, -108.74, -53.78, -106.61, 122.72, 5.17, 2.94, -60.67, 44.89, 15.78, 57.52, 62.58, 10.09, 120.67, -85.34, -56.14, 102.66, -83, 141.3, -64.62, -77, -179.17, 133.38, -94.43, 96.37, 8.63, 133.82, 118.33, 128.18, -81.11, 144.1, 31.78, -67.5, -77.05, 57.61, -39.22, 2.51, 120.03, 73.07, -135.33, 76.71, -158.02, 94.77, 44.74, -69.22, -9.06, 59.53, 138.62, 14.87, 26.4, 97.2, -8.33, -46.05, 38.14, 55.2, 30.29, -48.54, -15.83, 117.43, 1.79, 31.42, -77.57, -6.81, 106.6, -84.46, -17.03, 8.83, 71.18, 21.55, -3.98, 149.85, -72.07, -135.05, 166.44, -121.32, -50.6, 120.87, 131.09, 18.73, -25.67, 108.27, 50.81, -103.68, 145.05, -62.4, 45.05, -92.19, 95.32, 97.03, 13.84, 45.34, -5.15, 2.6, 10.58, -23.51, -68.54, 47.92, -78.14, 29.09, 29.13, 63.58, 150.18, -115.95, -59.1, -7.54, -66.27, -90.79, 118.72, -24.5, 34.25]\n",
      "558\n",
      "602\n"
     ]
    }
   ],
   "source": [
    "#Day 2 APIs, Activity 5  and Activity 8 for reference\n",
    "\n",
    "number = 0 \n",
    "\n",
    "#Set up lists to hold response info\n",
    "city_name = []\n",
    "temp = []\n",
    "humidity = []\n",
    "cloudiness = []\n",
    "wind_speed = []\n",
    "lat = []\n",
    "lng = []\n",
    "\n",
    "for city in cities: \n",
    "    try:\n",
    "        response = requests.get(url + '&q=' + city).json()\n",
    "        city_name.append(response['name'])\n",
    "        temp.append(response['main']['temp']-273)\n",
    "        humidity.append(response['main']['humidity'])\n",
    "        cloudiness.append(response['clouds']['all'])\n",
    "        wind_speed.append(response['wind']['speed'])\n",
    "        lat.append(response['coord']['lat'])\n",
    "        lng.append(response['coord']['lon'])\n",
    "        print(f\"Success {city}\")\n",
    "    except:\n",
    "        print(f\"Unknown Data for:{city}\")\n",
    "        number = number + 1\n",
    "        \n",
    "        \n",
    "print(response)\n",
    "print(city_name)\n",
    "print(temp)\n",
    "print(humidity)\n",
    "print(cloudiness)\n",
    "print(wind_speed)\n",
    "print(lat)\n",
    "print(lng)\n",
    "print(len(city_name))\n",
    "print(len(cities))\n",
    "\n"
   ]
  },
  {
   "cell_type": "markdown",
   "metadata": {},
   "source": [
    "### Convert Raw Data to DataFrame\n",
    "* Export the city data into a .csv.\n",
    "* Display the DataFrame"
   ]
  },
  {
   "cell_type": "code",
   "execution_count": 5,
   "metadata": {},
   "outputs": [
    {
     "data": {
      "text/html": [
       "<div>\n",
       "<style scoped>\n",
       "    .dataframe tbody tr th:only-of-type {\n",
       "        vertical-align: middle;\n",
       "    }\n",
       "\n",
       "    .dataframe tbody tr th {\n",
       "        vertical-align: top;\n",
       "    }\n",
       "\n",
       "    .dataframe thead th {\n",
       "        text-align: right;\n",
       "    }\n",
       "</style>\n",
       "<table border=\"1\" class=\"dataframe\">\n",
       "  <thead>\n",
       "    <tr style=\"text-align: right;\">\n",
       "      <th></th>\n",
       "      <th>City</th>\n",
       "      <th>Temperature</th>\n",
       "      <th>Humidity</th>\n",
       "      <th>Cloudiness</th>\n",
       "      <th>Wind Speed</th>\n",
       "      <th>Latitude</th>\n",
       "      <th>Longitude</th>\n",
       "    </tr>\n",
       "  </thead>\n",
       "  <tbody>\n",
       "    <tr>\n",
       "      <td>0</td>\n",
       "      <td>Huari</td>\n",
       "      <td>4.60</td>\n",
       "      <td>29</td>\n",
       "      <td>100</td>\n",
       "      <td>2.18</td>\n",
       "      <td>-9.33</td>\n",
       "      <td>-77.23</td>\n",
       "    </tr>\n",
       "    <tr>\n",
       "      <td>1</td>\n",
       "      <td>Punta Arenas</td>\n",
       "      <td>-0.85</td>\n",
       "      <td>100</td>\n",
       "      <td>20</td>\n",
       "      <td>1.50</td>\n",
       "      <td>-53.15</td>\n",
       "      <td>-70.92</td>\n",
       "    </tr>\n",
       "    <tr>\n",
       "      <td>2</td>\n",
       "      <td>Hilo</td>\n",
       "      <td>25.06</td>\n",
       "      <td>58</td>\n",
       "      <td>1</td>\n",
       "      <td>4.10</td>\n",
       "      <td>19.73</td>\n",
       "      <td>-155.09</td>\n",
       "    </tr>\n",
       "    <tr>\n",
       "      <td>3</td>\n",
       "      <td>Muskegon</td>\n",
       "      <td>9.61</td>\n",
       "      <td>93</td>\n",
       "      <td>90</td>\n",
       "      <td>2.10</td>\n",
       "      <td>43.30</td>\n",
       "      <td>-86.13</td>\n",
       "    </tr>\n",
       "    <tr>\n",
       "      <td>4</td>\n",
       "      <td>Alofi</td>\n",
       "      <td>27.15</td>\n",
       "      <td>88</td>\n",
       "      <td>75</td>\n",
       "      <td>3.60</td>\n",
       "      <td>-19.06</td>\n",
       "      <td>-169.92</td>\n",
       "    </tr>\n",
       "  </tbody>\n",
       "</table>\n",
       "</div>"
      ],
      "text/plain": [
       "           City  Temperature  Humidity  Cloudiness  Wind Speed  Latitude  \\\n",
       "0         Huari         4.60        29         100        2.18     -9.33   \n",
       "1  Punta Arenas        -0.85       100          20        1.50    -53.15   \n",
       "2          Hilo        25.06        58           1        4.10     19.73   \n",
       "3      Muskegon         9.61        93          90        2.10     43.30   \n",
       "4         Alofi        27.15        88          75        3.60    -19.06   \n",
       "\n",
       "   Longitude  \n",
       "0     -77.23  \n",
       "1     -70.92  \n",
       "2    -155.09  \n",
       "3     -86.13  \n",
       "4    -169.92  "
      ]
     },
     "execution_count": 5,
     "metadata": {},
     "output_type": "execute_result"
    }
   ],
   "source": [
    "#Day 2 APIs, Activity 5 for reference\n",
    "\n",
    "#Create Data Frame\n",
    "response_df= pd. DataFrame({\n",
    "        'City':city_name,\n",
    "        'Temperature': temp,\n",
    "        'Humidity': humidity,\n",
    "        'Cloudiness': cloudiness,\n",
    "        'Wind Speed': wind_speed,\n",
    "        'Latitude': lat,\n",
    "        'Longitude': lng})\n",
    "\n",
    "response_df.head()"
   ]
  },
  {
   "cell_type": "code",
   "execution_count": 6,
   "metadata": {},
   "outputs": [],
   "source": [
    "#Export the city data into a .csv. \n",
    "pd.DataFrame.to_csv(response_df, 'response.csv')\n"
   ]
  },
  {
   "cell_type": "markdown",
   "metadata": {},
   "source": [
    "### Plotting the Data\n",
    "* Use proper labeling of the plots using plot titles (including date of analysis) and axes labels.\n",
    "* Save the plotted figures as .pngs."
   ]
  },
  {
   "cell_type": "markdown",
   "metadata": {},
   "source": [
    "#### Latitude vs. Temperature Plot"
   ]
  },
  {
   "cell_type": "code",
   "execution_count": 7,
   "metadata": {},
   "outputs": [
    {
     "data": {
      "text/html": [
       "<div>\n",
       "<style scoped>\n",
       "    .dataframe tbody tr th:only-of-type {\n",
       "        vertical-align: middle;\n",
       "    }\n",
       "\n",
       "    .dataframe tbody tr th {\n",
       "        vertical-align: top;\n",
       "    }\n",
       "\n",
       "    .dataframe thead th {\n",
       "        text-align: right;\n",
       "    }\n",
       "</style>\n",
       "<table border=\"1\" class=\"dataframe\">\n",
       "  <thead>\n",
       "    <tr style=\"text-align: right;\">\n",
       "      <th></th>\n",
       "      <th>City</th>\n",
       "      <th>Temperature</th>\n",
       "      <th>Humidity</th>\n",
       "      <th>Cloudiness</th>\n",
       "      <th>Wind Speed</th>\n",
       "      <th>Latitude</th>\n",
       "      <th>Longitude</th>\n",
       "    </tr>\n",
       "  </thead>\n",
       "  <tbody>\n",
       "    <tr>\n",
       "      <td>0</td>\n",
       "      <td>Huari</td>\n",
       "      <td>4.60</td>\n",
       "      <td>29</td>\n",
       "      <td>100</td>\n",
       "      <td>2.18</td>\n",
       "      <td>-9.33</td>\n",
       "      <td>-77.23</td>\n",
       "    </tr>\n",
       "    <tr>\n",
       "      <td>1</td>\n",
       "      <td>Punta Arenas</td>\n",
       "      <td>-0.85</td>\n",
       "      <td>100</td>\n",
       "      <td>20</td>\n",
       "      <td>1.50</td>\n",
       "      <td>-53.15</td>\n",
       "      <td>-70.92</td>\n",
       "    </tr>\n",
       "    <tr>\n",
       "      <td>2</td>\n",
       "      <td>Hilo</td>\n",
       "      <td>25.06</td>\n",
       "      <td>58</td>\n",
       "      <td>1</td>\n",
       "      <td>4.10</td>\n",
       "      <td>19.73</td>\n",
       "      <td>-155.09</td>\n",
       "    </tr>\n",
       "    <tr>\n",
       "      <td>3</td>\n",
       "      <td>Muskegon</td>\n",
       "      <td>9.61</td>\n",
       "      <td>93</td>\n",
       "      <td>90</td>\n",
       "      <td>2.10</td>\n",
       "      <td>43.30</td>\n",
       "      <td>-86.13</td>\n",
       "    </tr>\n",
       "    <tr>\n",
       "      <td>4</td>\n",
       "      <td>Alofi</td>\n",
       "      <td>27.15</td>\n",
       "      <td>88</td>\n",
       "      <td>75</td>\n",
       "      <td>3.60</td>\n",
       "      <td>-19.06</td>\n",
       "      <td>-169.92</td>\n",
       "    </tr>\n",
       "  </tbody>\n",
       "</table>\n",
       "</div>"
      ],
      "text/plain": [
       "           City  Temperature  Humidity  Cloudiness  Wind Speed  Latitude  \\\n",
       "0         Huari         4.60        29         100        2.18     -9.33   \n",
       "1  Punta Arenas        -0.85       100          20        1.50    -53.15   \n",
       "2          Hilo        25.06        58           1        4.10     19.73   \n",
       "3      Muskegon         9.61        93          90        2.10     43.30   \n",
       "4         Alofi        27.15        88          75        3.60    -19.06   \n",
       "\n",
       "   Longitude  \n",
       "0     -77.23  \n",
       "1     -70.92  \n",
       "2    -155.09  \n",
       "3     -86.13  \n",
       "4    -169.92  "
      ]
     },
     "execution_count": 7,
     "metadata": {},
     "output_type": "execute_result"
    }
   ],
   "source": [
    "response_df.head()"
   ]
  },
  {
   "cell_type": "code",
   "execution_count": 8,
   "metadata": {
    "scrolled": true
   },
   "outputs": [
    {
     "data": {
      "image/png": "[encoded data removed]",
      "text/plain": [
       "<Figure size 432x288 with 1 Axes>"
      ]
     },
     "metadata": {
      "needs_background": "light"
     },
     "output_type": "display_data"
    },
    {
     "data": {
      "text/plain": [
       "<Figure size 432x288 with 0 Axes>"
      ]
     },
     "metadata": {},
     "output_type": "display_data"
    }
   ],
   "source": [
    "#plt.scatter(response_df[\"Latitude\"], response_df['Temperature'],marker='o')\n",
    "#plt.show()\n",
    "\n",
    "response_df.plot(kind = \"scatter\", x=\"Latitude\", y=\"Temperature\", title=\"Latitude vs.Temperature\")\n",
    "plt.show()\n",
    "\n",
    "plt.savefig(\"lat_temp_plot.png\", bbox_inches='tight', dpi=600)"
   ]
  },
  {
   "cell_type": "code",
   "execution_count": 9,
   "metadata": {},
   "outputs": [],
   "source": [
    "#As distance from the equator increases (either north or south), tempteratures decrease as well.\n",
    "#This graph shows that temperatures peak at the equator."
   ]
  },
  {
   "cell_type": "markdown",
   "metadata": {},
   "source": [
    "#### Latitude vs. Humidity Plot"
   ]
  },
  {
   "cell_type": "code",
   "execution_count": 10,
   "metadata": {},
   "outputs": [
    {
     "data": {
      "image/png": "[encoded data removed]",
      "text/plain": [
       "<Figure size 432x288 with 1 Axes>"
      ]
     },
     "metadata": {
      "needs_background": "light"
     },
     "output_type": "display_data"
    },
    {
     "data": {
      "text/plain": [
       "<Figure size 432x288 with 0 Axes>"
      ]
     },
     "metadata": {},
     "output_type": "display_data"
    }
   ],
   "source": [
    "#plt.scatter(response_df[\"Latitude\"], response_df['Humidity'],marker='o')\n",
    "#plt.show()\n",
    "\n",
    "response_df.plot(kind = \"scatter\", x=\"Latitude\", y=\"Humidity\", title=\"Latitude vs.Humidity\")\n",
    "plt.show()\n",
    "\n",
    "plt.savefig(\"lat_temp_plot.png\", bbox_inches='tight', dpi=600)"
   ]
  },
  {
   "cell_type": "code",
   "execution_count": 11,
   "metadata": {},
   "outputs": [],
   "source": [
    "#Humidity looks consistent regardless of the point of latitude.  "
   ]
  },
  {
   "cell_type": "markdown",
   "metadata": {},
   "source": [
    "#### Latitude vs. Cloudiness Plot"
   ]
  },
  {
   "cell_type": "code",
   "execution_count": 13,
   "metadata": {},
   "outputs": [],
   "source": [
    "#There doesn't seem to be a correlation between latitude and cloudiness. "
   ]
  },
  {
   "cell_type": "markdown",
   "metadata": {},
   "source": [
    "#### Latitude vs. Wind Speed Plot"
   ]
  },
  {
   "cell_type": "code",
   "execution_count": 14,
   "metadata": {},
   "outputs": [
    {
     "data": {
      "image/png": "[encoded data removed]",
      "text/plain": [
       "<Figure size 432x288 with 1 Axes>"
      ]
     },
     "metadata": {
      "needs_background": "light"
     },
     "output_type": "display_data"
    },
    {
     "data": {
      "text/plain": [
       "<Figure size 432x288 with 0 Axes>"
      ]
     },
     "metadata": {},
     "output_type": "display_data"
    }
   ],
   "source": [
    "response_df.plot(kind = \"scatter\", x=\"Latitude\", y=\"Wind Speed\", title=\"Latitude vs. Wind Speed \")\n",
    "plt.show()\n",
    "\n",
    "plt.savefig(\"lat_temp_plot.png\", bbox_inches='tight', dpi=600)"
   ]
  },
  {
   "cell_type": "code",
   "execution_count": 15,
   "metadata": {},
   "outputs": [],
   "source": [
    "#Wind speed is consistent regardless of latitude."
   ]
  },
  {
   "cell_type": "markdown",
   "metadata": {},
   "source": [
    "## Linear Regression"
   ]
  },
  {
   "cell_type": "code",
   "execution_count": 16,
   "metadata": {},
   "outputs": [],
   "source": [
    "# Create Northern and Southern Hemisphere DataFrames\n",
    "north_hem=response_df[response_df[\"Latitude\"]>=0]\n",
    "south_hem=response_df[response_df[\"Latitude\"]<=0]\n",
    "                "
   ]
  },
  {
   "cell_type": "markdown",
   "metadata": {},
   "source": [
    "####  Northern Hemisphere - Max Temp vs. Latitude Linear Regression"
   ]
  },
  {
   "cell_type": "code",
   "execution_count": 17,
   "metadata": {
    "scrolled": true
   },
   "outputs": [
    {
     "name": "stdout",
     "output_type": "stream",
     "text": [
      "2      23.213996\n",
      "3      11.715658\n",
      "6      13.945077\n",
      "8       1.495455\n",
      "10      1.178361\n",
      "         ...    \n",
      "550    17.969739\n",
      "552    11.730293\n",
      "553    23.833550\n",
      "554    15.759834\n",
      "556    25.570253\n",
      "Name: Latitude, Length: 383, dtype: float64\n",
      "The r-squared is: 0.801695361956649\n"
     ]
    },
    {
     "data": {
      "image/png": "[encoded data removed]",
      "text/plain": [
       "<Figure size 432x288 with 1 Axes>"
      ]
     },
     "metadata": {
      "needs_background": "light"
     },
     "output_type": "display_data"
    }
   ],
   "source": [
    "#Day 2 API's Activity 7 Stu_Weather_plots for reference\n",
    "\n",
    "x_values = north_hem[\"Latitude\"]\n",
    "y_values = north_hem[\"Temperature\"]\n",
    "\n",
    "#Perform a linear regression on Temp Vs Latitude\n",
    "(slope, intercept, rvalue, pvalue, stderr) = linregress(x_values, y_values)\n",
    "\n",
    "#Get regression values\n",
    "regress_values = x_values * slope + intercept\n",
    "print(regress_values) \n",
    "\n",
    "#Create line equation string\n",
    "line_eq = f\"y ={round(slope,2)}x +  {round(intercept,2)}\"\n",
    "line_eq\n",
    "\n",
    "#Create plot\n",
    "plt.scatter(x_values,y_values)\n",
    "plt.plot(x_values,regress_values,\"r-\")\n",
    "         \n",
    "#Label plot and annotacte the line equation\n",
    "plt.xlabel('Latitude')\n",
    "plt.ylabel('Temperature')\n",
    "plt.title(\"Northern Hemisphere - Latitude vs. Temperature \")\n",
    "plt.annotate(line_eq,(15,260),fontsize=15,color=\"red\")\n",
    "         \n",
    "#Print r square value\n",
    "print(f\"The r-squared is: {rvalue**2}\")\n",
    "         \n",
    "# Show plot\n",
    "plt.show()\n"
   ]
  },
  {
   "cell_type": "markdown",
   "metadata": {},
   "source": [
    "####  Southern Hemisphere - Max Temp vs. Latitude Linear Regression"
   ]
  },
  {
   "cell_type": "code",
   "execution_count": 18,
   "metadata": {},
   "outputs": [
    {
     "name": "stdout",
     "output_type": "stream",
     "text": [
      "0      24.635825\n",
      "1      11.869032\n",
      "4      21.801026\n",
      "5      27.138489\n",
      "7      17.293899\n",
      "         ...    \n",
      "543    18.165024\n",
      "549    16.947197\n",
      "551    17.282245\n",
      "555    24.886382\n",
      "557    24.988354\n",
      "Name: Latitude, Length: 175, dtype: float64\n",
      "The r-squared is: 0.4393414216786333\n"
     ]
    },
    {
     "data": {
      "image/png": "[encoded data removed]",
      "text/plain": [
       "<Figure size 432x288 with 1 Axes>"
      ]
     },
     "metadata": {
      "needs_background": "light"
     },
     "output_type": "display_data"
    }
   ],
   "source": [
    "#Day 2 API's Activity 7 Stu_Weather_plots for reference\n",
    "\n",
    "x_values = south_hem[\"Latitude\"]\n",
    "y_values = south_hem[\"Temperature\"]\n",
    "\n",
    "#Perform a linear regression on Temp Vs Latitude\n",
    "(slope, intercept, rvalue, pvalue, stderr) = linregress(x_values, y_values)\n",
    "\n",
    "#Get regression values\n",
    "regress_values = x_values * slope + intercept\n",
    "print(regress_values) \n",
    "\n",
    "#Create line equation string\n",
    "line_eq = f\"y ={round(slope,2)}x +  {round(intercept,2)}\"\n",
    "line_eq\n",
    "\n",
    "#Create plot\n",
    "plt.scatter(x_values,y_values)\n",
    "plt.plot(x_values,regress_values,\"r-\")\n",
    "         \n",
    "#Label plot and annotacte the line equation\n",
    "plt.xlabel('Latitude')\n",
    "plt.ylabel('Temperature')\n",
    "plt.title(\"Southern Hemisphere - Latitude vs. Temperature \")\n",
    "plt.annotate(line_eq,(-10,280),fontsize=15,color=\"red\")\n",
    "         \n",
    "#Print r square value\n",
    "print(f\"The r-squared is: {rvalue**2}\")\n",
    "         \n",
    "# Show plot\n",
    "plt.show()\n"
   ]
  },
  {
   "cell_type": "code",
   "execution_count": 19,
   "metadata": {},
   "outputs": [],
   "source": [
    "#Northern hemisphere graph shows that the temperature is hottest at the equator(point 0 latitude) and decreases as you move\n",
    "#farther away. The southern hemisphere graph shows the opposit correlation with temperatures starting cold and increasing as \n",
    "#you move closer to the equator."
   ]
  },
  {
   "cell_type": "markdown",
   "metadata": {},
   "source": [
    "####  Northern Hemisphere - Humidity (%) vs. Latitude Linear Regression"
   ]
  },
  {
   "cell_type": "code",
   "execution_count": 20,
   "metadata": {},
   "outputs": [
    {
     "name": "stdout",
     "output_type": "stream",
     "text": [
      "2      60.791084\n",
      "3      67.394193\n",
      "6      66.113913\n",
      "8      73.263312\n",
      "10     73.445409\n",
      "         ...    \n",
      "550    63.802685\n",
      "552    67.385789\n",
      "553    60.435295\n",
      "554    65.071759\n",
      "556    59.437965\n",
      "Name: Latitude, Length: 383, dtype: float64\n",
      "The r-squared is: 0.055634667444060454\n"
     ]
    },
    {
     "data": {
      "image/png": "[encoded data removed]",
      "text/plain": [
       "<Figure size 432x288 with 1 Axes>"
      ]
     },
     "metadata": {
      "needs_background": "light"
     },
     "output_type": "display_data"
    }
   ],
   "source": [
    "#Day 2 API's Activity 7 Stu_Weather_plots for reference\n",
    "\n",
    "x_values = north_hem[\"Latitude\"]\n",
    "y_values = north_hem[\"Humidity\"]\n",
    "\n",
    "#Perform a linear regression on Temp Vs Latitude\n",
    "(slope, intercept, rvalue, pvalue, stderr) = linregress(x_values, y_values)\n",
    "\n",
    "#Get regression values\n",
    "regress_values = x_values * slope + intercept\n",
    "print(regress_values) \n",
    "\n",
    "#Create line equation string\n",
    "line_eq = f\"y ={round(slope,2)}x +  {round(intercept,2)}\"\n",
    "line_eq\n",
    "\n",
    "#Create plot\n",
    "plt.scatter(x_values,y_values)\n",
    "plt.plot(x_values,regress_values,\"r-\")\n",
    "         \n",
    "#Label plot and annotacte the line equation\n",
    "plt.xlabel('Latitude')\n",
    "plt.ylabel('Humidity')\n",
    "plt.title(\"Northern Hemisphere - Latitude vs. Humidity\")\n",
    "plt.annotate(line_eq,(80,60),fontsize=20,color=\"red\")\n",
    "         \n",
    "#Print r square value\n",
    "print(f\"The r-squared is: {rvalue**2}\")\n",
    "         \n",
    "# Show plot\n",
    "plt.show()\n",
    "\n"
   ]
  },
  {
   "cell_type": "markdown",
   "metadata": {},
   "source": [
    "####  Southern Hemisphere - Humidity (%) vs. Latitude Linear Regression"
   ]
  },
  {
   "cell_type": "code",
   "execution_count": 22,
   "metadata": {},
   "outputs": [
    {
     "name": "stdout",
     "output_type": "stream",
     "text": [
      "0      74.733401\n",
      "1      71.218505\n",
      "4      73.952937\n",
      "5      75.422423\n",
      "7      72.712055\n",
      "         ...    \n",
      "543    72.951889\n",
      "549    72.616602\n",
      "551    72.708846\n",
      "555    74.802383\n",
      "557    74.830458\n",
      "Name: Latitude, Length: 175, dtype: float64\n",
      "The r-squared is: 0.005247836228624441\n"
     ]
    },
    {
     "data": {
      "image/png": "[encoded data removed]",
      "text/plain": [
       "<Figure size 432x288 with 1 Axes>"
      ]
     },
     "metadata": {
      "needs_background": "light"
     },
     "output_type": "display_data"
    }
   ],
   "source": [
    "x_values = south_hem[\"Latitude\"]\n",
    "y_values = south_hem[\"Humidity\"]\n",
    "\n",
    "#Perform a linear regression on Temp Vs Latitude\n",
    "(slope, intercept, rvalue, pvalue, stderr) = linregress(x_values, y_values)\n",
    "\n",
    "#Get regression values\n",
    "regress_values = x_values * slope + intercept\n",
    "print(regress_values) \n",
    "\n",
    "#Create line equation string\n",
    "line_eq = f\"y ={round(slope,2)}x +  {round(intercept,2)}\"\n",
    "line_eq\n",
    "\n",
    "#Create plot\n",
    "plt.scatter(x_values,y_values)\n",
    "plt.plot(x_values,regress_values,\"r-\")\n",
    "         \n",
    "#Label plot and annotacte the line equation\n",
    "plt.xlabel('Latitude')\n",
    "plt.ylabel('Humidity')\n",
    "plt.title(\"Northern Hemisphere - Latitude vs. Humidity\")\n",
    "plt.annotate(line_eq,(0,45),fontsize=15,color=\"red\")\n",
    "         \n",
    "#Print r square value\n",
    "print(f\"The r-squared is: {rvalue**2}\")\n",
    "         \n",
    "# Show plot\n",
    "plt.show()"
   ]
  },
  {
   "cell_type": "code",
   "execution_count": 23,
   "metadata": {},
   "outputs": [],
   "source": [
    "#There is no correlation between latitude and humidy in the norther hemisphere. \n",
    "#There may be a slight correlation between humidity and latitude in the southern hemisphere, getting more humid as you\n",
    "#get closer to the equator. If there is a slight correlation, I don't think it would be statistically significant. "
   ]
  },
  {
   "cell_type": "markdown",
   "metadata": {},
   "source": [
    "####  Northern Hemisphere - Cloudiness (%) vs. Latitude Linear Regression"
   ]
  },
  {
   "cell_type": "code",
   "execution_count": 24,
   "metadata": {},
   "outputs": [
    {
     "name": "stdout",
     "output_type": "stream",
     "text": [
      "2      49.115492\n",
      "3      54.927378\n",
      "6      53.800508\n",
      "8      60.093225\n",
      "10     60.253502\n",
      "         ...    \n",
      "550    51.766225\n",
      "552    54.919981\n",
      "553    48.802335\n",
      "554    52.883231\n",
      "556    47.924511\n",
      "Name: Latitude, Length: 383, dtype: float64\n",
      "The r-squared is: 0.01624988910165909\n"
     ]
    },
    {
     "data": {
      "image/png": "[encoded data removed]",
      "text/plain": [
       "<Figure size 432x288 with 1 Axes>"
      ]
     },
     "metadata": {
      "needs_background": "light"
     },
     "output_type": "display_data"
    }
   ],
   "source": [
    "x_values = north_hem[\"Latitude\"]\n",
    "y_values = north_hem[\"Cloudiness\"]\n",
    "\n",
    "#Perform a linear regression on Temp Vs Latitude\n",
    "(slope, intercept, rvalue, pvalue, stderr) = linregress(x_values, y_values)\n",
    "\n",
    "#Get regression values\n",
    "regress_values = x_values * slope + intercept\n",
    "print(regress_values) \n",
    "\n",
    "#Create line equation string\n",
    "line_eq = f\"y ={round(slope,2)}x +  {round(intercept,2)}\"\n",
    "line_eq\n",
    "\n",
    "#Create plot\n",
    "plt.scatter(x_values,y_values)\n",
    "plt.plot(x_values,regress_values,\"r-\")\n",
    "         \n",
    "#Label plot and annotacte the line equation\n",
    "plt.xlabel('Latitude')\n",
    "plt.ylabel('Cloudiness')\n",
    "plt.title(\"Northern Hemisphere - Latitude vs. Cloudiness\")\n",
    "plt.annotate(line_eq,(80,80),fontsize=15,color=\"red\")\n",
    "         \n",
    "#Print r square value\n",
    "print(f\"The r-squared is: {rvalue**2}\")\n",
    "         \n",
    "# Show plot\n",
    "plt.show()\n"
   ]
  },
  {
   "cell_type": "markdown",
   "metadata": {},
   "source": [
    "####  Southern Hemisphere - Cloudiness (%) vs. Latitude Linear Regression"
   ]
  },
  {
   "cell_type": "code",
   "execution_count": 25,
   "metadata": {},
   "outputs": [
    {
     "name": "stdout",
     "output_type": "stream",
     "text": [
      "0      56.452131\n",
      "1      43.669674\n",
      "4      53.613854\n",
      "5      58.957866\n",
      "7      49.101197\n",
      "         ...    \n",
      "543    49.973391\n",
      "549    48.754070\n",
      "551    49.089529\n",
      "555    56.702996\n",
      "557    56.805092\n",
      "Name: Latitude, Length: 175, dtype: float64\n",
      "The r-squared is: 0.009397864866671917\n"
     ]
    },
    {
     "data": {
      "image/png": "[encoded data removed]",
      "text/plain": [
       "<Figure size 432x288 with 1 Axes>"
      ]
     },
     "metadata": {
      "needs_background": "light"
     },
     "output_type": "display_data"
    }
   ],
   "source": [
    "x_values = south_hem[\"Latitude\"]\n",
    "y_values = south_hem[\"Cloudiness\"]\n",
    "\n",
    "#Perform a linear regression on Temp Vs Latitude\n",
    "(slope, intercept, rvalue, pvalue, stderr) = linregress(x_values, y_values)\n",
    "\n",
    "#Get regression values\n",
    "regress_values = x_values * slope + intercept\n",
    "print(regress_values) \n",
    "\n",
    "#Create line equation string\n",
    "line_eq = f\"y ={round(slope,2)}x +  {round(intercept,2)}\"\n",
    "line_eq\n",
    "\n",
    "#Create plot\n",
    "plt.scatter(x_values,y_values)\n",
    "plt.plot(x_values,regress_values,\"r-\")\n",
    "         \n",
    "#Label plot and annotacte the line equation\n",
    "plt.xlabel('Latitude')\n",
    "plt.ylabel('Cloudiness')\n",
    "plt.title(\"Southern Hemisphere - Latitude vs. Cloudiness\")\n",
    "plt.annotate(line_eq,(-10,45),fontsize=15,color=\"red\")\n",
    "         \n",
    "#Print r square value\n",
    "print(f\"The r-squared is: {rvalue**2}\")\n",
    "         \n",
    "# Show plot\n",
    "plt.show()"
   ]
  },
  {
   "cell_type": "code",
   "execution_count": 26,
   "metadata": {},
   "outputs": [],
   "source": [
    "#The graphs don't show any correlation between cloudiness and latitude."
   ]
  },
  {
   "cell_type": "markdown",
   "metadata": {},
   "source": [
    "####  Northern Hemisphere - Wind Speed (mph) vs. Latitude Linear Regression"
   ]
  },
  {
   "cell_type": "code",
   "execution_count": 27,
   "metadata": {},
   "outputs": [
    {
     "name": "stdout",
     "output_type": "stream",
     "text": [
      "2      3.254282\n",
      "3      3.241076\n",
      "6      3.243636\n",
      "8      3.229338\n",
      "10     3.228974\n",
      "         ...   \n",
      "550    3.248259\n",
      "552    3.241093\n",
      "553    3.254993\n",
      "554    3.245721\n",
      "556    3.256988\n",
      "Name: Latitude, Length: 383, dtype: float64\n",
      "The r-squared is: 2.7263836356589693e-05\n"
     ]
    },
    {
     "data": {
      "image/png": "[encoded data removed]",
      "text/plain": [
       "<Figure size 432x288 with 1 Axes>"
      ]
     },
     "metadata": {
      "needs_background": "light"
     },
     "output_type": "display_data"
    }
   ],
   "source": [
    "x_values = north_hem[\"Latitude\"]\n",
    "y_values = north_hem[\"Wind Speed\"]\n",
    "\n",
    "#Perform a linear regression on Temp Vs Latitude\n",
    "(slope, intercept, rvalue, pvalue, stderr) = linregress(x_values, y_values)\n",
    "\n",
    "#Get regression values\n",
    "regress_values = x_values * slope + intercept\n",
    "print(regress_values) \n",
    "\n",
    "#Create line equation string\n",
    "line_eq = f\"y ={round(slope,2)}x +  {round(intercept,2)}\"\n",
    "line_eq\n",
    "\n",
    "#Create plot\n",
    "plt.scatter(x_values,y_values)\n",
    "plt.plot(x_values,regress_values,\"r-\")\n",
    "         \n",
    "#Label plot and annotacte the line equation\n",
    "plt.xlabel('Latitude')\n",
    "plt.ylabel('Wind Speed')\n",
    "plt.title(\"Southern Hemisphere - Latitude vs. Wind Speed\")\n",
    "plt.annotate(line_eq,(15,10),fontsize=15,color=\"red\")\n",
    "         \n",
    "#Print r square value\n",
    "print(f\"The r-squared is: {rvalue**2}\")\n",
    "         \n",
    "# Show plot\n",
    "plt.show()"
   ]
  },
  {
   "cell_type": "markdown",
   "metadata": {},
   "source": [
    "####  Southern Hemisphere - Wind Speed (mph) vs. Latitude Linear Regression"
   ]
  },
  {
   "cell_type": "code",
   "execution_count": 28,
   "metadata": {},
   "outputs": [
    {
     "name": "stdout",
     "output_type": "stream",
     "text": [
      "0      3.047667\n",
      "1      4.714767\n",
      "4      3.417838\n",
      "5      2.720866\n",
      "7      4.006383\n",
      "         ...   \n",
      "543    3.892630\n",
      "549    4.051656\n",
      "551    4.007905\n",
      "555    3.014949\n",
      "557    3.001633\n",
      "Name: Latitude, Length: 175, dtype: float64\n",
      "The r-squared is: 0.050531628434495476\n"
     ]
    },
    {
     "data": {
      "image/png": "[encoded data removed]",
      "text/plain": [
       "<Figure size 432x288 with 1 Axes>"
      ]
     },
     "metadata": {
      "needs_background": "light"
     },
     "output_type": "display_data"
    }
   ],
   "source": [
    "x_values = south_hem[\"Latitude\"]\n",
    "y_values = south_hem[\"Wind Speed\"]\n",
    "\n",
    "#Perform a linear regression on Temp Vs Latitude\n",
    "(slope, intercept, rvalue, pvalue, stderr) = linregress(x_values, y_values)\n",
    "\n",
    "#Get regression values\n",
    "regress_values = x_values * slope + intercept\n",
    "print(regress_values) \n",
    "\n",
    "#Create line equation string\n",
    "line_eq = f\"y ={round(slope,2)}x +  {round(intercept,2)}\"\n",
    "line_eq\n",
    "\n",
    "#Create plot\n",
    "plt.scatter(x_values,y_values)\n",
    "plt.plot(x_values,regress_values,\"r-\")\n",
    "         \n",
    "#Label plot and annotacte the line equation\n",
    "plt.xlabel('Latitude')\n",
    "plt.ylabel('Wind Speed')\n",
    "plt.title(\"Southern Hemisphere -Latitude vs. Wind Speed\")\n",
    "plt.annotate(line_eq,(-10,10),fontsize=15,color=\"red\")\n",
    "         \n",
    "#Print r square value\n",
    "print(f\"The r-squared is: {rvalue**2}\")\n",
    "         \n",
    "# Show plot\n",
    "plt.show()"
   ]
  },
  {
   "cell_type": "code",
   "execution_count": 29,
   "metadata": {},
   "outputs": [],
   "source": [
    "#Windspeed looks to be relatively consistent regardless of latitude in both of these graphs."
   ]
  },
  {
   "cell_type": "code",
   "execution_count": null,
   "metadata": {},
   "outputs": [],
   "source": [
    "#Observable trends:\n",
    "#1) We can statistically show that temperatures are hotter as you near the equator.\n",
    "#2)There's not a good way to predict cloudiness as our graphs shoed no correlation. \n",
    "#3) There is also no correlation between wind a latitude. "
   ]
  }
 ],
 "metadata": {
  "anaconda-cloud": {},
  "kernel_info": {
   "name": "python3"
  },
  "kernelspec": {
   "display_name": "Python 3",
   "language": "python",
   "name": "python3"
  },
  "language_info": {
   "codemirror_mode": {
    "name": "ipython",
    "version": 3
   },
   "file_extension": ".py",
   "mimetype": "text/x-python",
   "name": "python",
   "nbconvert_exporter": "python",
   "pygments_lexer": "ipython3",
   "version": "3.7.4"
  },
  "latex_envs": {
   "LaTeX_envs_menu_present": true,
   "autoclose": false,
   "autocomplete": true,
   "bibliofile": "biblio.bib",
   "cite_by": "apalike",
   "current_citInitial": 1,
   "eqLabelWithNumbers": true,
   "eqNumInitial": 1,
   "hotkeys": {
    "equation": "Ctrl-E",
    "itemize": "Ctrl-I"
   },
   "labels_anchors": false,
   "latex_user_defs": false,
   "report_style_numbering": false,
   "user_envs_cfg": false
  },
  "nteract": {
   "version": "0.12.3"
  }
 },
 "nbformat": 4,
 "nbformat_minor": 2
}
