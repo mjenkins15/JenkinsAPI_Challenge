{
 "cells": [
  {
   "cell_type": "markdown",
   "metadata": {},
   "source": [
    "# VacationPy\n",
    "----\n",
    "\n",
    "#### Note\n",
    "* Instructions have been included for each segment. You do not have to follow them exactly, but they are included to help you think through the steps."
   ]
  },
  {
   "cell_type": "code",
   "execution_count": 96,
   "metadata": {},
   "outputs": [],
   "source": [
    "# Dependencies and Setup\n",
    "import matplotlib.pyplot as plt\n",
    "import pandas as pd\n",
    "import numpy as np\n",
    "import requests\n",
    "import gmaps\n",
    "import os\n",
    "import json\n",
    "\n",
    "# Import API key\n",
    "from api_keys import g_key\n",
    "\n"
   ]
  },
  {
   "cell_type": "markdown",
   "metadata": {},
   "source": [
    "### Store Part I results into DataFrame\n",
    "* Load the csv exported in Part I to a DataFrame"
   ]
  },
  {
   "cell_type": "code",
   "execution_count": 97,
   "metadata": {},
   "outputs": [
    {
     "data": {
      "text/html": [
       "<div>\n",
       "<style scoped>\n",
       "    .dataframe tbody tr th:only-of-type {\n",
       "        vertical-align: middle;\n",
       "    }\n",
       "\n",
       "    .dataframe tbody tr th {\n",
       "        vertical-align: top;\n",
       "    }\n",
       "\n",
       "    .dataframe thead th {\n",
       "        text-align: right;\n",
       "    }\n",
       "</style>\n",
       "<table border=\"1\" class=\"dataframe\">\n",
       "  <thead>\n",
       "    <tr style=\"text-align: right;\">\n",
       "      <th></th>\n",
       "      <th>Unnamed: 0</th>\n",
       "      <th>City</th>\n",
       "      <th>Temperature</th>\n",
       "      <th>Humidity</th>\n",
       "      <th>Cloudiness</th>\n",
       "      <th>Wind Speed</th>\n",
       "      <th>Latitude</th>\n",
       "      <th>Longitude</th>\n",
       "    </tr>\n",
       "  </thead>\n",
       "  <tbody>\n",
       "    <tr>\n",
       "      <td>0</td>\n",
       "      <td>0</td>\n",
       "      <td>Buala</td>\n",
       "      <td>299.97</td>\n",
       "      <td>80</td>\n",
       "      <td>97</td>\n",
       "      <td>2.08</td>\n",
       "      <td>-8.14</td>\n",
       "      <td>159.59</td>\n",
       "    </tr>\n",
       "    <tr>\n",
       "      <td>1</td>\n",
       "      <td>1</td>\n",
       "      <td>Tuktoyaktuk</td>\n",
       "      <td>259.15</td>\n",
       "      <td>77</td>\n",
       "      <td>40</td>\n",
       "      <td>3.10</td>\n",
       "      <td>69.45</td>\n",
       "      <td>-133.04</td>\n",
       "    </tr>\n",
       "    <tr>\n",
       "      <td>2</td>\n",
       "      <td>2</td>\n",
       "      <td>Narsaq</td>\n",
       "      <td>274.15</td>\n",
       "      <td>43</td>\n",
       "      <td>40</td>\n",
       "      <td>2.60</td>\n",
       "      <td>60.92</td>\n",
       "      <td>-46.05</td>\n",
       "    </tr>\n",
       "    <tr>\n",
       "      <td>3</td>\n",
       "      <td>3</td>\n",
       "      <td>Elista</td>\n",
       "      <td>285.95</td>\n",
       "      <td>67</td>\n",
       "      <td>99</td>\n",
       "      <td>3.00</td>\n",
       "      <td>46.31</td>\n",
       "      <td>44.26</td>\n",
       "    </tr>\n",
       "    <tr>\n",
       "      <td>4</td>\n",
       "      <td>4</td>\n",
       "      <td>Mataura</td>\n",
       "      <td>279.26</td>\n",
       "      <td>93</td>\n",
       "      <td>100</td>\n",
       "      <td>1.79</td>\n",
       "      <td>-46.19</td>\n",
       "      <td>168.86</td>\n",
       "    </tr>\n",
       "    <tr>\n",
       "      <td>...</td>\n",
       "      <td>...</td>\n",
       "      <td>...</td>\n",
       "      <td>...</td>\n",
       "      <td>...</td>\n",
       "      <td>...</td>\n",
       "      <td>...</td>\n",
       "      <td>...</td>\n",
       "      <td>...</td>\n",
       "    </tr>\n",
       "    <tr>\n",
       "      <td>554</td>\n",
       "      <td>554</td>\n",
       "      <td>Dzilam González</td>\n",
       "      <td>312.04</td>\n",
       "      <td>24</td>\n",
       "      <td>18</td>\n",
       "      <td>4.47</td>\n",
       "      <td>21.28</td>\n",
       "      <td>-88.93</td>\n",
       "    </tr>\n",
       "    <tr>\n",
       "      <td>555</td>\n",
       "      <td>555</td>\n",
       "      <td>Poronaysk</td>\n",
       "      <td>272.87</td>\n",
       "      <td>97</td>\n",
       "      <td>55</td>\n",
       "      <td>2.14</td>\n",
       "      <td>49.22</td>\n",
       "      <td>143.12</td>\n",
       "    </tr>\n",
       "    <tr>\n",
       "      <td>556</td>\n",
       "      <td>556</td>\n",
       "      <td>Kieta</td>\n",
       "      <td>299.52</td>\n",
       "      <td>78</td>\n",
       "      <td>100</td>\n",
       "      <td>1.11</td>\n",
       "      <td>-6.22</td>\n",
       "      <td>155.63</td>\n",
       "    </tr>\n",
       "    <tr>\n",
       "      <td>557</td>\n",
       "      <td>557</td>\n",
       "      <td>Mahibadhoo</td>\n",
       "      <td>303.02</td>\n",
       "      <td>74</td>\n",
       "      <td>15</td>\n",
       "      <td>3.69</td>\n",
       "      <td>3.78</td>\n",
       "      <td>72.97</td>\n",
       "    </tr>\n",
       "    <tr>\n",
       "      <td>558</td>\n",
       "      <td>558</td>\n",
       "      <td>Krasnosel'kup</td>\n",
       "      <td>276.44</td>\n",
       "      <td>78</td>\n",
       "      <td>100</td>\n",
       "      <td>10.18</td>\n",
       "      <td>65.70</td>\n",
       "      <td>82.47</td>\n",
       "    </tr>\n",
       "  </tbody>\n",
       "</table>\n",
       "<p>559 rows × 8 columns</p>\n",
       "</div>"
      ],
      "text/plain": [
       "     Unnamed: 0             City  Temperature  Humidity  Cloudiness  \\\n",
       "0             0            Buala       299.97        80          97   \n",
       "1             1      Tuktoyaktuk       259.15        77          40   \n",
       "2             2           Narsaq       274.15        43          40   \n",
       "3             3           Elista       285.95        67          99   \n",
       "4             4          Mataura       279.26        93         100   \n",
       "..          ...              ...          ...       ...         ...   \n",
       "554         554  Dzilam González       312.04        24          18   \n",
       "555         555        Poronaysk       272.87        97          55   \n",
       "556         556            Kieta       299.52        78         100   \n",
       "557         557       Mahibadhoo       303.02        74          15   \n",
       "558         558    Krasnosel'kup       276.44        78         100   \n",
       "\n",
       "     Wind Speed  Latitude  Longitude  \n",
       "0          2.08     -8.14     159.59  \n",
       "1          3.10     69.45    -133.04  \n",
       "2          2.60     60.92     -46.05  \n",
       "3          3.00     46.31      44.26  \n",
       "4          1.79    -46.19     168.86  \n",
       "..          ...       ...        ...  \n",
       "554        4.47     21.28     -88.93  \n",
       "555        2.14     49.22     143.12  \n",
       "556        1.11     -6.22     155.63  \n",
       "557        3.69      3.78      72.97  \n",
       "558       10.18     65.70      82.47  \n",
       "\n",
       "[559 rows x 8 columns]"
      ]
     },
     "execution_count": 97,
     "metadata": {},
     "output_type": "execute_result"
    }
   ],
   "source": [
    "#Load the CSV from WeatherPy\n",
    "weather_data = pd.read_csv(\"response.csv\")\n",
    "weather_data"
   ]
  },
  {
   "cell_type": "markdown",
   "metadata": {},
   "source": [
    "### Humidity Heatmap\n",
    "* Configure gmaps.\n",
    "* Use the Lat and Lng as locations and Humidity as the weight.\n",
    "* Add Heatmap layer to map."
   ]
  },
  {
   "cell_type": "code",
   "execution_count": 98,
   "metadata": {
    "scrolled": false
   },
   "outputs": [
    {
     "data": {
      "text/html": [
       "<div>\n",
       "<style scoped>\n",
       "    .dataframe tbody tr th:only-of-type {\n",
       "        vertical-align: middle;\n",
       "    }\n",
       "\n",
       "    .dataframe tbody tr th {\n",
       "        vertical-align: top;\n",
       "    }\n",
       "\n",
       "    .dataframe thead th {\n",
       "        text-align: right;\n",
       "    }\n",
       "</style>\n",
       "<table border=\"1\" class=\"dataframe\">\n",
       "  <thead>\n",
       "    <tr style=\"text-align: right;\">\n",
       "      <th></th>\n",
       "      <th>Unnamed: 0</th>\n",
       "      <th>City</th>\n",
       "      <th>Temperature</th>\n",
       "      <th>Humidity</th>\n",
       "      <th>Cloudiness</th>\n",
       "      <th>Wind Speed</th>\n",
       "      <th>Latitude</th>\n",
       "      <th>Longitude</th>\n",
       "    </tr>\n",
       "  </thead>\n",
       "  <tbody>\n",
       "    <tr>\n",
       "      <td>0</td>\n",
       "      <td>0</td>\n",
       "      <td>Buala</td>\n",
       "      <td>299.97</td>\n",
       "      <td>80</td>\n",
       "      <td>97</td>\n",
       "      <td>2.08</td>\n",
       "      <td>-8.14</td>\n",
       "      <td>159.59</td>\n",
       "    </tr>\n",
       "    <tr>\n",
       "      <td>1</td>\n",
       "      <td>1</td>\n",
       "      <td>Tuktoyaktuk</td>\n",
       "      <td>259.15</td>\n",
       "      <td>77</td>\n",
       "      <td>40</td>\n",
       "      <td>3.10</td>\n",
       "      <td>69.45</td>\n",
       "      <td>-133.04</td>\n",
       "    </tr>\n",
       "    <tr>\n",
       "      <td>2</td>\n",
       "      <td>2</td>\n",
       "      <td>Narsaq</td>\n",
       "      <td>274.15</td>\n",
       "      <td>43</td>\n",
       "      <td>40</td>\n",
       "      <td>2.60</td>\n",
       "      <td>60.92</td>\n",
       "      <td>-46.05</td>\n",
       "    </tr>\n",
       "    <tr>\n",
       "      <td>3</td>\n",
       "      <td>3</td>\n",
       "      <td>Elista</td>\n",
       "      <td>285.95</td>\n",
       "      <td>67</td>\n",
       "      <td>99</td>\n",
       "      <td>3.00</td>\n",
       "      <td>46.31</td>\n",
       "      <td>44.26</td>\n",
       "    </tr>\n",
       "    <tr>\n",
       "      <td>4</td>\n",
       "      <td>4</td>\n",
       "      <td>Mataura</td>\n",
       "      <td>279.26</td>\n",
       "      <td>93</td>\n",
       "      <td>100</td>\n",
       "      <td>1.79</td>\n",
       "      <td>-46.19</td>\n",
       "      <td>168.86</td>\n",
       "    </tr>\n",
       "    <tr>\n",
       "      <td>...</td>\n",
       "      <td>...</td>\n",
       "      <td>...</td>\n",
       "      <td>...</td>\n",
       "      <td>...</td>\n",
       "      <td>...</td>\n",
       "      <td>...</td>\n",
       "      <td>...</td>\n",
       "      <td>...</td>\n",
       "    </tr>\n",
       "    <tr>\n",
       "      <td>554</td>\n",
       "      <td>554</td>\n",
       "      <td>Dzilam González</td>\n",
       "      <td>312.04</td>\n",
       "      <td>24</td>\n",
       "      <td>18</td>\n",
       "      <td>4.47</td>\n",
       "      <td>21.28</td>\n",
       "      <td>-88.93</td>\n",
       "    </tr>\n",
       "    <tr>\n",
       "      <td>555</td>\n",
       "      <td>555</td>\n",
       "      <td>Poronaysk</td>\n",
       "      <td>272.87</td>\n",
       "      <td>97</td>\n",
       "      <td>55</td>\n",
       "      <td>2.14</td>\n",
       "      <td>49.22</td>\n",
       "      <td>143.12</td>\n",
       "    </tr>\n",
       "    <tr>\n",
       "      <td>556</td>\n",
       "      <td>556</td>\n",
       "      <td>Kieta</td>\n",
       "      <td>299.52</td>\n",
       "      <td>78</td>\n",
       "      <td>100</td>\n",
       "      <td>1.11</td>\n",
       "      <td>-6.22</td>\n",
       "      <td>155.63</td>\n",
       "    </tr>\n",
       "    <tr>\n",
       "      <td>557</td>\n",
       "      <td>557</td>\n",
       "      <td>Mahibadhoo</td>\n",
       "      <td>303.02</td>\n",
       "      <td>74</td>\n",
       "      <td>15</td>\n",
       "      <td>3.69</td>\n",
       "      <td>3.78</td>\n",
       "      <td>72.97</td>\n",
       "    </tr>\n",
       "    <tr>\n",
       "      <td>558</td>\n",
       "      <td>558</td>\n",
       "      <td>Krasnosel'kup</td>\n",
       "      <td>276.44</td>\n",
       "      <td>78</td>\n",
       "      <td>100</td>\n",
       "      <td>10.18</td>\n",
       "      <td>65.70</td>\n",
       "      <td>82.47</td>\n",
       "    </tr>\n",
       "  </tbody>\n",
       "</table>\n",
       "<p>559 rows × 8 columns</p>\n",
       "</div>"
      ],
      "text/plain": [
       "     Unnamed: 0             City  Temperature  Humidity  Cloudiness  \\\n",
       "0             0            Buala       299.97        80          97   \n",
       "1             1      Tuktoyaktuk       259.15        77          40   \n",
       "2             2           Narsaq       274.15        43          40   \n",
       "3             3           Elista       285.95        67          99   \n",
       "4             4          Mataura       279.26        93         100   \n",
       "..          ...              ...          ...       ...         ...   \n",
       "554         554  Dzilam González       312.04        24          18   \n",
       "555         555        Poronaysk       272.87        97          55   \n",
       "556         556            Kieta       299.52        78         100   \n",
       "557         557       Mahibadhoo       303.02        74          15   \n",
       "558         558    Krasnosel'kup       276.44        78         100   \n",
       "\n",
       "     Wind Speed  Latitude  Longitude  \n",
       "0          2.08     -8.14     159.59  \n",
       "1          3.10     69.45    -133.04  \n",
       "2          2.60     60.92     -46.05  \n",
       "3          3.00     46.31      44.26  \n",
       "4          1.79    -46.19     168.86  \n",
       "..          ...       ...        ...  \n",
       "554        4.47     21.28     -88.93  \n",
       "555        2.14     49.22     143.12  \n",
       "556        1.11     -6.22     155.63  \n",
       "557        3.69      3.78      72.97  \n",
       "558       10.18     65.70      82.47  \n",
       "\n",
       "[559 rows x 8 columns]"
      ]
     },
     "execution_count": 98,
     "metadata": {},
     "output_type": "execute_result"
    }
   ],
   "source": [
    "#API's Day 3, Activity 10\n",
    "#Drop NA rows\n",
    "weather_data = weather_data.dropna()\n",
    "weather_data"
   ]
  },
  {
   "cell_type": "code",
   "execution_count": 99,
   "metadata": {},
   "outputs": [
    {
     "data": {
      "text/html": [
       "<div>\n",
       "<style scoped>\n",
       "    .dataframe tbody tr th:only-of-type {\n",
       "        vertical-align: middle;\n",
       "    }\n",
       "\n",
       "    .dataframe tbody tr th {\n",
       "        vertical-align: top;\n",
       "    }\n",
       "\n",
       "    .dataframe thead th {\n",
       "        text-align: right;\n",
       "    }\n",
       "</style>\n",
       "<table border=\"1\" class=\"dataframe\">\n",
       "  <thead>\n",
       "    <tr style=\"text-align: right;\">\n",
       "      <th></th>\n",
       "      <th>Latitude</th>\n",
       "      <th>Longitude</th>\n",
       "    </tr>\n",
       "  </thead>\n",
       "  <tbody>\n",
       "    <tr>\n",
       "      <td>0</td>\n",
       "      <td>-8.14</td>\n",
       "      <td>159.59</td>\n",
       "    </tr>\n",
       "    <tr>\n",
       "      <td>1</td>\n",
       "      <td>69.45</td>\n",
       "      <td>-133.04</td>\n",
       "    </tr>\n",
       "    <tr>\n",
       "      <td>2</td>\n",
       "      <td>60.92</td>\n",
       "      <td>-46.05</td>\n",
       "    </tr>\n",
       "    <tr>\n",
       "      <td>3</td>\n",
       "      <td>46.31</td>\n",
       "      <td>44.26</td>\n",
       "    </tr>\n",
       "    <tr>\n",
       "      <td>4</td>\n",
       "      <td>-46.19</td>\n",
       "      <td>168.86</td>\n",
       "    </tr>\n",
       "    <tr>\n",
       "      <td>...</td>\n",
       "      <td>...</td>\n",
       "      <td>...</td>\n",
       "    </tr>\n",
       "    <tr>\n",
       "      <td>554</td>\n",
       "      <td>21.28</td>\n",
       "      <td>-88.93</td>\n",
       "    </tr>\n",
       "    <tr>\n",
       "      <td>555</td>\n",
       "      <td>49.22</td>\n",
       "      <td>143.12</td>\n",
       "    </tr>\n",
       "    <tr>\n",
       "      <td>556</td>\n",
       "      <td>-6.22</td>\n",
       "      <td>155.63</td>\n",
       "    </tr>\n",
       "    <tr>\n",
       "      <td>557</td>\n",
       "      <td>3.78</td>\n",
       "      <td>72.97</td>\n",
       "    </tr>\n",
       "    <tr>\n",
       "      <td>558</td>\n",
       "      <td>65.70</td>\n",
       "      <td>82.47</td>\n",
       "    </tr>\n",
       "  </tbody>\n",
       "</table>\n",
       "<p>559 rows × 2 columns</p>\n",
       "</div>"
      ],
      "text/plain": [
       "     Latitude  Longitude\n",
       "0       -8.14     159.59\n",
       "1       69.45    -133.04\n",
       "2       60.92     -46.05\n",
       "3       46.31      44.26\n",
       "4      -46.19     168.86\n",
       "..        ...        ...\n",
       "554     21.28     -88.93\n",
       "555     49.22     143.12\n",
       "556     -6.22     155.63\n",
       "557      3.78      72.97\n",
       "558     65.70      82.47\n",
       "\n",
       "[559 rows x 2 columns]"
      ]
     },
     "execution_count": 99,
     "metadata": {},
     "output_type": "execute_result"
    }
   ],
   "source": [
    "# Used API's Day 3, Activities 6 & 7 for reference\n",
    "\n",
    "#Locations Data Frame\n",
    "#temperature = []\n",
    "#wind_speed = []\n",
    "#cloudiness = []\n",
    "\n",
    "#vacation = pd.DataFrame[{\"Temperature\": Temperature,\n",
    "  #                       \"Cloudiness\": Cloudiness}]\n",
    "\n",
    "#vacation.head()\n",
    "\n",
    "#Lat and lng as locations\n",
    "locations = weather_data[[\"Latitude\", \"Longitude\"]]\n",
    "locations\n",
    "\n",
    "\n"
   ]
  },
  {
   "cell_type": "code",
   "execution_count": 100,
   "metadata": {},
   "outputs": [
    {
     "data": {
      "text/plain": [
       "0      80.0\n",
       "1      77.0\n",
       "2      43.0\n",
       "3      67.0\n",
       "4      93.0\n",
       "       ... \n",
       "554    24.0\n",
       "555    97.0\n",
       "556    78.0\n",
       "557    74.0\n",
       "558    78.0\n",
       "Name: Humidity, Length: 559, dtype: float64"
      ]
     },
     "execution_count": 100,
     "metadata": {},
     "output_type": "execute_result"
    }
   ],
   "source": [
    "# Humidity for the Weight\n",
    "humidity = weather_data[\"Humidity\"].astype(float)\n",
    "humidity"
   ]
  },
  {
   "cell_type": "code",
   "execution_count": null,
   "metadata": {},
   "outputs": [],
   "source": []
  },
  {
   "cell_type": "code",
   "execution_count": 101,
   "metadata": {},
   "outputs": [
    {
     "data": {
      "application/vnd.jupyter.widget-view+json": {
       "model_id": "eacf5da9462f4c658d4a1dadf1580350",
       "version_major": 2,
       "version_minor": 0
      },
      "text/plain": [
       "Figure(layout=FigureLayout(height='420px'))"
      ]
     },
     "metadata": {},
     "output_type": "display_data"
    }
   ],
   "source": [
    "# Used day 3 API's Activity 7, Stu_Airport_Map\n",
    "# Plot Heatmap\n",
    "fig = gmaps.figure()\n",
    "\n",
    "#Create heat layer\n",
    "heat_layer = gmaps.heatmap_layer(locations, weights = humidity,\n",
    "                                 dissipating = False,max_intensity = 10,\n",
    "                                point_radius = 1)\n",
    "#Add layer\n",
    "fig.add_layer(heat_layer)\n",
    "\n",
    "#Display figure\n",
    "fig"
   ]
  },
  {
   "cell_type": "markdown",
   "metadata": {},
   "source": [
    "### Create new DataFrame fitting weather criteria\n",
    "* Narrow down the cities to fit weather conditions.\n",
    "* Drop any rows will null values."
   ]
  },
  {
   "cell_type": "code",
   "execution_count": 102,
   "metadata": {},
   "outputs": [
    {
     "ename": "NameError",
     "evalue": "name 'census_data_complete' is not defined",
     "output_type": "error",
     "traceback": [
      "\u001b[1;31m---------------------------------------------------------------------------\u001b[0m",
      "\u001b[1;31mNameError\u001b[0m                                 Traceback (most recent call last)",
      "\u001b[1;32m<ipython-input-102-926e94704072>\u001b[0m in \u001b[0;36m<module>\u001b[1;34m\u001b[0m\n\u001b[1;32m----> 1\u001b[1;33m \u001b[0mcensus_data_complete\u001b[0m \u001b[1;33m=\u001b[0m \u001b[0mcensus_data_complete\u001b[0m\u001b[1;33m.\u001b[0m\u001b[0mdropna\u001b[0m\u001b[1;33m(\u001b[0m\u001b[1;33m)\u001b[0m\u001b[1;33m\u001b[0m\u001b[1;33m\u001b[0m\u001b[0m\n\u001b[0m",
      "\u001b[1;31mNameError\u001b[0m: name 'census_data_complete' is not defined"
     ]
    }
   ],
   "source": [
    "census_data_complete = census_data_complete.dropna()"
   ]
  },
  {
   "cell_type": "code",
   "execution_count": 103,
   "metadata": {},
   "outputs": [
    {
     "data": {
      "text/plain": [
       "(0      True\n",
       " 1      True\n",
       " 2      True\n",
       " 3      True\n",
       " 4      True\n",
       "        ... \n",
       " 554    True\n",
       " 555    True\n",
       " 556    True\n",
       " 557    True\n",
       " 558    True\n",
       " Name: Temperature, Length: 559, dtype: bool, 0      False\n",
       " 1      False\n",
       " 2      False\n",
       " 3      False\n",
       " 4      False\n",
       "        ...  \n",
       " 554    False\n",
       " 555    False\n",
       " 556    False\n",
       " 557    False\n",
       " 558    False\n",
       " Name: Temperature, Length: 559, dtype: bool)"
      ]
     },
     "execution_count": 103,
     "metadata": {},
     "output_type": "execute_result"
    }
   ],
   "source": [
    "#Max temp less than 80 degrees but greater than 70 degrees\n",
    "\n",
    "perfect_temp = weather_data[\"Temperature\"] > 70, weather_data[\"Temperature\"]< 80\n",
    "perfect_temp\n",
    "\n",
    "\n",
    "#max_temp = weather[\"Temperature\"]< 80\n",
    "#max_temp"
   ]
  },
  {
   "cell_type": "code",
   "execution_count": 104,
   "metadata": {},
   "outputs": [
    {
     "data": {
      "text/plain": [
       "0       True\n",
       "1       True\n",
       "2       True\n",
       "3       True\n",
       "4       True\n",
       "       ...  \n",
       "554     True\n",
       "555     True\n",
       "556     True\n",
       "557     True\n",
       "558    False\n",
       "Name: Wind Speed, Length: 559, dtype: bool"
      ]
     },
     "execution_count": 104,
     "metadata": {},
     "output_type": "execute_result"
    }
   ],
   "source": [
    "#Wind Speed less than 10mph\n",
    "wind_speed = weather[\"Wind Speed\"]<10 \n",
    "wind_speed"
   ]
  },
  {
   "cell_type": "code",
   "execution_count": 105,
   "metadata": {},
   "outputs": [
    {
     "data": {
      "text/plain": [
       "0      False\n",
       "1      False\n",
       "2      False\n",
       "3      False\n",
       "4      False\n",
       "       ...  \n",
       "554    False\n",
       "555    False\n",
       "556    False\n",
       "557    False\n",
       "558    False\n",
       "Name: Cloudiness, Length: 559, dtype: bool"
      ]
     },
     "execution_count": 105,
     "metadata": {},
     "output_type": "execute_result"
    }
   ],
   "source": [
    "#Zero cloudiness\n",
    "cloudiness = weather_data[\"Cloudiness\"] == 0\n",
    "cloudiness\n",
    "cloudiness"
   ]
  },
  {
   "cell_type": "code",
   "execution_count": null,
   "metadata": {},
   "outputs": [],
   "source": []
  },
  {
   "cell_type": "markdown",
   "metadata": {},
   "source": [
    "### Hotel Map\n",
    "* Store into variable named `hotel_df`.\n",
    "* Add a \"Hotel Name\" column to the DataFrame.\n",
    "* Set parameters to search for hotels with 5000 meters.\n",
    "* Hit the Google Places API for each city's coordinates.\n",
    "* Store the first Hotel result into the DataFrame.\n",
    "* Plot markers on top of the heatmap."
   ]
  },
  {
   "cell_type": "code",
   "execution_count": 106,
   "metadata": {},
   "outputs": [],
   "source": [
    "# Used API's Day 3 Activity 4 for reference\n",
    "#Storing \"hotel\" into variable \n",
    "hotel_df = []"
   ]
  },
  {
   "cell_type": "code",
   "execution_count": 107,
   "metadata": {},
   "outputs": [],
   "source": [
    "latitude = weather_data[\"Latitude\"]\n",
    "longitude = weather_data[\"Longitude\"]\n",
    "                 "
   ]
  },
  {
   "cell_type": "code",
   "execution_count": 108,
   "metadata": {},
   "outputs": [
    {
     "data": {
      "text/plain": [
       "<Response [200]>"
      ]
     },
     "execution_count": 108,
     "metadata": {},
     "output_type": "execute_result"
    }
   ],
   "source": [
    "#Day 3 API's, Activity 2\n",
    "#Create Data Frame and add \"Hotel Name\" column to Data Frame. \n",
    "#Also, set a parameter to 5000 meters.\n",
    "\n",
    "#geocordinates \n",
    "\n",
    "target_coordinates = \"Latitude, Longitude\"\n",
    "target_radius = 5000\n",
    "target_type = \"hotels\"\n",
    "\n",
    "params= {\n",
    "    \"location\": target_coordinates,\n",
    "    \"radius\": target_radius,\n",
    "    \"type\": target_type,\n",
    "    \"key\": g_key\n",
    "}\n",
    "    \n",
    "#base url\n",
    "base_url = \"https://maps.googleapis.com/maps/api/place/nearbysearch/json\"\n",
    "\n",
    "#run a request using the params dictionary\n",
    "response = requests.get(base_url,params=params)\n",
    "response"
   ]
  },
  {
   "cell_type": "code",
   "execution_count": 111,
   "metadata": {},
   "outputs": [
    {
     "name": "stdout",
     "output_type": "stream",
     "text": [
      "{\n",
      "    \"error_message\": \"You have exceeded your daily request quota for this API. If you did not set a custom daily request quota, verify your project has an active billing account: http://g.co/dev/maps-no-account\",\n",
      "    \"html_attributions\": [],\n",
      "    \"results\": [],\n",
      "    \"status\": \"OVER_QUERY_LIMIT\"\n",
      "}\n"
     ]
    }
   ],
   "source": [
    "#Convert response to json\n",
    "hotels_data = response.json()\n",
    "\n",
    "#Pretty print the json\n",
    "print(json.dumps(hotels_data,indent=4, sort_keys=True))"
   ]
  },
  {
   "cell_type": "code",
   "execution_count": 110,
   "metadata": {},
   "outputs": [
    {
     "ename": "NameError",
     "evalue": "name 'narrowed_city_df' is not defined",
     "output_type": "error",
     "traceback": [
      "\u001b[1;31m---------------------------------------------------------------------------\u001b[0m",
      "\u001b[1;31mNameError\u001b[0m                                 Traceback (most recent call last)",
      "\u001b[1;32m<ipython-input-110-f8dffc31712f>\u001b[0m in \u001b[0;36m<module>\u001b[1;34m\u001b[0m\n\u001b[0;32m     11\u001b[0m \u001b[1;31m# Store the DataFrame Row\u001b[0m\u001b[1;33m\u001b[0m\u001b[1;33m\u001b[0m\u001b[1;33m\u001b[0m\u001b[0m\n\u001b[0;32m     12\u001b[0m \u001b[1;31m# NOTE: be sure to update with your DataFrame name\u001b[0m\u001b[1;33m\u001b[0m\u001b[1;33m\u001b[0m\u001b[1;33m\u001b[0m\u001b[0m\n\u001b[1;32m---> 13\u001b[1;33m \u001b[0mhotel_info\u001b[0m \u001b[1;33m=\u001b[0m \u001b[1;33m[\u001b[0m\u001b[0minfo_box_template\u001b[0m\u001b[1;33m.\u001b[0m\u001b[0mformat\u001b[0m\u001b[1;33m(\u001b[0m\u001b[1;33m**\u001b[0m\u001b[0mrow\u001b[0m\u001b[1;33m)\u001b[0m \u001b[1;32mfor\u001b[0m \u001b[0mindex\u001b[0m\u001b[1;33m,\u001b[0m \u001b[0mrow\u001b[0m \u001b[1;32min\u001b[0m \u001b[0mnarrowed_city_df\u001b[0m\u001b[1;33m.\u001b[0m\u001b[0miterrows\u001b[0m\u001b[1;33m(\u001b[0m\u001b[1;33m)\u001b[0m\u001b[1;33m]\u001b[0m\u001b[1;33m\u001b[0m\u001b[1;33m\u001b[0m\u001b[0m\n\u001b[0m\u001b[0;32m     14\u001b[0m \u001b[0mlocations\u001b[0m \u001b[1;33m=\u001b[0m \u001b[0mhotel_df\u001b[0m\u001b[1;33m[\u001b[0m\u001b[1;33m[\u001b[0m\u001b[1;34m\"Lat\"\u001b[0m\u001b[1;33m,\u001b[0m \u001b[1;34m\"Lng\"\u001b[0m\u001b[1;33m]\u001b[0m\u001b[1;33m]\u001b[0m\u001b[1;33m\u001b[0m\u001b[1;33m\u001b[0m\u001b[0m\n",
      "\u001b[1;31mNameError\u001b[0m: name 'narrowed_city_df' is not defined"
     ]
    }
   ],
   "source": [
    "# NOTE: Do not change any of the code in this cell\n",
    "\n",
    "# Using the template add the hotel marks to the heatmap\n",
    "info_box_template = \"\"\"\n",
    "<dl>\n",
    "<dt>Name</dt><dd>{Hotel Name}</dd>\n",
    "<dt>City</dt><dd>{City}</dd>\n",
    "<dt>Country</dt><dd>{Country}</dd>\n",
    "</dl>\n",
    "\"\"\"\n",
    "# Store the DataFrame Row\n",
    "# NOTE: be sure to update with your DataFrame name\n",
    "hotel_info = [info_box_template.format(**row) for index, row in narrowed_city_df.iterrows()]\n",
    "locations = hotel_df[[\"Lat\", \"Lng\"]]"
   ]
  },
  {
   "cell_type": "code",
   "execution_count": null,
   "metadata": {},
   "outputs": [],
   "source": [
    "# Add marker layer ontop of heat map\n",
    "\n",
    "\n",
    "# Display Map"
   ]
  }
 ],
 "metadata": {
  "kernelspec": {
   "display_name": "Python 3",
   "language": "python",
   "name": "python3"
  },
  "language_info": {
   "codemirror_mode": {
    "name": "ipython",
    "version": 3
   },
   "file_extension": ".py",
   "mimetype": "text/x-python",
   "name": "python",
   "nbconvert_exporter": "python",
   "pygments_lexer": "ipython3",
   "version": "3.7.4"
  },
  "latex_envs": {
   "LaTeX_envs_menu_present": true,
   "autoclose": false,
   "autocomplete": true,
   "bibliofile": "biblio.bib",
   "cite_by": "apalike",
   "current_citInitial": 1,
   "eqLabelWithNumbers": true,
   "eqNumInitial": 1,
   "hotkeys": {
    "equation": "Ctrl-E",
    "itemize": "Ctrl-I"
   },
   "labels_anchors": false,
   "latex_user_defs": false,
   "report_style_numbering": false,
   "user_envs_cfg": false
  }
 },
 "nbformat": 4,
 "nbformat_minor": 2
}
